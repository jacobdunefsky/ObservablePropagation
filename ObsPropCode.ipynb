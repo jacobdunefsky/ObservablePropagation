{
 "cells": [
  {
   "cell_type": "markdown",
   "id": "e9e5616c-2a8c-44cb-a55d-8717d938155d",
   "metadata": {
    "jp-MarkdownHeadingCollapsed": true
   },
   "source": [
    "# Utility functions"
   ]
  },
  {
   "cell_type": "markdown",
   "id": "b328b8a3-a93f-4eec-9885-48e4733c8ffd",
   "metadata": {},
   "source": [
    "## Model hooks"
   ]
  },
  {
   "cell_type": "code",
   "execution_count": 1,
   "id": "a0a9d579-ab3c-4bb4-ba61-4389e78e6d7f",
   "metadata": {},
   "outputs": [],
   "source": [
    "from types import MethodType\n",
    "import torch\n",
    "import torch.nn as nn\n",
    "import torch.nn.functional as F\n",
    "\n",
    "import matplotlib.pyplot as plt\n",
    "import numpy as np\n",
    "plt.rcParams[\"font.family\"] = \"serif\" \n",
    "\n",
    "class AttnHack:\n",
    "    # this is a hack that allows us to get intermediate values used in attention\n",
    "    # what we're doing here is copy-and-pasting the attention code, but adding in some lines that grab\n",
    "    # the values that we want\n",
    "    # credit to https://github.com/huggingface/transformers/blob/main/src/transformers/models/gpt_neo/modeling_gpt_neo.py\n",
    "    def __init__(self, module):\n",
    "        self.original_attn_method = module._attn\n",
    "        self.module = module\n",
    "    def attach(self, out_dict):\n",
    "        def my_attn(self, query, key, value, attention_mask=None, head_mask=None):\n",
    "            # Keep the attention weights computation in fp32 to avoid overflow issues\n",
    "            query = query.to(torch.float32)\n",
    "            key = key.to(torch.float32)\n",
    "    \n",
    "            attn_weights = torch.matmul(query, key.transpose(-1, -2))\n",
    "    \n",
    "            query_length, key_length = query.size(-2), key.size(-2)\n",
    "            causal_mask = self.bias[:, :, key_length - query_length : key_length, :key_length]\n",
    "            mask_value = torch.finfo(attn_weights.dtype).min\n",
    "            # Need to be a tensor, otherwise we get error: `RuntimeError: expected scalar type float but found double`.\n",
    "            # Need to be on the same device, otherwise `RuntimeError: ..., x and y to be on the same device`\n",
    "            mask_value = torch.tensor(mask_value, dtype=attn_weights.dtype).to(attn_weights.device)\n",
    "            attn_weights = torch.where(causal_mask, attn_weights, mask_value)\n",
    "\n",
    "            out_dict['attn_raw_weights'] = attn_weights\n",
    "            out_dict['attn_mask'] = attention_mask\n",
    "            out_dict['head_mask'] = head_mask\n",
    "    \n",
    "            if attention_mask is not None:\n",
    "                # Apply the attention mask\n",
    "                attn_weights = attn_weights + attention_mask\n",
    "        \n",
    "            attn_weights = nn.functional.softmax(attn_weights, dim=-1)\n",
    "            attn_weights = attn_weights.to(value.dtype)\n",
    "            attn_weights = self.attn_dropout(attn_weights)\n",
    "    \n",
    "            # Mask heads if we want to\n",
    "            if head_mask is not None:\n",
    "                attn_weights = attn_weights * head_mask\n",
    "    \n",
    "            attn_output = torch.matmul(attn_weights, value)\n",
    "    \n",
    "            return attn_output, attn_weights\n",
    "        self.module._attn = MethodType(my_attn, self.module)\n",
    "    def remove(self):\n",
    "        self.module._attn = self.original_attn_method\n",
    "\n",
    "def attach_hooks(model):\n",
    "    hooks = []\n",
    "    out_list = {\"layers\": [ {} for l in range(len(model.transformer.h)) ]}\n",
    "    \n",
    "    def make_hook(hook_name, out_dict, is_input=False):\n",
    "        def my_hook(model, input, output):\n",
    "            if is_input:\n",
    "                out_dict[hook_name] = input[0]\n",
    "            else:\n",
    "                out_dict[hook_name] = output\n",
    "        return my_hook\n",
    "        \n",
    "    for l in range(len(model.transformer.h)):\n",
    "        hooks.append(model.transformer.h[l].register_forward_hook(\n",
    "            make_hook(\"block_out\", out_list['layers'][l])\n",
    "        ))\n",
    "        hooks.append(model.transformer.h[l].mlp.register_forward_hook(\n",
    "            make_hook(\"mlp_out\", out_list['layers'][l])\n",
    "        ))\n",
    "        hooks.append(model.transformer.h[l].mlp.register_forward_hook(\n",
    "            make_hook(\"mlp_in\", out_list['layers'][l], is_input=True)\n",
    "        ))\n",
    "        hooks.append(model.transformer.h[l].ln_2.register_forward_hook(\n",
    "            make_hook(\"ln_2_in\", out_list['layers'][l], is_input=True)\n",
    "        ))\n",
    "        hooks.append(model.transformer.h[l].attn.register_forward_hook(\n",
    "            make_hook(\"attn_in\", out_list['layers'][l], is_input=True)\n",
    "        ))\n",
    "        hooks.append(model.transformer.h[l].attn.register_forward_hook(\n",
    "            make_hook(\"attn_out\", out_list['layers'][l])\n",
    "        ))\n",
    "        hooks.append(model.transformer.h[l].attn.attention.q_proj.register_forward_hook(\n",
    "            make_hook(\"q_proj_out\", out_list['layers'][l])\n",
    "        ))\n",
    "        hooks.append(model.transformer.h[l].attn.attention.k_proj.register_forward_hook(\n",
    "            make_hook(\"k_proj_out\", out_list['layers'][l])\n",
    "        ))\n",
    "        hooks.append(model.transformer.h[l].attn.attention.v_proj.register_forward_hook(\n",
    "            make_hook(\"v_proj_out\", out_list['layers'][l])\n",
    "        ))\n",
    "        hooks.append(model.transformer.h[l].ln_1.register_forward_hook(\n",
    "            make_hook(\"ln_1_in\", out_list['layers'][l], is_input=True)\n",
    "        ))\n",
    "        # now, hook on the attention hacks\n",
    "        hack = AttnHack(model.transformer.h[l].attn.attention)\n",
    "        hack.attach(out_list['layers'][l])\n",
    "        hooks.append(hack)\n",
    "    hooks.append(model.transformer.ln_f.register_forward_hook(\n",
    "        make_hook(\"ln_f_in\", out_list, is_input=True)\n",
    "    ))\n",
    "    hooks.append(model.lm_head.register_forward_hook(\n",
    "        make_hook(\"lm_out\", out_list)\n",
    "    ))\n",
    "        \n",
    "    return out_list, hooks"
   ]
  },
  {
   "cell_type": "code",
   "execution_count": 2,
   "id": "1ae7d9d9-49ca-48ec-a1d2-cd60d5d7d957",
   "metadata": {},
   "outputs": [],
   "source": [
    "def run_with_patched_activations(model, prompt, patch_dicts, pre_tokenized=False, return_np=False, np_patch=None):\n",
    "    # patch_dicts: a list of dicts\n",
    "    # each patched activation dict has format {'layer', 'sublayer', 'token', 'patch'}\n",
    "    # currently-supported sublayers: ln_1_in, ln_2_in, attn_in, mlp_in\n",
    "\n",
    "    if np_patch is None: np_patch = return_np\n",
    "    # create and attach all hooks\n",
    "    out_list, read_hooks = attach_hooks(model)\n",
    "    write_hooks = []\n",
    "    def make_write_hook(token, patch, my_np_patch):\n",
    "        def my_hook(model, input):\n",
    "            # TODO: do we have to clone input?\n",
    "            if my_np_patch:\n",
    "                input[0][0,token,:] = torch.from_numpy(patch)\n",
    "            else:\n",
    "                input[0][0,token,:] = patch\n",
    "            return input\n",
    "        return my_hook\n",
    "    for patch_dict in patch_dicts:\n",
    "        cur_layer = model.transformer.h[patch_dict['layer']]\n",
    "        if patch_dict['sublayer'] == 'ln_1_in':\n",
    "            cur_module = cur_layer.ln_1\n",
    "        elif patch_dict['sublayer'] == 'attn_in':\n",
    "            cur_module = cur_layer.attn\n",
    "        elif patch_dict['sublayer'] == 'ln_2_in':\n",
    "            cur_module = cur_layer.ln_2\n",
    "        elif patch_dict['sublayer'] == 'mlp_in':\n",
    "            cur_module = cur_layer.mlp\n",
    "        write_hooks.append(cur_module.register_forward_pre_hook(\n",
    "            make_write_hook(patch_dict['token'], patch_dict['patch'], np_patch)\n",
    "        ))\n",
    "\n",
    "    if pre_tokenized:\n",
    "        tokens = {\"input_ids\": prompt['input_ids'].to(\"cuda:0\"), 'attention_mask': prompt['attention_mask'].to(\"cuda:0\")}\n",
    "    else:\n",
    "        tokens = tokenizer(prompt, return_tensors=\"pt\").to(\"cuda:0\")\n",
    "    model(**tokens)\n",
    "    for hook in read_hooks: hook.remove()\n",
    "    for hook in write_hooks: hook.remove()\n",
    "    if return_np:\n",
    "        out_list = embeddings_torch_to_np(out_list)\n",
    "    return out_list"
   ]
  },
  {
   "cell_type": "markdown",
   "id": "3189e2f1-fecc-42f9-9f96-ce503afb7fb2",
   "metadata": {},
   "source": [
    "## Memory efficiency"
   ]
  },
  {
   "cell_type": "code",
   "execution_count": 3,
   "id": "400108c9-7921-44a2-8b9b-bcfa9e28da88",
   "metadata": {},
   "outputs": [],
   "source": [
    "import gc\n",
    "def get_num_tensors():\n",
    "    tensors_count = 0\n",
    "    for obj in gc.get_objects():\n",
    "        try:\n",
    "            if torch.is_tensor(obj) and obj.device.type == \"cuda\":\n",
    "                tensors_count += 1\n",
    "        except:\n",
    "            pass\n",
    "    return tensors_count"
   ]
  },
  {
   "cell_type": "code",
   "execution_count": 4,
   "id": "e7839933-e29f-48ea-8da9-a234deca12cf",
   "metadata": {},
   "outputs": [],
   "source": [
    "def do_free():\n",
    "    gc.collect()\n",
    "    torch.cuda.empty_cache()\n",
    "    gc.collect()\n",
    "def free_embeddings(embeddings):\n",
    "    l = 0\n",
    "    while len(embeddings['layers']) > 0:\n",
    "        for key, val in embeddings['layers'][0].items():\n",
    "            embeddings['layers'][0][key] = None\n",
    "        embeddings['layers'][0] = None\n",
    "        del embeddings['layers'][0]\n",
    "        del key\n",
    "        del val\n",
    "    embeddings['layers'] = None\n",
    "    embeddings['ln_f_in'] = None\n",
    "    embeddings = None\n",
    "    do_free()\n",
    "def _convert_embeddings(embeddings, convert_func, free=True):\n",
    "    new_embeddings = {\"layers\": [ {} for l in range(len(model.transformer.h)) ]}\n",
    "    l = 0\n",
    "    for l in range(len(embeddings['layers'])):\n",
    "        #print(f\"Layer {l} num tensors before: {get_num_tensors()}\")\n",
    "        for key, val in embeddings['layers'][l].items():\n",
    "            if val is None:\n",
    "                new_embeddings['layers'][l][key] = None\n",
    "            elif type(val) is tuple:\n",
    "                my_l = []\n",
    "                for x in val:\n",
    "                    if type(x) is tuple:\n",
    "                        my_l.append(tuple(convert_func(y) for y in x))\n",
    "                    else:\n",
    "                        my_l.append(convert_func(x))\n",
    "                new_embeddings['layers'][l][key] = tuple( my_l )\n",
    "                while len(my_l) > 0:\n",
    "                    my_l[0] = None\n",
    "                    del my_l[0]\n",
    "                del my_l\n",
    "            else:\n",
    "                new_embeddings['layers'][l][key] = convert_func(val)\n",
    "    new_embeddings['ln_f_in'] = convert_func(embeddings['ln_f_in'])\n",
    "    new_embeddings['lm_out'] = convert_func(embeddings['lm_out'])\n",
    "    if free:\n",
    "        free_embeddings(embeddings)\n",
    "        del embeddings\n",
    "        del x, key, val\n",
    "        do_free()\n",
    "    return new_embeddings\n",
    "def embeddings_torch_to_np(embeddings, free=True):\n",
    "    return _convert_embeddings(embeddings, lambda x: x.detach().cpu().numpy(), free=free)\n",
    "def embeddings_np_to_torch(embeddings, free=True):\n",
    "    return _convert_embeddings(embeddings, lambda x: torch.from_numpy(x).to(\"cuda\"), free=free)"
   ]
  },
  {
   "cell_type": "code",
   "execution_count": 5,
   "id": "7de67b33-4b89-41e3-8760-303b63c323fb",
   "metadata": {},
   "outputs": [],
   "source": [
    "def embeddings_torch_to_cpu(embeddings):\n",
    "    new_embeddings = {\"layers\": [ {} for l in range(len(model.transformer.h)) ]}\n",
    "    l = 0\n",
    "    while len(embeddings['layers']) > 0:\n",
    "        for key, val in embeddings['layers'][0].items():\n",
    "            if val is None:\n",
    "                new_embeddings['layers'][l][key] = None\n",
    "            elif type(val) is tuple:\n",
    "                new_embeddings['layers'][l][key] = (x.detach().cpu() for x in val)\n",
    "            else:\n",
    "                new_embeddings['layers'][l][key] = val.detach().cpu()\n",
    "            embeddings['layers'][0][key] = None\n",
    "            #do_free()\n",
    "        embeddings['layers'][0] = None\n",
    "        del embeddings['layers'][0]  \n",
    "        l += 1\n",
    "    embeddings['layers'] = None\n",
    "    new_embeddings['ln_f_in'] = embeddings['ln_f_in'].detach().cpu()\n",
    "    embeddings['ln_f_in'] = None\n",
    "    embeddings = None\n",
    "    do_free()\n",
    "    return new_embeddings\n",
    "\n",
    "def embeddings_torch_to_gpu(embeddings):\n",
    "    new_embeddings = {\"layers\": [ {} for l in range(len(model.transformer.h)) ]}\n",
    "    l = 0\n",
    "    while len(embeddings['layers']) > 0:\n",
    "        for key, val in embeddings['layers'][0].items():\n",
    "            if val is None:\n",
    "                new_embeddings['layers'][l][key] = None\n",
    "            elif type(val) is tuple:\n",
    "                new_embeddings['layers'][l][key] = (x.to(\"cuda\") for x in val)\n",
    "            else:\n",
    "                new_embeddings['layers'][l][key] = val.to(\"cuda\")\n",
    "            embeddings['layers'][0][key] = None\n",
    "            #do_free()\n",
    "        embeddings['layers'][0] = None\n",
    "        del embeddings['layers'][0]\n",
    "        l += 1\n",
    "    embeddings['layers'] = None\n",
    "    new_embeddings['ln_f_in'] = embeddings['ln_f_in'].to(\"cuda\")\n",
    "    embeddings['ln_f_in'] = None\n",
    "    embeddings = None\n",
    "    do_free()\n",
    "    return new_embeddings"
   ]
  },
  {
   "cell_type": "markdown",
   "id": "138dfd4d-5a8e-4b00-b961-db8fd5892a50",
   "metadata": {},
   "source": [
    "## Range normal setup"
   ]
  },
  {
   "cell_type": "code",
   "execution_count": 6,
   "id": "27b349a0-5135-43ed-b8ad-2186efd4e125",
   "metadata": {},
   "outputs": [],
   "source": [
    "vocab_size = 50257\n",
    "import torch\n",
    "import torch.nn.functional as F\n",
    "import torch.nn as nn\n",
    "\n",
    "def make_lm_head_normal(pos_list, neg_list, normalize=False, take_first_token=False):\n",
    "    n = torch.zeros(vocab_size)\n",
    "    for tok in pos_list:\n",
    "        if not take_first_token:\n",
    "            n += F.one_hot(torch.tensor(tokenizer(tok).input_ids),vocab_size)[0]\n",
    "        else:\n",
    "            n += F.one_hot(torch.tensor(tokenizer(tok).input_ids[0]),vocab_size)\n",
    "    for tok in neg_list:\n",
    "        if not take_first_token:\n",
    "            n -= F.one_hot(torch.tensor(tokenizer(tok).input_ids),vocab_size)[0]\n",
    "        else:\n",
    "            n -= F.one_hot(torch.tensor(tokenizer(tok).input_ids[0]),vocab_size)\n",
    "    if normalize:\n",
    "        n = n/torch.linalg.norm(n)\n",
    "    return n\n",
    "\n",
    "def make_range_normal(pos_list, neg_list, normalize=False):\n",
    "    n = torch.zeros(vocab_size)\n",
    "    for tok in pos_list:\n",
    "        n += F.one_hot(torch.tensor(tokenizer(tok).input_ids),vocab_size)[0]\n",
    "    for tok in neg_list:\n",
    "        n -= F.one_hot(torch.tensor(tokenizer(tok).input_ids),vocab_size)[0]\n",
    "    print(n.shape)\n",
    "    n = n.T.to(\"cuda\", dtype=torch.float32)\n",
    "    n = model.lm_head.weight.data.T @ n\n",
    "    if normalize:\n",
    "        n = n/torch.linalg.norm(n)\n",
    "    return n"
   ]
  },
  {
   "cell_type": "markdown",
   "id": "23c11b32-75e8-41ff-baf3-647ad2944943",
   "metadata": {},
   "source": [
    "## Nonlinear approximation"
   ]
  },
  {
   "cell_type": "code",
   "execution_count": 7,
   "id": "822240d5-69c1-4748-bf55-10ca4c17ad0d",
   "metadata": {},
   "outputs": [],
   "source": [
    "import mdmm\n",
    "# find point on domain boundary closest to our starting point using mdmm constrained optimization library\n",
    "def torch_domain_boundary_proj(x_0, f, range_normal, range_affine, lr=0.01, eps=0.0001):\n",
    "    x_0 = x_0.detach()\n",
    "    x = x_0.detach().clone().to(\"cuda\")\n",
    "    x.requires_grad_(True)\n",
    "    \n",
    "    constraint = mdmm.EqConstraint(lambda: torch.dot(range_normal, f(x)-range_affine),0)\n",
    "    mdmm_module = mdmm.MDMM([constraint])\n",
    "    \n",
    "    optimizer = mdmm_module.make_optimizer([x], lr=lr)\n",
    "    \n",
    "    loss = None\n",
    "    prev_loss = None\n",
    "    while loss is None or abs(loss.item()) > eps:\n",
    "        prev_loss = loss\n",
    "        \n",
    "        loss_intermediate = torch.linalg.norm(x-x_0)**2\n",
    "        mdmm_return = mdmm_module(loss_intermediate)\n",
    "        \n",
    "        loss = mdmm_return.infs[0]**2\n",
    "        #print(prev_loss, loss)\n",
    "        \n",
    "        if prev_loss is not None and abs(prev_loss.item() - loss.item()) < eps**2: break\n",
    "            \n",
    "        optimizer.zero_grad()\n",
    "        mdmm_return.value.backward()\n",
    "        optimizer.step()\n",
    "    print(\"Final loss:\", loss.item())\n",
    "    print(eps)\n",
    "    if prev_loss is not None: print(abs(prev_loss.item() - loss.item()))\n",
    "    return x"
   ]
  },
  {
   "cell_type": "code",
   "execution_count": 8,
   "id": "75ab09a0-1244-4784-9917-2df42889ed88",
   "metadata": {},
   "outputs": [],
   "source": [
    "def domain_boundary_intersection(x_pos, x_neg, f, range_normal, range_affine, lr=0.01, eps=0.000001):\n",
    "    g = lambda t_: (range_normal.detach() @ ( f((1-t_)*x_neg.detach() + t_*x_pos.detach()) - range_affine.detach()))**2\n",
    "    \n",
    "    t = torch.Tensor([0.5]).detach().to(\"cuda\")\n",
    "    t.requires_grad_(True)\n",
    "    \n",
    "    optimizer = torch.optim.Adam([t], lr=lr)\n",
    "    \n",
    "    loss = None\n",
    "    prev_loss = None\n",
    "    while loss is None or abs(loss.item()) > eps:\n",
    "        optimizer.zero_grad()\n",
    "        prev_loss = loss\n",
    "        loss = g(t)\n",
    "        if prev_loss is not None and abs(prev_loss.item() - loss.item()) < eps**2: break\n",
    "        loss.backward()\n",
    "        optimizer.step()\n",
    "        with torch.no_grad():\n",
    "            t[:] = torch.clamp(t, min=0, max=1)\n",
    "    print(\"Final loss:\", loss.item())\n",
    "    print(\"Final t:\", t)\n",
    "    if prev_loss is not None: print(abs(prev_loss.item() - loss.item()))\n",
    "    return (1-t)*x_neg + t*x_pos"
   ]
  },
  {
   "cell_type": "code",
   "execution_count": 9,
   "id": "9b00c8cb-272e-49f8-a2a4-f6190c4ab9ad",
   "metadata": {},
   "outputs": [],
   "source": [
    "def get_tangent_plane_given_point(x_0_new, f, range_normal, range_affine):\n",
    "    # now, find the tangent hyperplane at x_0_new\n",
    "    x_0_new.requires_grad_(True)\n",
    "    g = lambda x: f(x) @ range_normal - (range_normal @ range_affine)\n",
    "    grad = torch.autograd.grad(g(x_0_new), x_0_new)\n",
    "    \n",
    "    return grad[0]"
   ]
  },
  {
   "cell_type": "code",
   "execution_count": 10,
   "id": "78ebee1b-6625-4bd5-abaf-1f3279b66926",
   "metadata": {},
   "outputs": [],
   "source": [
    "def get_grad(x0, f):\n",
    "    x0.requires_grad_(True)\n",
    "    grad = torch.autograd.grad(f(x0), x0)    \n",
    "    return grad[0]"
   ]
  },
  {
   "cell_type": "code",
   "execution_count": 11,
   "id": "6d330c7f-88b5-4059-958b-ce5e32912376",
   "metadata": {},
   "outputs": [],
   "source": [
    "def get_normal_and_affine(x_0, f, range_normal, range_affine, lr=0.01, eps=0.0001):\n",
    "    affine = torch_domain_boundary_proj(x_0, f, range_normal, range_affine, lr=lr, eps=eps)\n",
    "    normal = get_tangent_plane_given_point(affine, f, range_normal, range_affine)\n",
    "    return normal, affine"
   ]
  },
  {
   "cell_type": "code",
   "execution_count": 12,
   "id": "8e0fd00a-2ee0-4093-a0bc-381bd2eafa5c",
   "metadata": {},
   "outputs": [],
   "source": [
    "def mean_absolute_loss(f, embeddings_list, layer, sublayer, dom_normal, dom_affine, range_normal, range_affine, token=-1):\n",
    "    avg_diff_sum = 0\n",
    "    avg_diff_count = 0\n",
    "    for np_embeddings in embeddings_list:\n",
    "        embeddings = embeddings_np_to_torch(np_embeddings, free=False)\n",
    "        if layer is None:\n",
    "            my_point = embeddings[sublayer][:, token, :]\n",
    "        else:\n",
    "            my_point = embeddings['layers'][layer][sublayer][:, token, :]\n",
    "        with torch.no_grad():\n",
    "            avg_diff_sum += torch.abs(( (f(my_point) - range_affine) @ range_normal) - ((my_point-dom_affine) @ dom_normal)).item()\n",
    "        avg_diff_count += 1\n",
    "        free_embeddings(embeddings)\n",
    "    return avg_diff_sum/avg_diff_count"
   ]
  },
  {
   "cell_type": "code",
   "execution_count": 13,
   "id": "dfe17a26-ffaa-4403-a4e5-3bb52588fe44",
   "metadata": {},
   "outputs": [],
   "source": [
    "def get_attention_scores_for_single_token(embeddings, token):\n",
    "    with torch.no_grad():\n",
    "        all_scores = []\n",
    "        for layer in range(len(embeddings['layers'])):\n",
    "            scores = embeddings['layers'][layer]['attn_out'][2] #(0, head, dst_token, src_token)\n",
    "            scores = scores[0, :, token, token]\n",
    "            all_scores.append(scores)\n",
    "        all_scores = torch.stack(all_scores)\n",
    "    return all_scores #(layer, head)"
   ]
  },
  {
   "cell_type": "code",
   "execution_count": 14,
   "id": "0f4fb6c6-1415-4f16-a33a-ca799aefa450",
   "metadata": {},
   "outputs": [],
   "source": [
    "def single_token_ov_circuit(model, embeddings, token, mlp_layers, attn_layers, x, range_normal=None, do_print=False):\n",
    "    mlp_layer_idx = 0\n",
    "    attn_layer_idx = 0\n",
    "\n",
    "    mlp_layers = list(sorted(mlp_layers))\n",
    "    attn_layers = list(sorted(attn_layers))\n",
    "\n",
    "    mlp_layer = mlp_layers[mlp_layer_idx]\n",
    "    attn_layer = attn_layers[attn_layer_idx]\n",
    "\n",
    "    token_attn_scores = get_attention_scores_for_single_token(embeddings, token)\n",
    "    \n",
    "    hidden_states = x\n",
    "    while True:\n",
    "        try:\n",
    "            mlp_layer = mlp_layers[mlp_layer_idx]\n",
    "        except:\n",
    "            mlp_layer = None\n",
    "        \n",
    "        try:\n",
    "            attn_layer = attn_layers[attn_layer_idx]\n",
    "        except:\n",
    "            attn_layer = None\n",
    "\n",
    "        if mlp_layer is None and attn_layer is None:\n",
    "            if range_normal is not None: return hidden_states @ range_normal\n",
    "            return hidden_states\n",
    "        if mlp_layer is None or (attn_layer is not None and attn_layer <= mlp_layer):\n",
    "            if do_print:\n",
    "                print(f\"attn{attn_layer} ====\")\n",
    "                print(f\"\\tattn_scores: {token_attn_scores[attn_layer]}\")\n",
    "            # do attention\n",
    "            residual = hidden_states\n",
    "            hidden_states = model.transformer.h[attn_layer].ln_1(hidden_states)\n",
    "            with torch.no_grad():\n",
    "                attn_module = model.transformer.h[attn_layer].attn.attention\n",
    "                v_proj = attn_module.v_proj.weight\n",
    "                o_proj = attn_module.out_proj.weight\n",
    "                num_heads = attn_module.num_heads\n",
    "                head_dim = attn_module.head_dim\n",
    "\n",
    "                combined_ov_mat = torch.zeros(num_heads*head_dim, num_heads*head_dim).to(\"cuda\")\n",
    "\n",
    "                for head in range(num_heads):\n",
    "                    combined_ov_mat += token_attn_scores[attn_layer, head]\\\n",
    "                        * get_ov_mat_for_head(v_proj, o_proj, num_heads, head_dim, head)\n",
    "            hidden_states = combined_ov_mat @ hidden_states\n",
    "            hidden_states = hidden_states + residual\n",
    "            attn_layer_idx += 1\n",
    "            if do_print: print(f\"\\tafter attn{attn_layer}: {hidden_states @ range_normal}\")\n",
    "        if attn_layer is None or (mlp_layer is not None and mlp_layer < attn_layer):\n",
    "            # do mlp\n",
    "            if do_print: print(f\"mlp{mlp_layer} ====\")\n",
    "            residual = hidden_states\n",
    "            hidden_states = model.transformer.h[mlp_layer].ln_2(hidden_states)\n",
    "            hidden_states = model.transformer.h[mlp_layer].mlp(hidden_states)\n",
    "            hidden_states = hidden_states + residual\n",
    "            mlp_layer_idx += 1\n",
    "            if do_print: print(f\"\\tafter mlp{mlp_layer}: {hidden_states @ range_normal}\")\n",
    "    if range_normal is not None: return hidden_states @ range_normal\n",
    "    return hidden_states    "
   ]
  },
  {
   "cell_type": "code",
   "execution_count": 15,
   "id": "31838de8-19bb-4ad0-b378-199cfa287afb",
   "metadata": {},
   "outputs": [],
   "source": [
    "def ov_path(model, embeddings, path, x, range_normal=None, do_print=False):    \n",
    "    hidden_states = x\n",
    "    for i, component in enumerate(path):\n",
    "        layer = component['layer']\n",
    "        sublayer = component['sublayer']\n",
    "        token = component['token']\n",
    "        if sublayer == 'attn':\n",
    "            if i == len(path)-1:\n",
    "                next_token = -1\n",
    "            else:\n",
    "                next_token = path[i+1]['token']\n",
    "            token_attn_scores = embeddings['layers'][layer]['attn_out'][2] #(0, head, dst_token, src_token)\n",
    "            token_attn_scores = token_attn_scores[0, :, next_token, token]\n",
    "            if do_print:\n",
    "                print(f\"attn{layer} ====\")\n",
    "                print(f\"\\tattn_scores: {token_attn_scores}\")\n",
    "            # do attention\n",
    "            residual = hidden_states\n",
    "            hidden_states = model.transformer.h[layer].ln_1(hidden_states)\n",
    "            with torch.no_grad():\n",
    "                attn_module = model.transformer.h[layer].attn.attention\n",
    "                v_proj = attn_module.v_proj.weight\n",
    "                o_proj = attn_module.out_proj.weight\n",
    "                num_heads = attn_module.num_heads\n",
    "                head_dim = attn_module.head_dim\n",
    "\n",
    "                combined_ov_mat = torch.zeros(num_heads*head_dim, num_heads*head_dim).to(\"cuda\")\n",
    "\n",
    "                if type(component['head']) == list:\n",
    "                    for head in component['head']:\n",
    "                        combined_ov_mat += token_attn_scores[head]\\\n",
    "                            * get_ov_mat_for_head(v_proj, o_proj, num_heads, head_dim, head)\n",
    "                elif component['head'] == -1:\n",
    "                    for head in range(num_heads):\n",
    "                        combined_ov_mat += token_attn_scores[head]\\\n",
    "                            * get_ov_mat_for_head(v_proj, o_proj, num_heads, head_dim, head)\n",
    "                else:\n",
    "                    head = component['head']\n",
    "                    combined_ov_mat = token_attn_scores[head]\\\n",
    "                            * get_ov_mat_for_head(v_proj, o_proj, num_heads, head_dim, head)\n",
    "            hidden_states = combined_ov_mat @ hidden_states\n",
    "            hidden_states = hidden_states + residual\n",
    "            if do_print: print(f\"\\tafter attn{layer}: {hidden_states @ range_normal}\")\n",
    "        elif sublayer == 'mlp':\n",
    "            # do mlp\n",
    "            if do_print: print(f\"mlp{layer} ====\")\n",
    "            residual = hidden_states\n",
    "            hidden_states = model.transformer.h[layer].ln_2(hidden_states)\n",
    "            hidden_states = model.transformer.h[layer].mlp(hidden_states)\n",
    "            hidden_states = hidden_states + residual\n",
    "            if do_print: print(f\"\\tafter mlp{layer}: {hidden_states @ range_normal}\")\n",
    "    if range_normal is not None: return hidden_states @ range_normal\n",
    "    return hidden_states    "
   ]
  },
  {
   "cell_type": "markdown",
   "id": "3c1ce95e-405b-4187-aad6-bec70f583c21",
   "metadata": {},
   "source": [
    "## Layer decomposition"
   ]
  },
  {
   "cell_type": "code",
   "execution_count": 16,
   "id": "11c87add-899f-45a2-9ab1-c79aede2d9f0",
   "metadata": {},
   "outputs": [],
   "source": [
    "def decompose_layer_mlp(layer, embeddings_pos, embeddings_neg, token_idx, range_normal):\n",
    "    mlp_y_pos = embeddings_pos['layers'][layer]['mlp_out'][0, token_idx, :]\n",
    "    mlp_y_neg = embeddings_neg['layers'][layer]['mlp_out'][0, token_idx, :]\n",
    "    mlp_dot_pos = range_normal @ mlp_y_pos\n",
    "    mlp_dot_neg = range_normal @ mlp_y_neg\n",
    "    \n",
    "    mlp_resid_pos = embeddings_pos['layers'][layer]['ln_2_in'][0, token_idx, :]\n",
    "    mlp_resid_neg = embeddings_neg['layers'][layer]['ln_2_in'][0, token_idx, :]\n",
    "    mlp_resid_dot_pos = range_normal @ mlp_resid_pos\n",
    "    mlp_resid_dot_neg = range_normal @ mlp_resid_neg\n",
    "\n",
    "    return {\n",
    "        \"layer\": f\"{layer}_mlp\",\n",
    "        \"pos\": mlp_dot_pos.item(), \"neg\": mlp_dot_neg.item(), \"resid_pos\": mlp_resid_dot_pos.item(), \"resid_neg\": mlp_resid_dot_neg.item(),\n",
    "        \"score\": mlp_dot_pos.item()-mlp_dot_neg.item(), \"resid_score\": mlp_resid_dot_pos.item()-mlp_resid_dot_neg.item()\n",
    "    }\n",
    "\n",
    "def decompose_layer_attn(layer, embeddings_pos, embeddings_neg, token_idx, range_normal):\n",
    "    attn_y_pos = embeddings_pos['layers'][layer]['attn_out'][0][0, token_idx, :]\n",
    "    attn_dot_pos = range_normal @ attn_y_pos\n",
    "    attn_resid_pos = embeddings_pos['layers'][layer]['ln_1_in'][0, token_idx, :]\n",
    "    attn_resid_dot_pos = range_normal @ attn_resid_pos\n",
    "\n",
    "    if embeddings_neg is None:\n",
    "        attn_y_neg = torch.zeros(attn_y_pos.shape).to(\"cuda\")\n",
    "        attn_dot_neg = torch.zeros(attn_dot_pos.shape).to(\"cuda\")\n",
    "        attn_resid_neg = torch.zeros(attn_resid_pos.shape).to(\"cuda\")\n",
    "        attn_resid_dot_neg = torch.zeros(attn_resid_dot_pos.shape).to(\"cuda\")\n",
    "    else:\n",
    "        attn_y_neg = embeddings_neg['layers'][layer]['attn_out'][0][0, token_idx, :]\n",
    "        attn_dot_neg = range_normal @ attn_y_neg\n",
    "        attn_resid_neg = embeddings_neg['layers'][layer]['ln_1_in'][0, token_idx, :]\n",
    "        attn_resid_dot_neg = range_normal @ attn_resid_neg\n",
    "\n",
    "    return {\n",
    "        \"layer\": f\"{layer}_attn\",\n",
    "        \"pos\": attn_dot_pos.item(), \"neg\": attn_dot_neg.item(), \"resid_pos\": attn_resid_dot_pos.item(), \"resid_neg\": attn_resid_dot_neg.item(),\n",
    "        \"score\": attn_dot_pos.item()-attn_dot_neg.item(), \"resid_score\": attn_resid_dot_pos.item()-attn_resid_dot_neg.item()\n",
    "    }\n",
    "\n",
    "def decompose_embedding(embeddings_pos, embeddings_neg, token, range_normal):\n",
    "    embedding_contrib_pos = embeddings_pos['layers'][0]['ln_1_in'][0,token,:]@range_normal\n",
    "    if embeddings_neg is None:\n",
    "        embedding_contrib_neg = torch.zeros(1).to(\"cuda\")\n",
    "    else:\n",
    "        embedding_contrib_neg = embeddings_neg['layers'][0]['ln_1_in'][0,token,:]@range_normal\n",
    "    return {\n",
    "        \"layer\": f\"embedding\",\n",
    "        \"pos\": embedding_contrib_pos.item(), \"neg\": embedding_contrib_neg.item(), \n",
    "        \"score\": embedding_contrib_pos.item()-embedding_contrib_neg.item()\n",
    "    }"
   ]
  },
  {
   "cell_type": "code",
   "execution_count": 17,
   "id": "1b50abb7-b537-410e-b4da-a4e14193029c",
   "metadata": {},
   "outputs": [],
   "source": [
    "def decompose_layer_wrt_attn(layer, embeddings_pos, embeddings_neg, token_idx, range_normal, model, attn_layer, is_embedding=False, is_mlp=False, use_ln_2=False):\n",
    "    if is_embedding:\n",
    "        y_pos = embeddings_pos['layers'][0]['ln_1_in'][0,token_idx,:]\n",
    "    else:\n",
    "        y_pos = embeddings_pos['layers'][layer][f'{\"mlp\" if is_mlp else \"attn\"}_out']\n",
    "        if not is_mlp: y_pos = y_pos[0]\n",
    "        y_pos = y_pos[0, token_idx, :]\n",
    "    if embeddings_neg is None:\n",
    "        y_neg = torch.zeros(y_pos.shape).to(\"cuda\")\n",
    "    else:\n",
    "        if is_embedding:\n",
    "            y_neg = embeddings_neg['layers'][0]['ln_1_in'][0,token_idx,:]\n",
    "        else:\n",
    "            y_neg = embeddings_neg['layers'][layer][f'{\"mlp\" if is_mlp else \"attn\"}_out']\n",
    "            if not is_mlp: y_neg = y_neg[0]\n",
    "            y_neg = y_neg[0, token_idx, :]\n",
    "\n",
    "    if use_ln_2:\n",
    "        pre_attn_resid_pos = embeddings_pos['layers'][attn_layer]['ln_2_in'][0, token_idx, :]\n",
    "    else:\n",
    "        pre_attn_resid_pos = embeddings_pos['layers'][attn_layer]['ln_1_in'][0, token_idx, :]\n",
    "    pre_attn_resid_neg = pre_attn_resid_pos - y_pos + y_neg\n",
    "\n",
    "    if use_ln_2: ln = model.transformer.h[attn_layer].ln_2\n",
    "    else: ln = model.transformer.h[attn_layer].ln_1\n",
    "    \n",
    "    dot_pos = range_normal @ ln(pre_attn_resid_pos)\n",
    "    dot_neg = range_normal @ ln(pre_attn_resid_neg)\n",
    "\n",
    "    return {\n",
    "        \"layer\": f'{layer}_{\"mlp\" if is_mlp else \"attn\"}' if not is_embedding else 'embedding',\n",
    "        \"pos\": dot_pos.item(), \"neg\": dot_neg.item(), \"score\": dot_pos.item()-dot_neg.item()\n",
    "    }"
   ]
  },
  {
   "cell_type": "code",
   "execution_count": 18,
   "id": "ab26b1b7-a8e4-4b8a-9c77-5523afd852a3",
   "metadata": {},
   "outputs": [],
   "source": [
    "def decompose_layers(embeddings_pos, embeddings_neg, token_idx, range_normal, all_tokens=False):\n",
    "    retval = []\n",
    "    num_tokens = embeddings_pos['layers'][-1]['ln_1_in'].shape[1]\n",
    "    for layer in range(len(embeddings_pos['layers'])):\n",
    "        if not all_tokens:\n",
    "            retval.append(decompose_layer_attn(layer, embeddings_pos, embeddings_neg, token_idx, range_normal))\n",
    "            retval.append(decompose_layer_mlp(layer, embeddings_pos, embeddings_neg, token_idx, range_normal))\n",
    "        else:\n",
    "            attn_dict = {\n",
    "                \"layer\": f\"{layer}_attn\",\n",
    "                \"pos\": 0, \"neg\": 0, \"resid_pos\": 0, \"resid_neg\": 0,\n",
    "                \"score\": 0, \"resid_score\": 0\n",
    "            }\n",
    "            for token in range(num_tokens):\n",
    "                cur_attn_dict = decompose_layer_attn(layer, embeddings_pos, embeddings_neg, token, range_normal)\n",
    "                attn_dict['pos'] += cur_attn_dict['pos']\n",
    "                attn_dict['neg'] += cur_attn_dict['neg']\n",
    "                attn_dict['resid_pos'] += cur_attn_dict['resid_pos']\n",
    "                attn_dict['resid_neg'] += cur_attn_dict['resid_neg']\n",
    "            attn_dict['score'] = attn_dict['pos'] - attn_dict['neg']\n",
    "            attn_dict['resid_score'] = attn_dict['resid_pos'] - attn_dict['resid_neg']\n",
    "            retval.append(attn_dict)\n",
    "\n",
    "            mlp_dict = {\n",
    "                \"layer\": f\"{layer}_mlp\",\n",
    "                \"pos\": 0, \"neg\": 0, \"resid_pos\": 0, \"resid_neg\": 0,\n",
    "                \"score\": 0, \"resid_score\": 0\n",
    "            }\n",
    "            for token in range(num_tokens):\n",
    "                cur_mlp_dict = decompose_layer_mlp(layer, embeddings_pos, embeddings_neg, token, range_normal)\n",
    "                mlp_dict['pos'] += cur_mlp_dict['pos']\n",
    "                mlp_dict['neg'] += cur_mlp_dict['neg']\n",
    "                mlp_dict['resid_pos'] += cur_mlp_dict['resid_pos']\n",
    "                mlp_dict['resid_neg'] += cur_mlp_dict['resid_neg']\n",
    "            mlp_dict['score'] = mlp_dict['pos'] - mlp_dict['neg']\n",
    "            mlp_dict['resid_score'] = mlp_dict['resid_pos'] - mlp_dict['resid_neg']\n",
    "            retval.append(mlp_dict)\n",
    "    if not all_tokens:\n",
    "        retval.append(decompose_embedding(embeddings_pos, embeddings_neg, token_idx, range_normal))\n",
    "    else:\n",
    "        embedding_dict = {\n",
    "            \"layer\": \"embedding\",\n",
    "            \"pos\": 0, \"neg\": 0, \"score\": 0\n",
    "        }\n",
    "        for token in range(num_tokens):\n",
    "            cur_embedding_dict = decompose_layer_embedding(embeddings_pos, embeddings_neg, token, range_normal)\n",
    "            embedding_dict['pos'] += cur_embedding_dict['pos']\n",
    "            embedding_dict['neg'] += cur_embedding_dict['neg']\n",
    "        embedding_dict['score'] = embedding_dict['pos'] - embedding_dict['neg']\n",
    "        retval.append(embedding_dict)\n",
    "    return retval\n",
    "    \n",
    "def decompose_layers_wrt_attn(embeddings_pos, embeddings_neg, token_idx, range_normal, model, attn_layer, all_tokens=False, use_ln_2=False):\n",
    "    retval = []\n",
    "    num_tokens = embeddings_pos['layers'][-1]['ln_1_in'].shape[1]\n",
    "    for layer in range(attn_layer+1):\n",
    "        if not all_tokens:\n",
    "            if layer != attn_layer or use_ln_2:\n",
    "                retval.append(decompose_layer_wrt_attn(layer, embeddings_pos, embeddings_neg, token_idx, range_normal, model=model, attn_layer=attn_layer, is_mlp=False, use_ln_2=use_ln_2))\n",
    "            if layer != attn_layer: \n",
    "                retval.append(decompose_layer_wrt_attn(layer, embeddings_pos, embeddings_neg, token_idx, range_normal, model=model, attn_layer=attn_layer, is_mlp=True, use_ln_2=use_ln_2))\n",
    "        else:\n",
    "            if layer != attn_layer or use_ln_2:\n",
    "                attn_dict = {\n",
    "                    \"layer\": f\"{layer}_attn\",\n",
    "                    \"pos\": 0, \"neg\": 0,\n",
    "                    \"score\": 0\n",
    "                }\n",
    "                for token in range(num_tokens):\n",
    "                    cur_attn_dict = decompose_layer_wrt_attn(layer, embeddings_pos, embeddings_neg, token_idx, range_normal, model=model, attn_layer=attn_layer, is_mlp=False, use_ln_2=use_ln_2)\n",
    "                    attn_dict['pos'] += cur_attn_dict['pos']\n",
    "                    attn_dict['neg'] += cur_attn_dict['neg']\n",
    "                attn_dict['score'] = attn_dict['pos'] - attn_dict['neg']\n",
    "                retval.append(attn_dict)\n",
    "            \n",
    "            if layer != attn_layer:\n",
    "                mlp_dict = {\n",
    "                    \"layer\": f\"{layer}_mlp\",\n",
    "                    \"pos\": 0, \"neg\": 0,\n",
    "                    \"score\": 0\n",
    "                }\n",
    "                for token in range(num_tokens):\n",
    "                    cur_mlp_dict = decompose_layer_wrt_attn(layer, embeddings_pos, embeddings_neg, token_idx, range_normal, model=model, attn_layer=attn_layer, is_mlp=True, use_ln_2=use_ln_2)\n",
    "                    mlp_dict['pos'] += cur_mlp_dict['pos']\n",
    "                    mlp_dict['neg'] += cur_mlp_dict['neg']\n",
    "                mlp_dict['score'] = mlp_dict['pos'] - mlp_dict['neg']\n",
    "                retval.append(mlp_dict)\n",
    "    if not all_tokens:\n",
    "        retval.append(decompose_layer_wrt_attn(layer, embeddings_pos, embeddings_neg, token_idx, range_normal, model=model, attn_layer=attn_layer, is_embedding=True, use_ln_2=use_ln_2))\n",
    "    else:\n",
    "        embedding_dict = {\n",
    "            \"layer\": \"embedding\",\n",
    "            \"pos\": 0, \"neg\": 0, \"score\": 0\n",
    "        }\n",
    "        for token in range(num_tokens):\n",
    "            cur_embedding_dict = decompose_layer_wrt_attn(layer, embeddings_pos, embeddings_neg, token_idx, range_normal, model=model, attn_layer=attn_layer, is_embedding=True, use_ln_2=use_ln_2)\n",
    "            embedding_dict['pos'] += cur_embedding_dict['pos']\n",
    "            embedding_dict['neg'] += cur_embedding_dict['neg']\n",
    "        embedding_dict['score'] = embedding_dict['pos'] - embedding_dict['neg']\n",
    "        retval.append(embedding_dict)\n",
    "    return retval"
   ]
  },
  {
   "cell_type": "code",
   "execution_count": 19,
   "id": "66370818-06af-4c08-8225-dd8244f2b9a3",
   "metadata": {},
   "outputs": [],
   "source": [
    "def decompose_layers_wrt_attn_token_set(embeddings_pos, embeddings_neg, tokens, range_normal, model, attn_layer, use_ln_2=False):\n",
    "    num_tokens = embeddings_pos['layers'][-1]['ln_1_in'].shape[1]\n",
    "    if tokens is None:\n",
    "        tokens = list(range(num_tokens))\n",
    "    total_list = []\n",
    "    for token in tokens:\n",
    "        cur_list = decompose_layers_wrt_attn(\n",
    "            embeddings_pos, embeddings_neg, token, range_normal, model, attn_layer, use_ln_2=use_ln_2, all_tokens=False)\n",
    "        for i in range(len(cur_list)):\n",
    "            cur_list[i]['dst_token'] = token\n",
    "        total_list += cur_list\n",
    "    return total_list"
   ]
  },
  {
   "cell_type": "code",
   "execution_count": 20,
   "id": "4cecc0af-9b46-4975-8b32-7ac494522d01",
   "metadata": {},
   "outputs": [],
   "source": [
    "def sort_decomposed_layers(decomposed): return sorted(decomposed, key=lambda x: x['score'], reverse=True)"
   ]
  },
  {
   "cell_type": "code",
   "execution_count": 21,
   "id": "87874abe-2a53-4681-a5a6-6786fe2cbc28",
   "metadata": {},
   "outputs": [],
   "source": [
    "import numpy as np\n",
    "def plot_decomposed_layers(decomposed):\n",
    "    fill_xs = (np.sort(list(range(len(decomposed)))*2)-0.5)/2\n",
    "    fill_where = (np.arange(len(decomposed)*2)-1)%4<2\n",
    "    fig, ax = plt.subplots()\n",
    "    ax.plot(np.arange(len(decomposed))/2, [x['score'] for x in decomposed], label=\"Sublayer score\")\n",
    "    try:\n",
    "        ax.plot(np.arange(len(decomposed))/2, [x['resid_score'] for x in decomposed], label=\"Residual score\")\n",
    "    except KeyError: pass\n",
    "    ax.fill_between(fill_xs, ax.get_ylim()[0], ax.get_ylim()[1], where=fill_where, alpha=0.2, color='red', label=\"Attention sublayer\")\n",
    "    old_xlim = ax.get_xlim()\n",
    "    ax.plot(old_xlim, [0,0], color='black')\n",
    "    ax.set_xlim(old_xlim)\n",
    "    ax.legend()\n",
    "    plt.show()"
   ]
  },
  {
   "cell_type": "markdown",
   "id": "939933ed-d6f8-44b6-9990-684ceed95182",
   "metadata": {},
   "source": [
    "## Interpreting through attention"
   ]
  },
  {
   "cell_type": "code",
   "execution_count": 22,
   "id": "ca6da0ae-2d25-49ee-8f2c-502638f7348d",
   "metadata": {},
   "outputs": [],
   "source": [
    "def split_mat_heads(tensor, num_heads, attn_head_size):\n",
    "    # code stolen (with slight modification) from Huggingface GPT-Neo-1.3b repo\n",
    "    new_shape = tensor.size()[:-1] + (num_heads, attn_head_size)\n",
    "    tensor = tensor.view(new_shape)\n",
    "    return tensor.permute(1,0,2)  # (head, seq_length, head_features)"
   ]
  },
  {
   "cell_type": "code",
   "execution_count": 23,
   "id": "9dbb7812-ab41-40a5-bd8c-eb2c1690c841",
   "metadata": {},
   "outputs": [],
   "source": [
    "def get_dots_per_head_and_token(i, attn_module, scores, split_weights, split_vals, grad):\n",
    "    dots = torch.zeros((attn_module.num_heads, scores.shape[-1])).to(\"cuda\", dtype=torch.float32)\n",
    "    # couldn't think of an easy way to vectorize this\n",
    "    for head in range(attn_module.num_heads):\n",
    "        for j in range(scores.shape[-1]):\n",
    "            dots[head, j] = torch.dot(grad, split_weights[head] @ split_vals[0,head,j,:])\n",
    "    return dots"
   ]
  },
  {
   "cell_type": "code",
   "execution_count": 24,
   "id": "7e552b9d-438d-4a7f-b4a1-a926493cb9a4",
   "metadata": {},
   "outputs": [],
   "source": [
    "def get_v_proj_for_head(v_proj, head_dim, head):\n",
    "    return v_proj[head*head_dim:(head+1)*head_dim]\n",
    "def get_ov_mat_for_head(v_proj, o_proj, num_heads, head_dim, head):\n",
    "    o_proj_head = split_mat_heads(o_proj, num_heads, head_dim)[head]\n",
    "    v_proj_head = v_proj[head*head_dim:(head+1)*head_dim]\n",
    "    return o_proj_head @ v_proj_head"
   ]
  },
  {
   "cell_type": "code",
   "execution_count": 25,
   "id": "ee6834fa-2d79-49f8-8c25-a02177bce327",
   "metadata": {},
   "outputs": [],
   "source": [
    "def get_contribs(model, embeddings, layer, token_idx, range_normal):\n",
    "    attn_module = model.transformer.h[layer].attn.attention\n",
    "    attn_split_weights = split_mat_heads(attn_module.out_proj.weight, attn_module.num_heads, attn_module.head_dim)\n",
    "    attn_split_vals = attn_module._split_heads(embeddings['layers'][layer]['v_proj_out'], attn_module.num_heads, attn_module.head_dim)\n",
    "    attn_scores = embeddings['layers'][layer]['attn_out'][2]\n",
    "    attn_dots = get_dots_per_head_and_token(token_idx, attn_module, attn_scores, attn_split_weights, attn_split_vals, range_normal)\n",
    "    attn_contribs = attn_dots * attn_scores[0, :, token_idx, :]\n",
    "    attn_contribs_list = []\n",
    "    for head, row in enumerate(attn_contribs):\n",
    "        for j, item in enumerate(row):\n",
    "            attn_contribs_list.append((item.item(), attn_dots[head,j].item(), attn_scores[0,head,token_idx,j].item(), head, j))\n",
    "    attn_contribs_list = sorted(attn_contribs_list, key=lambda x: abs(x[0]), reverse=True)\n",
    "    return attn_contribs, attn_contribs_list\n",
    "\n",
    "def get_contribs_per_head_token_naive(model, embeddings_pos, embeddings_neg, layer, token_idx, range_normal, range_layer=None, use_ln_2=False):\n",
    "    attn_module = model.transformer.h[layer].attn.attention\n",
    "    attn_split_weights = split_mat_heads(attn_module.out_proj.weight, attn_module.num_heads, attn_module.head_dim)\n",
    "\n",
    "    c = 1\n",
    "    if not (range_layer is None): \n",
    "        c = get_LN_constant(model, embeddings_pos, embeddings_neg, layer, token_idx, range_normal, range_layer, use_ln_2=use_ln_2)\n",
    "    \n",
    "    attn_split_vals_pos = attn_module._split_heads(embeddings_pos['layers'][layer]['v_proj_out'], attn_module.num_heads, attn_module.head_dim)\n",
    "    attn_scores_pos = embeddings_pos['layers'][layer]['attn_out'][2]\n",
    "    attn_dots_pos = get_dots_per_head_and_token(token_idx, attn_module, attn_scores_pos, attn_split_weights, attn_split_vals_pos, range_normal)*c\n",
    "    attn_contribs_pos = attn_dots_pos * attn_scores_pos[0, :, token_idx, :]\n",
    "\n",
    "    if embeddings_neg is None:\n",
    "        # zero ablation\n",
    "        attn_split_vals_neg = torch.zeros(attn_split_vals_pos.shape).to(\"cuda\")\n",
    "        attn_scores_neg =  torch.zeros(attn_scores_pos.shape).to(\"cuda\")\n",
    "        attn_dots_neg =  torch.zeros(attn_contribs_pos.shape).to(\"cuda\")\n",
    "        attn_contribs_neg =  torch.zeros(attn_contribs_pos.shape).to(\"cuda\")\n",
    "    else:\n",
    "        attn_split_vals_neg = attn_module._split_heads(embeddings_neg['layers'][layer]['v_proj_out'], attn_module.num_heads, attn_module.head_dim)\n",
    "        attn_scores_neg = embeddings_neg['layers'][layer]['attn_out'][2]\n",
    "        attn_dots_neg = get_dots_per_head_and_token(token_idx, attn_module, attn_scores_neg, attn_split_weights, attn_split_vals_neg, range_normal)*c\n",
    "        attn_contribs_neg = attn_dots_neg * attn_scores_neg[0, :, token_idx, :]\n",
    "\n",
    "    attn_contribs = attn_contribs_pos - attn_contribs_neg\n",
    "    attn_contribs_list = []\n",
    "    for head, row in enumerate(attn_contribs):\n",
    "        for j, item in enumerate(row):\n",
    "            attn_contribs_list.append({\n",
    "                \"head\": head, \"token\": j, \"total_contrib\": item.item(), \"layer\": layer,\n",
    "                \"pos_contrib\": attn_contribs_pos[head,j].item(), \"pos_score\": attn_scores_pos[0,head,token_idx,j].item(), \"pos_dot\": attn_dots_pos[head,j].item(), \n",
    "                \"neg_contrib\": attn_contribs_neg[head,j].item(), \"neg_score\": attn_scores_neg[0,head,token_idx,j].item(), \"neg_dot\": attn_dots_neg[head,j].item()\n",
    "            })\n",
    "    attn_contribs_list = sorted(attn_contribs_list, key=lambda x: abs(x['total_contrib']), reverse=True)\n",
    "    return attn_contribs, attn_contribs_list"
   ]
  },
  {
   "cell_type": "code",
   "execution_count": 26,
   "id": "16aa69b2-4b11-43b0-87da-baa947787fab",
   "metadata": {},
   "outputs": [],
   "source": [
    "def get_LN_constant(model, embeddings_pos, embeddings_neg, layer, token_idx, range_normal, range_layer, use_ln_2=False):\n",
    "    good_score = decompose_layer_wrt_attn(layer, embeddings_pos, embeddings_neg, token_idx, range_normal, model, range_layer, is_mlp=False, use_ln_2=use_ln_2)['score']\n",
    "    bad_score = decompose_layer_attn(layer, embeddings_pos, embeddings_neg, token_idx, range_normal)['score']\n",
    "    return good_score/bad_score\n",
    "\n",
    "def get_LN_constant_across_tokens(model, embeddings_pos, embeddings_neg, layer, range_normal, range_layer, use_ln_2=False):\n",
    "    num_tokens = embeddings_pos['layers'][layer]['attn_in'].shape[1]\n",
    "    bad_scores = [decompose_layer_attn(layer, embeddings_pos, embeddings_neg, token_idx, range_normal)['score'] for token_idx in range(num_tokens)]\n",
    "    bad_score_idx = np.argmax(bad_scores)\n",
    "    bad_score = bad_scores[bad_score_idx]\n",
    "    good_score = decompose_layer_wrt_attn(layer, embeddings_pos, embeddings_neg, bad_score_idx, range_normal, model, range_layer, is_mlp=False, use_ln_2=use_ln_2)['score']\n",
    "    return good_score/bad_score\n",
    "\n",
    "def get_contribs_wrt_attn_naive(model, embeddings_pos, embeddings_neg, layer, token_idx, range_normal, range_layer, token_only=False, use_ln_2=False):\n",
    "    # we're naively assuming that locally, we can approximate layer-norm as just scaling our output by a constant\n",
    "    c = get_LN_constant(model, embeddings_pos, embeddings_neg, layer, token_idx, range_normal, range_layer, use_ln_2=use_ln_2)\n",
    "    \n",
    "    attn_module = model.transformer.h[layer].attn.attention\n",
    "    attn_split_weights = split_mat_heads(attn_module.out_proj.weight, attn_module.num_heads, attn_module.head_dim)\n",
    "    \n",
    "    attn_split_vals_pos = attn_module._split_heads(embeddings_pos['layers'][layer]['v_proj_out'], attn_module.num_heads, attn_module.head_dim)\n",
    "    attn_scores_pos = embeddings_pos['layers'][layer]['attn_out'][2]\n",
    "    attn_dots_pos = get_dots_per_head_and_token(token_idx, attn_module, attn_scores_pos, attn_split_weights, attn_split_vals_pos, range_normal)*c\n",
    "    attn_contribs_pos = attn_dots_pos * attn_scores_pos[0, :, token_idx, :]\n",
    "\n",
    "    if embeddings_neg is None:\n",
    "        # zero ablation\n",
    "        attn_split_vals_neg = torch.zeros(attn_split_vals_pos.shape).to(\"cuda\")\n",
    "        attn_scores_neg =  torch.zeros(attn_scores_pos.shape).to(\"cuda\")\n",
    "        attn_dots_neg =  torch.zeros(attn_contribs_pos.shape).to(\"cuda\")\n",
    "        attn_contribs_neg =  torch.zeros(attn_contribs_pos.shape).to(\"cuda\")\n",
    "    else:\n",
    "        attn_split_vals_neg = attn_module._split_heads(embeddings_neg['layers'][layer]['v_proj_out'], attn_module.num_heads, attn_module.head_dim)\n",
    "        attn_scores_neg = embeddings_neg['layers'][layer]['attn_out'][2]\n",
    "        attn_dots_neg = get_dots_per_head_and_token(token_idx, attn_module, attn_scores_neg, attn_split_weights, attn_split_vals_neg, range_normal)*c\n",
    "        attn_contribs_neg = attn_dots_neg * attn_scores_neg[0, :, token_idx, :]\n",
    "\n",
    "    attn_contribs_list = []\n",
    "    if not token_only:\n",
    "        attn_contribs = attn_contribs_pos - attn_contribs_neg\n",
    "        for head, row in enumerate(attn_contribs):\n",
    "            for j, item in enumerate(row):\n",
    "                attn_contribs_list.append({\n",
    "                    \"head\": head, \"token\": j, \"total_contrib\": item.item(), \"layer\": layer,\n",
    "                    \"pos_contrib\": attn_contribs_pos[head,j].item(), \"pos_score\": attn_scores_pos[0,head,token_idx,j].item(), \"pos_dot\": attn_dots_pos[head,j].item(), \n",
    "                    \"neg_contrib\": attn_contribs_neg[head,j].item(), \"neg_score\": attn_scores_neg[0,head,token_idx,j].item(), \"neg_dot\": attn_dots_neg[head,j].item()\n",
    "                })\n",
    "    else:\n",
    "        attn_contribs_pos = attn_contribs_pos.sum(axis=0) # sum over all heads\n",
    "        attn_contribs_neg = attn_contribs_neg.sum(axis=0)\n",
    "        attn_contribs = attn_contribs_pos - attn_contribs_neg\n",
    "        for j, item in enumerate(attn_contribs):\n",
    "            attn_contribs_list.append({\n",
    "                \"token\": j, \"total_contrib\": item.item(), \"layer\": layer,\n",
    "                \"pos_contrib\": attn_contribs_pos[j].item(), \"neg_contrib\": attn_contribs_neg[j].item()\n",
    "            })\n",
    "    attn_contribs_list = sorted(attn_contribs_list, key=lambda x: abs(x['total_contrib']), reverse=True)\n",
    "    return attn_contribs, attn_contribs_list"
   ]
  },
  {
   "cell_type": "code",
   "execution_count": 27,
   "id": "4ab1e296-a5a3-4516-af5d-801f373a2662",
   "metadata": {},
   "outputs": [],
   "source": [
    "def get_all_head_token_contribs_for_attn_layer_per_token(model, embeddings_pos, embeddings_neg, token, normal, range_layer, token_only=False):\n",
    "    big_list = []\n",
    "    #cs = []\n",
    "    for layer in range(range_layer):\n",
    "        #cs.append(get_LN_constant(model, embeddings_pos, embeddings_neg, layer, token, normal, range_layer))\n",
    "        _, cur_list = get_contribs_wrt_attn_naive(model, embeddings_pos, embeddings_neg, layer, token, normal, range_layer, token_only=token_only)\n",
    "        big_list += cur_list\n",
    "    # get original embedding contribution\n",
    "    #c = sum(cs)/len(cs)\n",
    "    c = 1 # TODO: I think that there shouldn't be any LayerNorm constant for the original embeddings\n",
    "    embedding_contrib = c * (embeddings_pos['layers'][0]['ln_1_in'][0,token,:] - embeddings_neg['layers'][0]['ln_1_in'][0,token,:])@normal\n",
    "    print(c)\n",
    "    big_list.append({\n",
    "        \"layer\": \"embedding\", \"token\": token,\n",
    "        \"total_contrib\": embedding_contrib,\n",
    "    })\n",
    "    return sorted(big_list, key=lambda x: x['total_contrib'], reverse=True)"
   ]
  },
  {
   "cell_type": "code",
   "execution_count": 28,
   "id": "4699c337-bebb-4979-9f2e-52bd38e442ca",
   "metadata": {},
   "outputs": [],
   "source": [
    "def get_all_head_contribs_for_attn_layer_per_token(model, embeddings_pos, embeddings_neg, token, normal, range_layer=None):\n",
    "    big_mat_list = []\n",
    "    num_layers = range_layer\n",
    "    if num_layers is None:\n",
    "        num_layers = len(model.transformer.h)\n",
    "    for layer in range(num_layers):\n",
    "        cur_mat = get_contribs_per_head_token_naive(model, embeddings_pos, embeddings_neg, layer, token, normal, range_layer=range_layer)[0]\n",
    "        big_mat_list.append(cur_mat.sum(axis=1))\n",
    "    return torch.stack(big_mat_list)"
   ]
  },
  {
   "cell_type": "code",
   "execution_count": 29,
   "id": "b090c754-db4c-4edd-a6bb-b0e0507573be",
   "metadata": {},
   "outputs": [],
   "source": [
    "def get_all_head_contribs_for_output_per_token(model, embeddings_pos, embeddings_neg, token, normal):\n",
    "    big_mat_list = []\n",
    "    cs = []\n",
    "    for layer in range(len(model.transformer.h)):\n",
    "        cur_mat = get_contribs_per_head_token_naive(model, embeddings_pos, embeddings_neg, layer, token, normal)[0]\n",
    "        big_mat_list.append(cur_mat.sum(axis=1))\n",
    "    \"\"\"# get original embedding contribution\n",
    "    c = sum(cs)/len(cs)\n",
    "    embedding_contrib_mat = c * (embeddings_pos['layers'][0]['ln_1_in'][0,:,:] - embeddings_neg['layers'][0]['ln_1_in'][0,:,:])@normal\n",
    "    \n",
    "    print(c)\n",
    "    big_list.append({\n",
    "        \"layer\": \"embedding\",\n",
    "        \"total_contrib\": embedding_contrib,\n",
    "    })\"\"\"\n",
    "    return torch.stack(big_mat_list)"
   ]
  },
  {
   "cell_type": "code",
   "execution_count": 30,
   "id": "87589119-831f-4cf6-ba26-1ee43a93c2b8",
   "metadata": {},
   "outputs": [],
   "source": [
    "def get_mediated_head_contrib(model, head_layer_list, embeddings_pos, embeddings_neg, range_normal):\n",
    "    num_tokens = embeddings_pos['layers'][head_layer_list[0][1]]['attn_in'].shape[1]\n",
    "    # head_layer_list: [ (head, layer) ] from latest layer head to earliest layer head\n",
    "    cs = []\n",
    "    normals = []\n",
    "    for i, head_layer in enumerate(head_layer_list):\n",
    "        if i == 0:\n",
    "            if head_layer[0] == -1:\n",
    "                normals.append(range_normal)\n",
    "            else:\n",
    "                normals.append(get_attn_normal(model, head_layer[1], head_layer[0], range_normal))\n",
    "            cs.append(1)\n",
    "            continue\n",
    "        if head_layer[0] == -1:\n",
    "            # original embedding\n",
    "            cs.append(1)\n",
    "            normals.append(normals[i-1])\n",
    "            continue\n",
    "        try:\n",
    "            with torch.no_grad():\n",
    "                c = get_LN_constant_across_tokens(model, embeddings_pos, embeddings_neg, head_layer[1], normals[i-1], head_layer_list[i-1][1])\n",
    "        except ZeroDivisionError:\n",
    "            return 0, torch.zeros(range_normal.shape).to(\"cuda\")\n",
    "        cs.append(c)\n",
    "        normals.append(get_attn_normal(model, head_layer[1], head_layer[0], c*normals[i-1]))\n",
    "    # now, build up Ys backwards\n",
    "    Ys_pos = []\n",
    "    Ys_neg = []\n",
    "    for i, head_layer in enumerate(reversed(head_layer_list)):\n",
    "        if i == 0:\n",
    "            if head_layer[0] == -1:\n",
    "                # get contribution of original embedding\n",
    "                prev_Y_pos =embeddings_pos['layers'][0]['ln_1_in'][0].T\n",
    "                prev_Y_neg = embeddings_neg['layers'][0]['ln_1_in'][0].T\n",
    "            else:\n",
    "                prev_Y_pos = embeddings_pos['layers'][head_layer[1]]['attn_in'][0].T # after [0].T: (neuron, token)\n",
    "                prev_Y_neg = embeddings_neg['layers'][head_layer[1]]['attn_in'][0].T # after [0].T: (neuron, token)\n",
    "        else:\n",
    "            prev_Y_pos = Ys_pos[i-1]\n",
    "            prev_Y_neg = Ys_neg[i-1]\n",
    "\n",
    "        with torch.no_grad():\n",
    "            Y_pos = prev_Y_pos @ embeddings_pos['layers'][head_layer[1]]['attn_out'][2][0,head_layer[0],:,:].T\n",
    "            Y_neg = prev_Y_neg @ embeddings_neg['layers'][head_layer[1]]['attn_out'][2][0,head_layer[0],:,:].T\n",
    "        \n",
    "        Ys_pos.append(Y_pos)\n",
    "        Ys_neg.append(Y_neg)\n",
    "    return torch.dot(normals[-1], (Ys_pos[-1]-Ys_neg[-1])[:,-1]).item(), normals[-1]"
   ]
  },
  {
   "cell_type": "code",
   "execution_count": 31,
   "id": "0753ae90-d379-4a4b-9c52-00f3b22aad89",
   "metadata": {},
   "outputs": [],
   "source": [
    "# greedy heuristic\n",
    "# TODO: also account for embeddings\n",
    "def get_max_paths(model, embeddings_pos, embeddings_neg, range_normal, max_length, num_paths):\n",
    "    num_layers = len(model.transformer.h)\n",
    "    num_heads = model.transformer.h[0].attn.attention.num_heads\n",
    "    \n",
    "    my_list = []\n",
    "    embeddings_list = []\n",
    "    for head in range(num_heads):\n",
    "        for layer in range(num_layers):\n",
    "            contrib, _ = get_mediated_head_contrib(model, [(head,layer)], embeddings_pos, embeddings_neg, range_normal)\n",
    "            my_list.append({\"path\": [(head, layer)], \"contrib\": contrib})\n",
    "    contrib, _ = get_mediated_head_contrib(model, [(-1,-1)], embeddings_pos, embeddings_neg, range_normal)\n",
    "    embeddings_list.append({\"path\": [(-1,-1)], \"contrib\": contrib})\n",
    "    \n",
    "    prev_list = list(sorted(my_list, key=lambda x: x['contrib'], reverse=True))[:num_paths]\n",
    "    for cur_path_size in range(1, max_length):\n",
    "        cur_list = []\n",
    "        for list_item in prev_list:\n",
    "            base_path = list_item['path']\n",
    "            for head in range(num_heads):\n",
    "                for layer in range(base_path[-1][1]):\n",
    "                    # let's go, four nested loops!\n",
    "                    cur_path = base_path + [(head, layer)]\n",
    "                    contrib, _ = get_mediated_head_contrib(model, cur_path, embeddings_pos, embeddings_neg, range_normal)\n",
    "                    cur_list.append({'path': cur_path, 'contrib': contrib})\n",
    "            contrib, _ = get_mediated_head_contrib(model, base_path + [(-1,-1)], embeddings_pos, embeddings_neg, range_normal)\n",
    "            embeddings_list.append({'path': base_path + [(-1,-1)], 'contrib': contrib})\n",
    "        prev_list = list(sorted(cur_list, key=lambda x: x['contrib'], reverse=True))[:num_paths]\n",
    "    out_list = prev_list + embeddings_list\n",
    "    out_list = list(sorted(out_list, key=lambda x: x['contrib'], reverse=True))[:num_paths]\n",
    "    return out_list"
   ]
  },
  {
   "cell_type": "markdown",
   "id": "32b9bddb-6bb4-4c10-8815-0e0ec8afbc15",
   "metadata": {},
   "source": [
    "## Linear feature tracing"
   ]
  },
  {
   "cell_type": "code",
   "execution_count": 32,
   "id": "65ff333b-b34d-43df-aefb-1760428f1e85",
   "metadata": {},
   "outputs": [],
   "source": [
    "def get_attn_normal(model, layer, head, range_normal):\n",
    "    attn_module = model.transformer.h[layer].attn.attention\n",
    "    W_out = split_mat_heads(attn_module.out_proj.weight, attn_module.num_heads, attn_module.head_dim)[head]\n",
    "    W_val = attn_module.v_proj.weight[head*attn_module.head_dim:(head+1)*attn_module.head_dim,:]\n",
    "    # attn_normal = (W_out W_V)^T range_normal = W_V^T W_out^T range_normal\n",
    "    return W_val.T @ W_out.T @ range_normal"
   ]
  },
  {
   "cell_type": "code",
   "execution_count": 33,
   "id": "91876f33-e985-4788-8603-e3c6087d6cb3",
   "metadata": {},
   "outputs": [],
   "source": [
    "def get_fake_mlp_normal(model, layer, range_normal):\n",
    "    return model.transformer.h[layer].mlp.c_fc.weight.T @ (model.transformer.h[layer].mlp.c_proj.weight.T @ range_normal)"
   ]
  },
  {
   "cell_type": "code",
   "execution_count": 34,
   "id": "b7b28938-6964-4dce-ac3b-69301c0dcdbc",
   "metadata": {},
   "outputs": [],
   "source": [
    "def coupling_coeff(y1, y2): return torch.dot(y1, y2)/torch.linalg.norm(y1)**2"
   ]
  },
  {
   "cell_type": "code",
   "execution_count": 35,
   "id": "30fa9e61-57b5-4538-8dfb-ae9f1d6a57e6",
   "metadata": {},
   "outputs": [],
   "source": [
    "def cossim(y1, y2): return torch.dot(y1, y2)/(torch.linalg.norm(y1)*torch.linalg.norm(y2))"
   ]
  },
  {
   "cell_type": "markdown",
   "id": "5ac12250-a6aa-45cb-96f2-93c58954ed0d",
   "metadata": {},
   "source": [
    "## Prompt evaluation"
   ]
  },
  {
   "cell_type": "code",
   "execution_count": 36,
   "id": "43930dc2-bca6-49e7-b70c-cef707e65d2e",
   "metadata": {},
   "outputs": [],
   "source": [
    "def slice_tokenized_prompts_into_context_windows(prompts, size, max_tokens=None):\n",
    "    retlist = []\n",
    "    if max_tokens is not None:\n",
    "        num_tokens_seen = 0\n",
    "    for prompt in prompts:\n",
    "        prompt_len = prompt['input_ids'].shape[1]\n",
    "        for i in range(0, prompt_len, size):\n",
    "            input_ids = prompt['input_ids'][0,i:min(i+size, prompt_len)][None]\n",
    "            attention_mask = prompt['attention_mask'][0,i:min(i+size, prompt_len)][None]\n",
    "            retlist.append({'input_ids': input_ids, 'attention_mask': attention_mask})\n",
    "            if max_tokens is not None:\n",
    "                num_tokens_seen += input_ids.shape[1]\n",
    "                if num_tokens_seen > max_tokens: return retlist\n",
    "    return retlist"
   ]
  },
  {
   "cell_type": "code",
   "execution_count": 37,
   "id": "9c3bcd71-d6f8-46e3-83a9-86b668bb0824",
   "metadata": {},
   "outputs": [],
   "source": [
    "import tqdm\n",
    "def embeddings_from_prompt_list(model, prompts, return_np=True, use_tqdm=True, pre_tokenized=False, print_tensors_count=False):\n",
    "    outs_list = []\n",
    "    with torch.no_grad():\n",
    "        if use_tqdm: prompts_gen = tqdm.tqdm(prompts)\n",
    "        else: prompts_gen = prompts\n",
    "        for i, prompt in enumerate(prompts):\n",
    "            cur_embeddings, hooks = attach_hooks(model)\n",
    "            if pre_tokenized:\n",
    "                tokens = {\"input_ids\": prompt['input_ids'].to(\"cuda:0\"), 'attention_mask': prompt['attention_mask'].to(\"cuda:0\")}\n",
    "            else:\n",
    "                tokens = tokenizer(prompt, return_tensors=\"pt\").to(\"cuda:0\")\n",
    "            model(**tokens)\n",
    "            for hook in hooks: hook.remove()\n",
    "            if return_np:\n",
    "                cur_embeddings = embeddings_torch_to_np(cur_embeddings)\n",
    "            outs_list.append(cur_embeddings)\n",
    "            if print_tensors_count:\n",
    "                print(f\"After loading prompt {i}, number of tensors: {get_num_tensors()}\")\n",
    "    return outs_list"
   ]
  },
  {
   "cell_type": "code",
   "execution_count": 38,
   "id": "cb75954e-dca3-42b6-80d4-f5624ae03462",
   "metadata": {},
   "outputs": [],
   "source": [
    "def get_normal_scores_for_prompt(model, layer, sublayer, prompt, normal, use_tqdm=True, pre_tokenized=False):\n",
    "    embedding = embeddings_from_prompt_list(model, [prompt], return_np=False, use_tqdm=use_tqdm, pre_tokenized=pre_tokenized)[0]\n",
    "    if not (layer is None):\n",
    "        sublayer_embedding = embedding['layers'][layer][sublayer] # assuming that sublayer embedding has shape (1, tokens, neurons)\n",
    "    else:\n",
    "        sublayer_embedding = embedding[sublayer]\n",
    "    sublayer_embedding = sublayer_embedding[0]\n",
    "    # get dots: (tokens, neurons) . (neurons) = (tokens)\n",
    "    with torch.no_grad():\n",
    "        normal_scores = sublayer_embedding @ normal\n",
    "    normal_scores = normal_scores.detach().cpu().numpy()\n",
    "    free_embeddings(embedding)\n",
    "    del sublayer_embedding\n",
    "    do_free()\n",
    "    return normal_scores    "
   ]
  },
  {
   "cell_type": "code",
   "execution_count": 39,
   "id": "995a91da-c73c-491c-a0fd-a5c1452fe64b",
   "metadata": {},
   "outputs": [],
   "source": [
    "def get_normal_scores_for_prompt_list(model, layer, sublayer, prompts, normal, use_tqdm=True, pre_tokenized=False):\n",
    "    embeddings = embeddings_from_prompt_list(model, prompts, return_np=True, use_tqdm=use_tqdm, pre_tokenized=pre_tokenized)\n",
    "    ret_list = []\n",
    "    for i in range(len(embeddings)):\n",
    "        embedding = embeddings[i]\n",
    "        if not (layer is None):\n",
    "            sublayer_embedding = embedding['layers'][layer][sublayer] # assuming that sublayer embedding has shape (1, tokens, neurons)\n",
    "        else:\n",
    "            sublayer_embedding = embedding[sublayer]\n",
    "        sublayer_embedding = sublayer_embedding[0]\n",
    "        # get dots: (tokens, neurons) . (neurons) = (tokens)\n",
    "        normal_scores = sublayer_embedding @ normal\n",
    "        free_embeddings(embedding)\n",
    "        del sublayer_embedding\n",
    "        do_free()\n",
    "        ret_list.append(normal_scores)\n",
    "    return ret_list    "
   ]
  },
  {
   "cell_type": "code",
   "execution_count": 40,
   "id": "57bdaeb9-1d3d-4df2-aeeb-1ffb05dc39be",
   "metadata": {},
   "outputs": [],
   "source": [
    "import pickle\n",
    "def get_normal_list_scores_for_prompt_list(model, normals, prompts, use_tqdm=True, pre_tokenized=False, save_every=None, save_out=\"normal_list_scores.pkl\"):\n",
    "    #normals is a list of dicts: [{\"normal\", \"layer\", \"sublayer\", \"name\", \"token\"}]\n",
    "    retval = [ {\n",
    "        'info': {\n",
    "            'name': normal['name'],\n",
    "            'layer': normal['layer'],\n",
    "            'sublayer': normal['sublayer'],\n",
    "            'token': normal['token']\n",
    "        },\n",
    "        'scores': []\n",
    "    } for normal in normals ]\n",
    "    \n",
    "    with torch.no_grad():\n",
    "        if use_tqdm: tqdm_lambda = lambda x: tqdm.tqdm(x)\n",
    "        else: tqdm_lambda = lambda x: x\n",
    "        for i, prompt in tqdm_lambda(enumerate(prompts)):\n",
    "            embedding, hooks = attach_hooks(model)\n",
    "            if pre_tokenized:\n",
    "                tokens = {\"input_ids\": prompt['input_ids'].to(\"cuda:0\"), 'attention_mask': prompt['attention_mask'].to(\"cuda:0\")}\n",
    "            else:\n",
    "                tokens = tokenizer(prompt, return_tensors=\"pt\").to(\"cuda:0\")\n",
    "            model(**tokens)\n",
    "            for hook in hooks: hook.remove()\n",
    "            embedding = embeddings_torch_to_np(embedding)\n",
    "            for i, normal_info in enumerate(normals):\n",
    "                normal = normal_info['normal']\n",
    "                layer = normal_info['layer']\n",
    "                sublayer = normal_info['sublayer']\n",
    "                token = normal_info['token']\n",
    "                if not (layer is None):\n",
    "                    sublayer_embedding = embedding['layers'][layer][sublayer] # assuming that sublayer embedding has shape (1, tokens, neurons)\n",
    "                else:\n",
    "                    sublayer_embedding = embedding[sublayer]\n",
    "                sublayer_embedding = sublayer_embedding[0]\n",
    "                # get dots: (tokens, neurons) . (neurons) = (tokens)\n",
    "                normal_scores = sublayer_embedding @ normal\n",
    "                if token is not None:\n",
    "                    normal_scores = normal_scores[token]\n",
    "                retval[i]['scores'].append(normal_scores)\n",
    "            free_embeddings(embedding)\n",
    "            del sublayer_embedding\n",
    "            do_free()\n",
    "            if save_every is not None:\n",
    "                if i % save_every == 0 and i != 0:\n",
    "                    fp = open(save_out, \"wb\")\n",
    "                    pickle.dump(retval, fp)\n",
    "                    fp.close()\n",
    "    return retval    "
   ]
  },
  {
   "cell_type": "code",
   "execution_count": 41,
   "id": "2f8a023a-5b50-4b3d-b16b-3206852688f1",
   "metadata": {},
   "outputs": [],
   "source": [
    "def get_top_normal_scores_for_prompt_list(model, layer, sublayer, prompts, normal, k=5, pre_tokenized=False, reverse=False, both=False):\n",
    "    scores_list = []\n",
    "    for prompt in tqdm.tqdm(prompts):\n",
    "        scores_list.append(get_normal_scores_for_prompt(model, layer, sublayer, prompt, normal, use_tqdm=False, pre_tokenized=pre_tokenized))\n",
    "    scores_arr = np.concatenate(scores_list)\n",
    "    scores_tensor = torch.from_numpy(scores_arr)\n",
    "    scores_topk = torch.topk(scores_tensor, k=k, largest=(not reverse), sorted=True)\n",
    "    # go from index to (prompt, token)\n",
    "    prompt_start_indices = np.cumsum([0]+[x.shape[0] for x in scores_list])[:-1]\n",
    "    retlist = []\n",
    "    for score, index in zip(scores_topk.values, scores_topk.indices):\n",
    "        score = score.item()\n",
    "        index = index.item()\n",
    "        prompt_idx = np.searchsorted(prompt_start_indices, index, side='right')-1\n",
    "        try:\n",
    "            token_idx = index-prompt_start_indices[prompt_idx]\n",
    "        except IndexError:\n",
    "            print(f\"prompt_idx: {prompt_idx}. prompt_start_indices: {prompt_start_indices}. index: {index}\")\n",
    "            raise IndexError\n",
    "        retlist.append({\"score\": score, \"prompt_idx\": prompt_idx, \"token_idx\": token_idx})\n",
    "    if both:\n",
    "        scores_topk = torch.topk(scores_tensor, k=k, largest=reverse, sorted=True)\n",
    "        new_retlist = []\n",
    "        for score, index in zip(scores_topk.values, scores_topk.indices):\n",
    "            score = score.item()\n",
    "            index = index.item()\n",
    "            prompt_idx = np.searchsorted(prompt_start_indices, index, side='right')-1\n",
    "            try:\n",
    "                token_idx = index-prompt_start_indices[prompt_idx]\n",
    "            except IndexError:\n",
    "                print(f\"prompt_idx: {prompt_idx}. prompt_start_indices: {prompt_start_indices}. index: {index}\")\n",
    "                raise IndexError\n",
    "            new_retlist.append({\"score\": score, \"prompt_idx\": prompt_idx, \"token_idx\": token_idx})\n",
    "        return retlist, new_retlist\n",
    "    return retlist   "
   ]
  },
  {
   "cell_type": "code",
   "execution_count": 42,
   "id": "e7206825-43cf-43a6-ac25-6a53b296e5a5",
   "metadata": {},
   "outputs": [],
   "source": [
    "def logit_lens(model, tokenizer, v, k=5, reverse=False):\n",
    "    with torch.no_grad():\n",
    "        unembedded = model.lm_head.weight.data @ model.transformer.ln_f(v)\n",
    "        return tokenizer.batch_decode([ [x] for x in torch.topk(unembedded, k=k, largest=(not reverse)).indices ])"
   ]
  },
  {
   "cell_type": "code",
   "execution_count": 43,
   "id": "e85daa9a-65e3-4f15-81a6-7e4ce62195fd",
   "metadata": {},
   "outputs": [],
   "source": [
    "def logit_lens_layer0(model, tokenizer, v, k=5, reverse=False):\n",
    "    with torch.no_grad():\n",
    "        unembedded = torch.linalg.pinv(model.transformer.wte.weight).T @ v\n",
    "        return tokenizer.batch_decode([ [x] for x in torch.topk(unembedded, k=k, largest=(not reverse)).indices ])"
   ]
  },
  {
   "cell_type": "markdown",
   "id": "4809e324-9259-490e-8493-5e0539d3467a",
   "metadata": {},
   "source": [
    "## Patching"
   ]
  },
  {
   "cell_type": "code",
   "execution_count": 44,
   "id": "ad39800d-ede1-4767-89ba-845958ed60d1",
   "metadata": {},
   "outputs": [],
   "source": [
    "def compute_single_attn_head(model, layer, head, xs, qk_xs=None):\n",
    "\t# xs are \"attn_in\"\n",
    "\tattn_module = model.transformer.h[layer].attn.attention\n",
    "\tq_proj = attn_module.q_proj.weight[head*attn_module.head_dim:(head+1)*attn_module.head_dim]\n",
    "\tk_proj = attn_module.k_proj.weight[head*attn_module.head_dim:(head+1)*attn_module.head_dim]\n",
    "\tv_proj = attn_module.v_proj.weight[head*attn_module.head_dim:(head+1)*attn_module.head_dim]\n",
    "\n",
    "\tif qk_xs is None: qk_xs = xs\n",
    "\tquery = qk_xs @ q_proj.T\n",
    "\tkey = qk_xs @ k_proj.T\n",
    "\tvalue = xs @ v_proj.T\n",
    "\n",
    "\tquery = query.view(query.shape[0], 1, query.shape[1], query.shape[2])\n",
    "\tkey = key.view(key.shape[0], 1, key.shape[1], key.shape[2])\n",
    "\tvalue = value.view(value.shape[0], 1, value.shape[1], value.shape[2])\n",
    "\n",
    "\tattn_output, attn_weights = attn_module._attn(query, key, value)\n",
    "\n",
    "\to_proj = attn_module.out_proj.weight[:, head*attn_module.head_dim:(head+1)*attn_module.head_dim]\n",
    "\n",
    "\tattn_output = attn_output[:, 0, :, :] #(batch, token, feature)\n",
    "\tattn_output = attn_output @ o_proj.T\n",
    "\n",
    "\treturn attn_output"
   ]
  },
  {
   "cell_type": "code",
   "execution_count": 45,
   "id": "8c5fce25-81c4-4285-b3b5-8425ea77a6db",
   "metadata": {},
   "outputs": [],
   "source": [
    "def path_patching(model, embeddings_pos, embeddings_neg, path, only_patch_ov=False, no_ln_f=False):\n",
    "\t# path is a list like [(13, 'attn', 11), (16, 'mlp'), (17, 'attn', 14)]\n",
    "\tpos_layer = embeddings_pos['layers'][path[0][0]]\n",
    "\tif path[0][1] == 'attn':\n",
    "\t\t#if use_ln: sublayer = 'ln_1_in'\n",
    "\t\t#else: sublayer = 'attn_in'\n",
    "\t\tsublayer = 'ln_1_in'\n",
    "\telif path[0][1] == 'mlp':\n",
    "\t\t#if use_ln: sublayer = 'ln_2_in'\n",
    "\t\t#else: sublayer = 'mlp_in'\n",
    "\t\tsublayer = 'ln_2_in'\n",
    "\n",
    "\tclean = pos_layer[sublayer]\n",
    "\n",
    "\tif embeddings_neg is not None:\n",
    "\t\tneg_layer = embeddings_neg['layers'][path[0][0]]\n",
    "\t\tdirty = neg_layer[sublayer]\n",
    "\telse:\n",
    "\t\tdirty = torch.zeros(clean.shape).to(\"cuda\")\n",
    "\n",
    "\tfor component in path:\n",
    "\t\tlayer = component[0]\n",
    "\t\tmodel_layer = model.transformer.h[layer]\n",
    "\t\tbase = embeddings_pos['layers'][component[0]]\n",
    "\t\tbase_full_embed = base[sublayer]\n",
    "\t\tdirty_full_embed = base_full_embed - clean + dirty\n",
    "\t\tif component[1] == 'attn':\n",
    "\t\t\t#if use_ln:\n",
    "\t\t\t#\tdirty = model_layer.ln_1(dirty_full_embed)\n",
    "\t\t\tdirty = model_layer.ln_1(dirty_full_embed)\n",
    "\t\t\tif only_patch_ov:\n",
    "\t\t\t\tdirty = compute_single_attn_head(model, layer, component[2], dirty, qk_xs=base['attn_in'])\n",
    "\t\t\telse:\n",
    "\t\t\t\tdirty = compute_single_attn_head(model, layer, component[2], dirty)\n",
    "\t\t\t\t\n",
    "\t\t\tclean = model_layer.ln_1(base_full_embed)\n",
    "\t\t\tclean = compute_single_attn_head(model, layer, component[2], clean)\n",
    "\t\t\t#clean = base['attn_out'][0]\n",
    "\t\telif component[1] == 'mlp':\n",
    "\t\t\t#if use_ln:\n",
    "\t\t\t#\tdirty = model_layer.ln_2(dirty_full_embed)\n",
    "\t\t\tdirty = model_layer.ln_2(dirty_full_embed)\n",
    "\t\t\tdirty = model_layer.mlp(dirty)\n",
    "\t\t\tclean = base['mlp_out']\n",
    "\n",
    "\t# last step: patch ln_f\n",
    "\tbase_full_embed = embeddings_pos['ln_f_in']\n",
    "\tdirty_full_embed = base_full_embed - clean + dirty\n",
    "\tif no_ln_f:\n",
    "\t\treturn base_full_embed, dirty_full_embed\n",
    "\t\n",
    "\tdirty = model.lm_head(model.transformer.ln_f(dirty_full_embed))\n",
    "\tclean = model.lm_head(model.transformer.ln_f(base_full_embed))\n",
    "\treturn clean, dirty"
   ]
  },
  {
   "cell_type": "markdown",
   "id": "73824cb2-4d7c-4b80-b2de-45f98265f5ee",
   "metadata": {},
   "source": [
    "## Finding feature vectors"
   ]
  },
  {
   "cell_type": "code",
   "execution_count": 46,
   "id": "90cf15ce-888d-4fe6-ae9f-fa05a7430fdf",
   "metadata": {},
   "outputs": [],
   "source": [
    "def run_layer_subset(model, path, hidden_states):\n",
    "    for component in path:\n",
    "        residual = hidden_states\n",
    "        layer = component['layer']\n",
    "        model_layer = model.transformer.h[layer]\n",
    "        if component['sublayer'] == 'attn':\n",
    "            hidden_states = model_layer.ln_1(hidden_states)\n",
    "            if component['head'] == None:\n",
    "                attn_outputs = model.transformer.h[layer].attn(hidden_states)\n",
    "                attn_output = attn_outputs[0]\n",
    "            else:\n",
    "                attn_output = compute_single_attn_head(model, layer, component['head'], hidden_states)\n",
    "            hidden_states = residual + attn_output\n",
    "        elif component['sublayer'] == 'mlp':\n",
    "            hidden_states = model_layer.ln_2(hidden_states)\n",
    "            feed_forward_hidden_states = model_layer.mlp(hidden_states)\n",
    "            hidden_states = residual + feed_forward_hidden_states\n",
    "    return hidden_states"
   ]
  },
  {
   "cell_type": "code",
   "execution_count": 47,
   "id": "9b5a3ba2-34ca-4aa9-93e5-95447900dbed",
   "metadata": {},
   "outputs": [],
   "source": [
    "def path_patching_per_token(model, embeddings_pos, embeddings_neg, path, only_patch_ov=False, no_ln_f=False, range_normal=None, only_return_path_diffs=False):\n",
    "    # path is a list like [{'layer': 6, 'head': 6, 'sublayer': 'attn', 'token': 3}, {'layer': 15, 'head': 13, 'sublayer': 'attn', 'token': 3}]\n",
    "    #print(path)\n",
    "    with torch.no_grad():\n",
    "        pos_layer = embeddings_pos['layers'][path[0]['layer']]\n",
    "        if path[0]['sublayer'] == 'attn' or path[0]['sublayer'] == 'embedding':\n",
    "            sublayer = 'ln_1_in'\n",
    "        elif path[0]['sublayer'] == 'mlp':\n",
    "            sublayer = 'ln_2_in'\n",
    "    \n",
    "        clean = pos_layer[sublayer]\n",
    "    \n",
    "        if embeddings_neg is not None:\n",
    "            neg_layer = embeddings_neg['layers'][path[0]['layer']]\n",
    "            dirty = neg_layer[sublayer]\n",
    "        else:\n",
    "            dirty = torch.zeros(clean.shape).to(\"cuda\")\n",
    "    \n",
    "        for component in path:\n",
    "            layer = component['layer']\n",
    "            model_layer = model.transformer.h[layer]\n",
    "            base = embeddings_pos['layers'][component['layer']]\n",
    "\n",
    "            if component['sublayer'] == 'attn' or component['sublayer'] == 'embedding':\n",
    "                sublayer = 'ln_1_in'\n",
    "            elif component['sublayer'] == 'mlp':\n",
    "                sublayer = 'ln_2_in'\n",
    "            base_full_embed = base[sublayer]\n",
    "            \n",
    "            if component['token'] is not None:\n",
    "                # TODO: this used to be dirty_full_embed = base_full_embed - clean[:, component['token'], :] + dirty[:, component['token'], :]\n",
    "                dirty_full_embed = base_full_embed.clone()\n",
    "                dirty_full_embed[:, component['token'], :] += dirty[:, component['token'], :] - clean[:, component['token'], :]\n",
    "            else:\n",
    "                dirty_full_embed = base_full_embed - clean + dirty\n",
    "\n",
    "            if range_normal is not None:\n",
    "                test_token = component['token'] if component['token'] is not None else -1\n",
    "                #print(f\"Before component {component}, dirty-clean diff: \", (range_normal @ (dirty_full_embed[0,test_token] - base_full_embed[0,test_token])).item())\n",
    "            \n",
    "            if component['sublayer'] == 'attn':\n",
    "                dirty = model_layer.ln_1(dirty_full_embed)\n",
    "                clean = model_layer.ln_1(base_full_embed)\n",
    "                \n",
    "                if component['head'] == None:\n",
    "                    clean_new = torch.zeros(dirty.shape).to(\"cuda\")\n",
    "                    dirty_new = torch.zeros(dirty.shape).to(\"cuda\")\n",
    "                    for head in range(16):\n",
    "                        if only_patch_ov:\n",
    "                            dirty_new += compute_single_attn_head(model, layer, head, dirty, qk_xs=base['attn_in'])\n",
    "                        else:\n",
    "                            dirty_new += compute_single_attn_head(model, layer, head, dirty)\n",
    "                        clean_new += compute_single_attn_head(model, layer, head, clean)\n",
    "                    dirty = dirty_new\n",
    "                    clean = clean_new\n",
    "                else:\n",
    "                    if only_patch_ov:\n",
    "                        dirty = compute_single_attn_head(model, layer, component['head'], dirty, qk_xs=base['attn_in'])\n",
    "                    else:\n",
    "                        dirty = compute_single_attn_head(model, layer, component['head'], dirty)\n",
    "                    clean = compute_single_attn_head(model, layer, component['head'], clean)\n",
    "            elif component['sublayer'] == 'mlp':\n",
    "                dirty = model_layer.ln_2(dirty_full_embed)\n",
    "                dirty = model_layer.mlp(dirty)\n",
    "\n",
    "                clean = base['mlp_out']\n",
    "            elif component['sublayer'] == 'embedding':\n",
    "                dirty = dirty_full_embed\n",
    "                clean = base_full_embed\n",
    "    \n",
    "        if only_return_path_diffs:\n",
    "            if component['sublayer'] != 'embedding':\n",
    "                return base_full_embed + clean, dirty_full_embed + dirty\n",
    "            return base_full_embed, dirty_full_embed\n",
    "        \n",
    "        # last step: patch ln_f\n",
    "        base_full_embed = embeddings_pos['ln_f_in']\n",
    "        dirty_full_embed = base_full_embed - clean[:, -1, :] + dirty[:, -1, :]\n",
    "        if no_ln_f:\n",
    "            return base_full_embed, dirty_full_embed\n",
    "        \n",
    "        dirty = model.lm_head(model.transformer.ln_f(dirty_full_embed))\n",
    "        clean = model.lm_head(model.transformer.ln_f(base_full_embed))\n",
    "    return clean, dirty"
   ]
  },
  {
   "cell_type": "code",
   "execution_count": 48,
   "id": "692020f9-c932-449f-96d8-bbc598dddf4a",
   "metadata": {},
   "outputs": [],
   "source": [
    "def propagate_normal_through_LayerNorm(model, embeddings, layer, normal, ln_1=False, token=None, estimate_dot=False):\n",
    "    with torch.no_grad():\n",
    "        if ln_1:\n",
    "            W = model.transformer.h[layer].ln_1.weight\n",
    "            x = embeddings['layers'][layer]['ln_1_in'][0]\n",
    "        else:\n",
    "            W = model.transformer.h[layer].ln_2.weight\n",
    "            x = embeddings['layers'][layer]['ln_2_in'][0]\n",
    "        if estimate_dot:\n",
    "            x_bar = 1\n",
    "        else:\n",
    "            if token is None:\n",
    "                x_bar = torch.linalg.norm(x, axis=1).mean()\n",
    "            else:\n",
    "                x = x[token]\n",
    "                x_bar = torch.linalg.norm(x)\n",
    "        d = x.shape[-1]\n",
    "        return np.sqrt(d)/x_bar * W * normal\n",
    "\n",
    "def get_head_token_contribs_for_layer(model, embeddings_pos, embeddings_neg, layer, token_idx, range_normal):\n",
    "    with torch.no_grad():\n",
    "        attn_module = model.transformer.h[layer].attn.attention\n",
    "        attn_split_weights = split_mat_heads(attn_module.out_proj.weight, attn_module.num_heads, attn_module.head_dim)\n",
    "        attn_split_vals_pos = attn_module._split_heads(embeddings_pos['layers'][layer]['v_proj_out'], attn_module.num_heads, attn_module.head_dim)\n",
    "        attn_scores_pos = embeddings_pos['layers'][layer]['attn_out'][2]\n",
    "        attn_dots_pos = get_dots_per_head_and_token(token_idx, attn_module, attn_scores_pos, attn_split_weights, attn_split_vals_pos, range_normal)\n",
    "        attn_contribs_pos = attn_dots_pos * attn_scores_pos[0, :, token_idx, :]\n",
    "\n",
    "        if embeddings_neg is None:\n",
    "            # zero ablation\n",
    "            attn_split_vals_neg = torch.zeros(attn_split_vals_pos.shape).to(\"cuda\")\n",
    "            attn_scores_neg =  torch.zeros(attn_scores_pos.shape).to(\"cuda\")\n",
    "            attn_dots_neg =  torch.zeros(attn_contribs_pos.shape).to(\"cuda\")\n",
    "            attn_contribs_neg =  torch.zeros(attn_contribs_pos.shape).to(\"cuda\")\n",
    "        else:\n",
    "            attn_split_vals_neg = attn_module._split_heads(embeddings_neg['layers'][layer]['v_proj_out'], attn_module.num_heads, attn_module.head_dim)\n",
    "            attn_scores_neg = embeddings_neg['layers'][layer]['attn_out'][2]\n",
    "            attn_dots_neg = get_dots_per_head_and_token(token_idx, attn_module, attn_scores_neg, attn_split_weights, attn_split_vals_neg, range_normal)\n",
    "            attn_contribs_neg = attn_dots_neg * attn_scores_neg[0, :, token_idx, :]\n",
    "\n",
    "        attn_contribs = attn_contribs_pos - attn_contribs_neg\n",
    "        attn_contribs_list = []\n",
    "        for head, row in enumerate(attn_contribs):\n",
    "            for j, item in enumerate(row):\n",
    "                attn_contribs_list.append({\n",
    "                    \"path\": {\"head\": head, \"token\": j, \"layer\": layer, \"sublayer\": \"attn\"},\n",
    "                    \"contrib\": item.item()\n",
    "                })\n",
    "    attn_contribs_list = sorted(attn_contribs_list, key=lambda x: abs(x['contrib']), reverse=True)\n",
    "    return attn_contribs_list\n",
    "\n",
    "def get_head_token_contribs(model, embeddings_pos, embeddings_neg, token_idx, range_normal, num_layers=None):\n",
    "    if num_layers is None: num_layers = len(embeddings_pos['layers'])\n",
    "    retlist = []\n",
    "    for layer in range(num_layers):\n",
    "        retlist += get_head_token_contribs_for_layer(model, embeddings_pos, embeddings_neg, layer, token_idx, range_normal)\n",
    "    retlist = sorted(retlist, key=lambda x: abs(x['contrib']), reverse=True)\n",
    "    return retlist\n",
    "    \n",
    "def get_mlp_contribs(model, embeddings_pos, embeddings_neg, token_idx, range_normal, num_layers=None):\n",
    "    if num_layers is None: num_layers = len(embeddings_pos['layers'])\n",
    "    retlist = []\n",
    "    for layer in range(num_layers):\n",
    "        with torch.no_grad():\n",
    "            mlp_y_pos = embeddings_pos['layers'][layer]['mlp_out'][0, token_idx, :]\n",
    "            mlp_y_neg = embeddings_neg['layers'][layer]['mlp_out'][0, token_idx, :]\n",
    "            mlp_dot = range_normal @ mlp_y_pos - range_normal @ mlp_y_neg\n",
    "        retlist.append({\n",
    "            \"path\": {\"head\": -1, \"token\": token_idx, \"layer\": layer, \"sublayer\": \"mlp\"},\n",
    "            \"contrib\": mlp_dot.item()\n",
    "        })\n",
    "    retlist = sorted(retlist, key=lambda x: abs(x['contrib']), reverse=True)\n",
    "    return retlist\n",
    "\n",
    "def get_normal_for_path(model, embeddings_pos, embeddings_neg, range_normal, path, use_ln=True, normalize=False, estimate_dot=False):\n",
    "    normal = range_normal\n",
    "    for i, node in enumerate(path):\n",
    "        cur_token = node['token']\n",
    "        cur_layer = node['layer']\n",
    "        cur_sublayer = node['sublayer']\n",
    "        cur_head = node['head']\n",
    "        \n",
    "        use_ln_1 = False\n",
    "        if cur_sublayer == 'attn':\n",
    "            if cur_head != -1:\n",
    "                new_normal = get_attn_normal(model, cur_layer, cur_head, normal)\n",
    "            else:\n",
    "                attn_module = model.transformer.h[cur_layer].attn.attention\n",
    "                attn_module_v_proj = attn_module.v_proj.weight\n",
    "                attn_module_o_proj = attn_module.out_proj.weight\n",
    "                combined_WOV = torch.zeros(2048,2048).to(\"cuda\")\n",
    "                for head in range(attn_module.num_heads):\n",
    "                    combined_WOV += get_ov_mat_for_head(attn_module_v_proj, attn_module_o_proj, 16, 128, head)\n",
    "                new_normal = combined_WOV.T @ normal\n",
    "        elif cur_sublayer == 'mlp':\n",
    "            xpos = embeddings_pos['layers'][cur_layer]['mlp_in'][0,cur_token,:]\n",
    "            xneg = embeddings_neg['layers'][cur_layer]['mlp_in'][0,cur_token,:]\n",
    "            zeros = torch.zeros(normal.shape).to(\"cuda\")\n",
    "            affine = domain_boundary_intersection(xpos, xneg,\n",
    "                model.transformer.h[cur_layer].mlp, normal, zeros, lr=0.02, eps=0.0000001)\n",
    "            new_normal = get_tangent_plane_given_point(affine, model.transformer.h[cur_layer].mlp, normal, zeros)\n",
    "            use_ln_1 = True\n",
    "        else:\n",
    "            raise Exception(\"Invalid sublayer: \" + str(cur_sublayer))\n",
    "        if use_ln:\n",
    "            if i == len(path)-1:\n",
    "                new_normal = propagate_normal_through_LayerNorm(model, embeddings_pos, cur_layer, new_normal, ln_1=use_ln_1, token=cur_token, estimate_dot=estimate_dot)\n",
    "            else:\n",
    "                new_normal = propagate_normal_through_LayerNorm(model, embeddings_pos, cur_layer, new_normal, ln_1=use_ln_1, token=cur_token)\n",
    "        normal = new_normal\n",
    "    if normalize: normal = normal / torch.linalg.norm(normal)\n",
    "    return normal.detach()"
   ]
  },
  {
   "cell_type": "code",
   "execution_count": 49,
   "id": "1e2865f0-20f5-47f3-b997-30157c9ca97f",
   "metadata": {},
   "outputs": [],
   "source": [
    "def patch_get_max_paths(model, embeddings_pos, embeddings_neg, range_normal, max_length, num_paths, use_mlp=True, use_attn=True, starting_path=None, least_attrib=False, no_ln_f=True):\n",
    "    num_tokens = embeddings_pos['layers'][-1]['attn_in'].shape[1]\n",
    "    assert(num_tokens == embeddings_neg['layers'][-1]['attn_in'].shape[1])\n",
    "    \n",
    "    embedding_contribs_list = []\n",
    "    \n",
    "    paths = [starting_path]\n",
    "    if starting_path is None:\n",
    "        paths=[ [] ]                     \n",
    "    \n",
    "    for cur_length in range(0, max_length):\n",
    "        print(f\"Paths of length {cur_length+1}:\\n===================\")\n",
    "        cur_contribs_list = []\n",
    "        for path in paths:\n",
    "            try:\n",
    "                cur_token = path[0]['token']\n",
    "                cur_layer = path[0]['layer']\n",
    "                cur_sublayer = path[0]['sublayer']\n",
    "            except:\n",
    "                cur_token = -1\n",
    "                cur_layer = len(model.transformer.h)\n",
    "                cur_sublayer = \"\"\n",
    "            \n",
    "            # TODO: if (cur_layer, cur_sublayer) == (0, 'attn'), then treat this as an embedding\n",
    "            \n",
    "            # append contrib for each head-token, MLP to cur_contribs_list\n",
    "            # first, attention: loop through all layer-head-tokens\n",
    "            if use_attn:\n",
    "                attn_num_layers = cur_layer\n",
    "                if cur_sublayer == 'attn':\n",
    "                    attn_num_layers -= 1\n",
    "                for attn_layer in range(attn_num_layers):\n",
    "                    for head in range(model.transformer.h[0].attn.attention.num_heads):\n",
    "                        for token in range(num_tokens):\n",
    "                            new_path = [{'layer': attn_layer, 'sublayer': 'attn', 'token': token, 'head': head}] + path\n",
    "                            clean, dirty = path_patching_per_token(model, embeddings_pos, embeddings_neg, new_path, only_patch_ov=True, no_ln_f=no_ln_f)\n",
    "                            contrib = (range_normal @ clean[0,-1,:] - range_normal @ dirty[0,-1,:]).item()\n",
    "                            cur_contribs_list.append({'path': new_path, 'contrib': contrib})\n",
    "            # next, mlp\n",
    "            if use_mlp:\n",
    "                mlp_num_layers = cur_layer - 1\n",
    "                for mlp_layer in range(mlp_num_layers):\n",
    "                    new_path = [{'layer': mlp_layer, 'sublayer': 'mlp', 'token': cur_token, 'head': -1}] + path\n",
    "                    clean, dirty = path_patching_per_token(model, embeddings_pos, embeddings_neg, new_path, only_patch_ov=True, no_ln_f=no_ln_f)\n",
    "                    contrib = (range_normal @ clean[0,-1,:] - range_normal @ dirty[0,-1,:]).item()\n",
    "                    cur_contribs_list.append({'path': new_path, 'contrib': contrib})\n",
    "                    \n",
    "            # now, embeddings\n",
    "            new_path = [{'layer': 0, 'sublayer': 'embedding', 'token': cur_token, 'head': -1}] + path\n",
    "            clean, dirty = path_patching_per_token(model, embeddings_pos, embeddings_neg, new_path, only_patch_ov=True, no_ln_f=no_ln_f)\n",
    "            contrib = (range_normal @ clean[0,-1,:] - range_normal @ dirty[0,-1,:]).item()\n",
    "            embedding_contribs_list.append({'path': new_path, 'contrib': contrib})\n",
    "            \n",
    "        # sort cur_contribs_list, take the top num_paths entries\n",
    "        if type(num_paths) == list:\n",
    "            cur_num_paths = num_paths[cur_length-1]\n",
    "        elif type(num_paths) == int:\n",
    "            cur_num_paths = num_paths\n",
    "        else:\n",
    "            raise Exception(\"Invalid type for num_paths: \" + str(type(num_paths)))\n",
    "        \n",
    "        cur_contribs_list = list(sorted(cur_contribs_list, key=lambda x: x['contrib'], reverse=(not least_attrib)))[:cur_num_paths]\n",
    "        for contrib in cur_contribs_list:\n",
    "            print_path(list(reversed(contrib['path'])))\n",
    "            print(\":\", contrib['contrib'])\n",
    "        embedding_contribs_list = list(sorted(embedding_contribs_list, key=lambda x: x['contrib'], reverse=(not least_attrib)))[:cur_num_paths]\n",
    "        for contrib in embedding_contribs_list:\n",
    "            print_path(list(reversed(contrib['path'])))\n",
    "            print(\":\", contrib['contrib'])\n",
    "        print()\n",
    "        paths = [x['path'] for x in cur_contribs_list]\n",
    "    return cur_contribs_list, embedding_contribs_list"
   ]
  },
  {
   "cell_type": "code",
   "execution_count": 50,
   "id": "b85b27a2-4a51-49d3-8ce7-50dcc2ccf77f",
   "metadata": {},
   "outputs": [],
   "source": [
    "def domain_boundary_intersection(x_pos, x_neg, f, range_normal, range_affine, lr=0.01, eps=0.000001):\n",
    "    with torch.enable_grad():\n",
    "        g = lambda t_: (range_normal.detach() @ ( f((1-t_)*x_neg.detach() + t_*x_pos.detach()) - range_affine.detach()))**2\n",
    "        t = torch.Tensor([0.5]).detach().to(\"cuda\")\n",
    "        t.requires_grad_(True)\n",
    "        \n",
    "        optimizer = torch.optim.Adam([t], lr=lr)\n",
    "        \n",
    "        loss = None\n",
    "        prev_loss = None\n",
    "        while loss is None or abs(loss.item()) > eps:\n",
    "            optimizer.zero_grad()\n",
    "            prev_loss = loss\n",
    "            loss = g(t)\n",
    "            if prev_loss is not None and abs(prev_loss.item() - loss.item()) < eps**2: break\n",
    "            loss.backward()\n",
    "            optimizer.step()\n",
    "            with torch.no_grad():\n",
    "                t[:] = torch.clamp(t, min=0, max=1)\n",
    "        #print(\"Final loss:\", loss.item())\n",
    "        #print(\"Final t:\", t)\n",
    "        \n",
    "        #if prev_loss is not None: print(abs(prev_loss.item() - loss.item()))\n",
    "        #if t.item() == 0 or t.item() == 1: t = 0.5\n",
    "        return (1-t)*x_neg + t*x_pos"
   ]
  },
  {
   "cell_type": "code",
   "execution_count": 51,
   "id": "2549581b-eb8a-421e-80aa-d449a06b497d",
   "metadata": {},
   "outputs": [],
   "source": [
    "def print_path(path):\n",
    "    for i, node in enumerate(path):\n",
    "        if node['sublayer'] == 'attn':\n",
    "            print(f\"attn{node['layer']}.{node['head']}@{node['token']}\", end=\"\")\n",
    "        elif node['sublayer'] == 'mlp':\n",
    "            print(f\"mlp{node['layer']}@{node['token']}\", end=\"\")\n",
    "        elif node['sublayer'] == 'lm_out':\n",
    "            print(f\"lm_out@{node['token']}\", end=\"\")\n",
    "        elif node['sublayer'] == 'embedding':\n",
    "            print(f\"embedding@{node['token']}\", end=\"\")\n",
    "        if i != len(path)-1: print(\" <= \", end=\"\")"
   ]
  },
  {
   "cell_type": "code",
   "execution_count": 52,
   "id": "29356126-ed1f-4fee-abbe-3ff7f1aa79dc",
   "metadata": {},
   "outputs": [],
   "source": [
    "def token2embedding(token):\n",
    "    with torch.no_grad():\n",
    "        retval = model.transformer.wte(tokenizer(token, return_tensors=\"pt\")['input_ids'][0,0].to(\"cuda\"))\n",
    "    return retval"
   ]
  },
  {
   "cell_type": "markdown",
   "id": "0711b22a-cfe2-4d08-869e-509d22293480",
   "metadata": {},
   "source": [
    "# Setup"
   ]
  },
  {
   "cell_type": "markdown",
   "id": "0085788f-7ab6-42b9-8752-01aa7ed3221e",
   "metadata": {},
   "source": [
    "## Model setup"
   ]
  },
  {
   "cell_type": "code",
   "execution_count": 53,
   "id": "7878740e-c72d-4bfb-80ef-469c6df9d10c",
   "metadata": {
    "tags": []
   },
   "outputs": [],
   "source": [
    "from transformers import AutoTokenizer, AutoModelForCausalLM, AutoConfig\n",
    "\n",
    "model_str = \"EleutherAI/gpt-neo-1.3b\"\n",
    "tokenizer = AutoTokenizer.from_pretrained(model_str)\n",
    "config = AutoConfig.from_pretrained(model_str, output_hidden_states=True, output_attentions=True, low_cpu_mem_usage=True)\n",
    "model = AutoModelForCausalLM.from_pretrained(model_str, config=config, low_cpu_mem_usage=True)"
   ]
  },
  {
   "cell_type": "code",
   "execution_count": 54,
   "id": "42233a43-1b80-4f3e-85b0-8f0909892f2f",
   "metadata": {},
   "outputs": [],
   "source": [
    "model = model.to(\"cuda:0\")"
   ]
  },
  {
   "cell_type": "markdown",
   "id": "08f28afa-569f-44b1-bc83-8591c81b5c86",
   "metadata": {},
   "source": [
    "## Dataset setup"
   ]
  },
  {
   "cell_type": "markdown",
   "id": "f1f900a6-f26a-4aef-9f2f-31d2073bbc37",
   "metadata": {},
   "source": [
    "### Get names"
   ]
  },
  {
   "cell_type": "code",
   "execution_count": 55,
   "id": "64d4806b-dd4f-46f8-b460-6b540c23cb98",
   "metadata": {},
   "outputs": [],
   "source": [
    "import csv\n",
    "\n",
    "male_names = []\n",
    "female_names = []\n",
    "\n",
    "# Gender by Name. (2020). UCI Machine Learning Repository. https://doi.org/10.24432/C55G7X.\n",
    "# get top 100 names of each gender from dataset that are one token long\n",
    "with open('name_gender_dataset.csv', newline='') as fp:\n",
    "    reader = csv.reader(fp, delimiter=',')\n",
    "    next(reader)\n",
    "    for row in reader:\n",
    "        name_with_space = ' ' + row[0]\n",
    "        gender = row[1]\n",
    "        name_tokens = tokenizer(name_with_space)['input_ids']\n",
    "        if len(name_tokens) != 1: continue\n",
    "        if gender == 'M' and len(male_names) < 100: male_names.append(row[0])\n",
    "        elif gender == 'F' and len(female_names) < 100: female_names.append(row[0])\n",
    "        if len(male_names) >= 100 and len(female_names) >= 100: break"
   ]
  },
  {
   "cell_type": "markdown",
   "id": "78f89ae4-6df5-485f-ac7d-d52a81c66846",
   "metadata": {},
   "source": [
    "### Make prompts\n",
    "\n",
    "The \"subject pronoun\" prompts are largely inspired by Mathwin et al. 2022."
   ]
  },
  {
   "cell_type": "code",
   "execution_count": 57,
   "id": "fd523c9b-6993-434d-93b3-21c09dba156a",
   "metadata": {},
   "outputs": [],
   "source": [
    "subj_prompt_templates = [\n",
    "    \"<|endoftext|>So, [NAME] really is a great friend, isn't\",\n",
    "    \"<|endoftext|>Man, [NAME] is so funny, isn't\",\n",
    "    \"<|endoftext|>Really, [NAME] always works so hard, doesn't\"\n",
    "]\n",
    "\n",
    "subj_prompts_male = []\n",
    "for template in subj_prompt_templates:\n",
    "    for name in male_names:\n",
    "        subj_prompts_male.append(template.replace(\"[NAME]\", name))\n",
    "subj_prompts_female = []\n",
    "for template in subj_prompt_templates:\n",
    "    for name in female_names:\n",
    "        subj_prompts_female.append(template.replace(\"[NAME]\", name))"
   ]
  },
  {
   "cell_type": "code",
   "execution_count": 58,
   "id": "55581920-fded-4551-806a-e96abc703c95",
   "metadata": {},
   "outputs": [],
   "source": [
    "obj_prompt_templates = [\n",
    "    \"<|endoftext|>What do I think about [NAME]? Well, to be honest, I love\",\n",
    "    \"<|endoftext|>When it comes to [NAME], I gotta say, I really hate\",\n",
    "    \"<|endoftext|>This is a present for [NAME]. Tomorrow, I'm gonna give it to\"\n",
    "]\n",
    "\n",
    "obj_prompts_male = []\n",
    "for template in obj_prompt_templates:\n",
    "    for name in male_names:\n",
    "        obj_prompts_male.append(template.replace(\"[NAME]\", name))\n",
    "obj_prompts_female = []\n",
    "for template in obj_prompt_templates:\n",
    "    for name in female_names:\n",
    "        obj_prompts_female.append(template.replace(\"[NAME]\", name))"
   ]
  },
  {
   "cell_type": "code",
   "execution_count": 59,
   "id": "d98dc1de-f862-4f0f-8a3d-0f8319d19945",
   "metadata": {},
   "outputs": [],
   "source": [
    "occu_prompt_templates = [\n",
    "    \"<|endoftext|>My friend [NAME] is an excellent\",\n",
    "    \"<|endoftext|>Recently, [NAME] has been recognized as a great\",\n",
    "    \"<|endoftext|>His cousin [NAME] works hard at being a great\",\n",
    "]\n",
    "\n",
    "occu_prompts_male = []\n",
    "for template in occu_prompt_templates:\n",
    "    for name in male_names:\n",
    "        occu_prompts_male.append(template.replace(\"[NAME]\", name))\n",
    "occu_prompts_female = []\n",
    "for template in occu_prompt_templates:\n",
    "    for name in female_names:\n",
    "        occu_prompts_female.append(template.replace(\"[NAME]\", name))"
   ]
  },
  {
   "cell_type": "markdown",
   "id": "3d028e33-55a4-4a03-9c8b-939b266bbe6f",
   "metadata": {},
   "source": [
    "## Get embeddings\n",
    "\n",
    "We'll be using embeddings to propagate our feature vectors through nonlinearities. However, we'll only use the embeddings from a single prompt of each gender (for both the occupation prediction and pronoun prediction observables)."
   ]
  },
  {
   "cell_type": "code",
   "execution_count": 60,
   "id": "ae3227f1-ba44-455a-a53f-345a97f7ac60",
   "metadata": {},
   "outputs": [
    {
     "name": "stderr",
     "output_type": "stream",
     "text": [
      "  0%|          | 0/1 [00:07<?, ?it/s]\n",
      "  0%|          | 0/1 [00:00<?, ?it/s]\n"
     ]
    }
   ],
   "source": [
    "occu_embeddings_male = embeddings_from_prompt_list(model, [occu_prompts_male[0]])\n",
    "occu_embeddings_female = embeddings_from_prompt_list(model, [occu_prompts_female[0]])"
   ]
  },
  {
   "cell_type": "code",
   "execution_count": 61,
   "id": "19010f8d-5d7e-453c-9424-fc46d42405e0",
   "metadata": {},
   "outputs": [
    {
     "name": "stderr",
     "output_type": "stream",
     "text": [
      "  0%|          | 0/1 [00:00<?, ?it/s]\n",
      "  0%|          | 0/1 [00:00<?, ?it/s]\n"
     ]
    }
   ],
   "source": [
    "subj_embeddings_male = embeddings_from_prompt_list(model, [subj_prompts_male[0]])\n",
    "subj_embeddings_female = embeddings_from_prompt_list(model, [subj_prompts_female[0]])"
   ]
  },
  {
   "cell_type": "markdown",
   "id": "4d53fc74-42b3-47c0-af5d-41b1bd724e20",
   "metadata": {},
   "source": [
    "We'll also get embeddings for object pronouns."
   ]
  },
  {
   "cell_type": "code",
   "execution_count": 62,
   "id": "1c989dfe-7c4b-43b0-bb18-38528db32e65",
   "metadata": {},
   "outputs": [
    {
     "name": "stderr",
     "output_type": "stream",
     "text": [
      "  0%|          | 0/1 [00:00<?, ?it/s]\n",
      "  0%|          | 0/1 [00:00<?, ?it/s]\n"
     ]
    }
   ],
   "source": [
    "obj_embeddings_male = embeddings_from_prompt_list(model, [\"<|endoftext|>What do I think of John? Well, I love\"])\n",
    "obj_embeddings_female = embeddings_from_prompt_list(model, [\"<|endoftext|>What do I think of Jane? Well, I love\"])"
   ]
  },
  {
   "cell_type": "markdown",
   "id": "29c075e1-0e1c-4106-9152-efc02689b537",
   "metadata": {},
   "source": [
    "## Propagate observable through `ln_f`"
   ]
  },
  {
   "cell_type": "markdown",
   "id": "b31a695f-96d6-4d3a-bb78-bb49088f45a4",
   "metadata": {},
   "source": [
    "### Gendered occupations"
   ]
  },
  {
   "cell_type": "code",
   "execution_count": 63,
   "id": "08aa436f-21b1-48d6-90a7-d5cff2c27807",
   "metadata": {},
   "outputs": [
    {
     "name": "stdout",
     "output_type": "stream",
     "text": [
      "torch.Size([50257])\n"
     ]
    },
    {
     "name": "stderr",
     "output_type": "stream",
     "text": [
      "/tmp/ipykernel_54740/72145989.py:29: UserWarning: The use of `x.T` on tensors of dimension other than 2 to reverse their shape is deprecated and it will throw an error in a future release. Consider `x.mT` to transpose batches of matrices or `x.permute(*torch.arange(x.ndim - 1, -1, -1))` to reverse the dimensions of a tensor. (Triggered internally at /opt/conda/conda-bld/pytorch_1682343997789/work/aten/src/ATen/native/TensorShape.cpp:3571.)\n",
      "  n = n.T.to(\"cuda\", dtype=torch.float32)\n"
     ]
    }
   ],
   "source": [
    "occu_range_normal = make_range_normal([' nurse', ' teacher', ' secretary'], [' programmer', ' doctor', ' engineer'])"
   ]
  },
  {
   "cell_type": "code",
   "execution_count": 64,
   "id": "0590090c-d470-4d3e-abc8-7932e6af6ef9",
   "metadata": {},
   "outputs": [],
   "source": [
    "zeros = torch.zeros(occu_range_normal.shape).to(\"cuda\")"
   ]
  },
  {
   "cell_type": "code",
   "execution_count": 65,
   "id": "77c2527d-9ba5-401e-bf79-45ec00a309d7",
   "metadata": {},
   "outputs": [],
   "source": [
    "occu_ln_f_x0 = torch.from_numpy(occu_embeddings_male[0]['ln_f_in'][:, -1, :]).to(\"cuda\")"
   ]
  },
  {
   "cell_type": "code",
   "execution_count": 66,
   "id": "ab38d587-66c6-4ca9-9864-2d29df3b5711",
   "metadata": {
    "scrolled": true
   },
   "outputs": [
    {
     "name": "stdout",
     "output_type": "stream",
     "text": [
      "Final loss: 1.1125399396405555e-05\n",
      "9.999999999999998e-15\n",
      "0.0\n"
     ]
    }
   ],
   "source": [
    "occu_ln_f_normal, occu_ln_f_affine = get_normal_and_affine(occu_ln_f_x0[0], model.transformer.ln_f, occu_range_normal,\n",
    "                                     zeros, lr=0.02, eps=0.0000001**2)"
   ]
  },
  {
   "cell_type": "markdown",
   "id": "b545cd31-7c24-4d61-9bf1-92d5ecb43b8e",
   "metadata": {},
   "source": [
    "### Pronouns"
   ]
  },
  {
   "cell_type": "code",
   "execution_count": 67,
   "id": "1ef898ac-5bf7-448b-897a-97764f1f8f07",
   "metadata": {},
   "outputs": [
    {
     "name": "stdout",
     "output_type": "stream",
     "text": [
      "torch.Size([50257])\n"
     ]
    }
   ],
   "source": [
    "subj_range_normal = make_range_normal([' she'], [' he'])"
   ]
  },
  {
   "cell_type": "code",
   "execution_count": 68,
   "id": "5c9c4988-bb9b-4572-abcf-2c20f9f7364c",
   "metadata": {},
   "outputs": [],
   "source": [
    "subj_ln_f_x0 = torch.from_numpy(subj_embeddings_male[0]['ln_f_in'][:, -1, :]).to(\"cuda\")"
   ]
  },
  {
   "cell_type": "code",
   "execution_count": 69,
   "id": "68f068f8-9488-4dd7-85c2-c6e15bb21604",
   "metadata": {
    "scrolled": true
   },
   "outputs": [
    {
     "name": "stdout",
     "output_type": "stream",
     "text": [
      "Final loss: 1.757032066507236e-07\n",
      "9.999999999999998e-15\n",
      "0.0\n"
     ]
    }
   ],
   "source": [
    "subj_ln_f_normal, subj_ln_f_affine = get_normal_and_affine(subj_ln_f_x0[0], model.transformer.ln_f, subj_range_normal,\n",
    "                                     zeros, lr=0.02, eps=0.0000001**2)"
   ]
  },
  {
   "cell_type": "code",
   "execution_count": 70,
   "id": "81006a8b-8416-4d16-95b5-1617eb6e8dbd",
   "metadata": {},
   "outputs": [
    {
     "name": "stdout",
     "output_type": "stream",
     "text": [
      "torch.Size([50257])\n"
     ]
    }
   ],
   "source": [
    "obj_range_normal = make_range_normal([' her'], [' him'])"
   ]
  },
  {
   "cell_type": "code",
   "execution_count": 71,
   "id": "79522bbf-cf38-4fb4-a6f7-95f0c709d6da",
   "metadata": {},
   "outputs": [],
   "source": [
    "obj_ln_f_x0 = torch.from_numpy(obj_embeddings_male[0]['ln_f_in'][:, -1, :]).to(\"cuda\")"
   ]
  },
  {
   "cell_type": "code",
   "execution_count": 72,
   "id": "d79e2a71-c920-44d0-a71c-52b8a889687f",
   "metadata": {
    "scrolled": true
   },
   "outputs": [
    {
     "name": "stdout",
     "output_type": "stream",
     "text": [
      "Final loss: 9.535579010844231e-07\n",
      "9.999999999999998e-15\n",
      "0.0\n"
     ]
    }
   ],
   "source": [
    "obj_ln_f_normal, obj_ln_f_affine = get_normal_and_affine(obj_ln_f_x0[0], model.transformer.ln_f, obj_range_normal,\n",
    "                                     zeros, lr=0.02, eps=0.0000001**2)"
   ]
  },
  {
   "cell_type": "markdown",
   "id": "b9f2ff08-704b-4af9-8230-bbe71868a25f",
   "metadata": {},
   "source": [
    "# Embedding-less feature detection"
   ]
  },
  {
   "cell_type": "code",
   "execution_count": 85,
   "id": "ab3affc0-4b4f-49b9-8177-3d82c15ace19",
   "metadata": {},
   "outputs": [
    {
     "name": "stdout",
     "output_type": "stream",
     "text": [
      "torch.Size([50257])\n",
      "torch.Size([50257])\n",
      "torch.Size([50257])\n",
      "torch.Size([50257])\n",
      "torch.Size([50257])\n",
      "torch.Size([50257])\n"
     ]
    }
   ],
   "source": [
    "ln_f_weight = model.transformer.ln_f.weight\n",
    "subj_range_normal = make_range_normal([' she'], [' he'])\n",
    "obj_range_normal = make_range_normal([' her'], [' him'])\n",
    "suffix_range_normal = make_range_normal(['woman'], ['man'])\n",
    "occupation_range_normal = make_range_normal([' nurse'], [' engineer'])\n",
    "ctrl_range_normal = make_range_normal([' car'], [' angel'])\n",
    "case_range_normal = make_range_normal([' him', ' them', ' me'], [' he', ' they', ' I'])"
   ]
  },
  {
   "cell_type": "code",
   "execution_count": 86,
   "id": "57912557-a5be-4c79-92a7-d6accfbe8bc5",
   "metadata": {},
   "outputs": [],
   "source": [
    "n_layers = len(model.transformer.h)\n",
    "n_heads = model.transformer.h[0].attn.attention.num_heads"
   ]
  },
  {
   "cell_type": "markdown",
   "id": "515d2758-281d-42d3-9892-9e8fcb8b110d",
   "metadata": {},
   "source": [
    "## Feature norms"
   ]
  },
  {
   "cell_type": "code",
   "execution_count": null,
   "id": "b3032425-d94c-4802-ba57-f603b01c7094",
   "metadata": {},
   "outputs": [],
   "source": [
    "subj_head_features = [ [ \n",
    "    get_normal_for_path(model, cur_subj_embeddings_female, cur_subj_embeddings_male, subj_ln_f_normal,\n",
    "        [\n",
    "            {'layer': i, 'sublayer': 'attn', 'token': 3, 'head': j}\n",
    "        ], estimate_dot=True\n",
    "    ).detach().cpu().numpy()\n",
    "for j in range(n_heads) ] for i in range(n_layers) ]\n",
    "\n",
    "obj_head_features = [ [ \n",
    "    get_normal_for_path(model, cur_obj_embeddings_female, cur_obj_embeddings_male, obj_ln_f_normal,\n",
    "        [\n",
    "            {'layer': i, 'sublayer': 'attn', 'token': 3, 'head': j}\n",
    "        ], estimate_dot=True\n",
    "    ).detach().cpu().numpy()\n",
    "for j in range(n_heads) ] for i in range(n_layers) ]"
   ]
  },
  {
   "cell_type": "code",
   "execution_count": 89,
   "id": "c8d418af-6f3b-40fb-b3f9-fedf9e0c2a21",
   "metadata": {},
   "outputs": [],
   "source": [
    "subj_feature_sizes = [ [ torch.linalg.norm(get_attn_normal(model, i, j, subj_range_normal)).detach().cpu().numpy() for j in range(n_heads) ] for i in range(n_layers) ]\n",
    "obj_feature_sizes = [ [ torch.linalg.norm(get_attn_normal(model, i, j, obj_range_normal)).detach().cpu().numpy() for j in range(n_heads) ] for i in range(n_layers) ]"
   ]
  },
  {
   "cell_type": "code",
   "execution_count": null,
   "id": "fefc015e-797b-4ff2-adae-d57c30d37d47",
   "metadata": {},
   "outputs": [],
   "source": [
    "test_attn_normal.detach().cpu().numpy() @ subj_embeddings_female[0]['layers'][17]['ln_1_in'][0,-1,:]"
   ]
  },
  {
   "cell_type": "code",
   "execution_count": 90,
   "id": "7b46a68f-05e2-4f90-8d91-2d0eb444276d",
   "metadata": {},
   "outputs": [],
   "source": [
    "subj_ln_norm = np.mean([np.linalg.norm(x['ln_f_in'][0,-1,:]) for x in subj_embeddings_female+subj_embeddings_male])\n",
    "obj_ln_norm = np.mean([np.linalg.norm(x['ln_f_in'][0,-1,:]) for x in obj_embeddings_female+obj_embeddings_male])\n",
    "\n",
    "subj_ln_f_weight = model.transformer.ln_f.weight * np.sqrt(2048) / subj_ln_norm\n",
    "obj_ln_f_weight = model.transformer.ln_f.weight * np.sqrt(2048) / obj_ln_norm\n",
    "\n",
    "subj_feature_sizes_ln = [\n",
    "    [ torch.linalg.norm(\n",
    "        (get_attn_normal(model, i, j, subj_range_normal)) * model.transformer.h[i].ln_1.weight * np.sqrt(2048) * subj_ln_f_weight\n",
    "    ).detach().cpu().numpy() for j in range(n_heads) ] for i in range(n_layers)\n",
    "]\n",
    "\n",
    "obj_feature_sizes_ln = [\n",
    "    [ torch.linalg.norm(\n",
    "        (get_attn_normal(model, i, j, obj_range_normal)) * model.transformer.h[i].ln_1.weight * np.sqrt(2048) * obj_ln_f_weight\n",
    "    ).detach().cpu().numpy() for j in range(n_heads) ] for i in range(n_layers)\n",
    "]"
   ]
  },
  {
   "cell_type": "code",
   "execution_count": null,
   "id": "abc0ffaa-cc28-4168-91a5-4175c48c5617",
   "metadata": {},
   "outputs": [],
   "source": [
    "plt.matshow(subj_feature_sizes)\n",
    "plt.xlabel(\"Attention head\")\n",
    "plt.ylabel(\"Layer\")\n",
    "plt.title(\"Subject pronoun feature norms\")\n",
    "plt.colorbar()"
   ]
  },
  {
   "cell_type": "code",
   "execution_count": 118,
   "id": "7a33081d-0161-416d-b540-efebc7264839",
   "metadata": {},
   "outputs": [
    {
     "data": {
      "text/plain": [
       "<matplotlib.colorbar.Colorbar at 0x1471c0278af0>"
      ]
     },
     "execution_count": 118,
     "metadata": {},
     "output_type": "execute_result"
    },
    {
     "data": {
      "image/png": "[encoded data removed]",
      "text/plain": [
       "<Figure size 640x480 with 2 Axes>"
      ]
     },
     "metadata": {},
     "output_type": "display_data"
    }
   ],
   "source": [
    "fig, ax = plt.subplots()\n",
    "subj_feature_sizes_ln_matshow = ax.matshow(subj_feature_sizes_ln)\n",
    "ax.set_xlabel(\"Attention head\")\n",
    "ax.set_ylabel(\"Layer\")\n",
    "ax.set_title(\"Subject pronoun feature norms w/ LayerNorm\", fontsize=10)\n",
    "fig.colorbar(subj_feature_sizes_ln_matshow, ax=ax)"
   ]
  },
  {
   "cell_type": "code",
   "execution_count": 95,
   "id": "12f58116-8475-435c-9d44-fe52f0db1129",
   "metadata": {},
   "outputs": [
    {
     "data": {
      "text/plain": [
       "<matplotlib.colorbar.Colorbar at 0x148d8ccc6880>"
      ]
     },
     "execution_count": 95,
     "metadata": {},
     "output_type": "execute_result"
    },
    {
     "data": {
      "image/png": "[encoded data removed]",
      "text/plain": [
       "<Figure size 640x480 with 2 Axes>"
      ]
     },
     "metadata": {},
     "output_type": "display_data"
    }
   ],
   "source": [
    "fig, ax = plt.subplots()\n",
    "obj_feature_sizes_ln_matshow = ax.matshow(obj_feature_sizes_ln)\n",
    "ax.set_xlabel(\"Attention head\")\n",
    "ax.set_ylabel(\"Layer\")\n",
    "ax.set_title(\"Object pronoun feature norms w/ LayerNorm\", fontsize=10)\n",
    "fig.colorbar(obj_feature_sizes_ln_matshow, ax=ax)"
   ]
  },
  {
   "cell_type": "code",
   "execution_count": 212,
   "id": "b4d50e58-31af-4245-a950-24cdc50b2922",
   "metadata": {},
   "outputs": [
    {
     "data": {
      "text/plain": [
       "tensor([26.3397, 26.3397, 27.5772,  ..., 26.6933, 24.9255, 27.5772],\n",
       "       device='cuda:0', grad_fn=<MulBackward0>)"
      ]
     },
     "execution_count": 212,
     "metadata": {},
     "output_type": "execute_result"
    }
   ],
   "source": [
    "model.transformer.h[17].ln_1.weight * np.sqrt(2048)"
   ]
  },
  {
   "cell_type": "code",
   "execution_count": 76,
   "id": "717d40ca-8044-49f6-b230-18f7ca17313d",
   "metadata": {},
   "outputs": [
    {
     "name": "stdout",
     "output_type": "stream",
     "text": [
      "Top heads:\n",
      "[[18 11]\n",
      " [17 14]\n",
      " [13 11]\n",
      " [15 13]\n",
      " [18  0]]\n",
      "\n",
      "Top heads' respective values:\n",
      "tensor([72.2168, 70.7219, 45.9200, 39.4049, 17.4824])\n"
     ]
    }
   ],
   "source": [
    "subj_feature_sizes_tensor = torch.from_numpy(np.array(subj_feature_sizes))\n",
    "top_subj_feature_sizes, top_subj_feature_sizes_indices = torch.topk(subj_feature_sizes_tensor.flatten(), 5)\n",
    "print(\"Top heads:\")\n",
    "print(np.array(np.unravel_index(top_subj_feature_sizes_indices.numpy(), subj_feature_sizes_tensor.shape)).T)\n",
    "print()\n",
    "print(\"Top heads' respective values:\")\n",
    "print(top_subj_feature_sizes)"
   ]
  },
  {
   "cell_type": "code",
   "execution_count": 98,
   "id": "650004ad-40c3-4833-9e20-096993bb992e",
   "metadata": {},
   "outputs": [
    {
     "name": "stdout",
     "output_type": "stream",
     "text": [
      "Top heads:\n",
      "[[18 11]\n",
      " [17 14]\n",
      " [13 11]\n",
      " [15 13]\n",
      " [ 9  1]]\n",
      "\n",
      "Top heads' respective values:\n",
      "tensor([237.3204, 236.2457, 186.3744, 145.4124,  73.2155])\n"
     ]
    }
   ],
   "source": [
    "subj_feature_sizes_tensor = torch.from_numpy(np.array(subj_feature_sizes_ln))\n",
    "top_subj_feature_sizes, top_subj_feature_sizes_indices = torch.topk(subj_feature_sizes_tensor.flatten(), 5)\n",
    "print(\"Top heads:\")\n",
    "print(np.array(np.unravel_index(top_subj_feature_sizes_indices.numpy(), subj_feature_sizes_tensor.shape)).T)\n",
    "print()\n",
    "print(\"Top heads' respective values:\")\n",
    "print(top_subj_feature_sizes)"
   ]
  },
  {
   "cell_type": "code",
   "execution_count": 128,
   "id": "4e6042e3-ab49-438d-bf83-31d3eb99c787",
   "metadata": {},
   "outputs": [
    {
     "data": {
      "text/plain": [
       "<matplotlib.colorbar.Colorbar at 0x149f20759670>"
      ]
     },
     "execution_count": 128,
     "metadata": {},
     "output_type": "execute_result"
    },
    {
     "data": {
      "image/png": "[encoded data removed]",
      "text/plain": [
       "<Figure size 400x600 with 2 Axes>"
      ]
     },
     "metadata": {},
     "output_type": "display_data"
    }
   ],
   "source": [
    "plt.matshow(obj_feature_sizes)\n",
    "plt.xlabel(\"Attention head\")\n",
    "plt.ylabel(\"Layer\")\n",
    "plt.title(\"Object pronoun feature norms\")\n",
    "plt.colorbar()"
   ]
  },
  {
   "cell_type": "code",
   "execution_count": 87,
   "id": "38f6071d-ce7e-4fc2-b493-265ffdc683c4",
   "metadata": {},
   "outputs": [
    {
     "data": {
      "text/plain": [
       "<matplotlib.colorbar.Colorbar at 0x14c9a07d49d0>"
      ]
     },
     "execution_count": 87,
     "metadata": {},
     "output_type": "execute_result"
    },
    {
     "data": {
      "image/png": "[encoded data removed]",
      "text/plain": [
       "<Figure size 400x600 with 2 Axes>"
      ]
     },
     "metadata": {},
     "output_type": "display_data"
    }
   ],
   "source": [
    "plt.matshow(obj_feature_sizes_ln)\n",
    "plt.xlabel(\"Attention head\")\n",
    "plt.ylabel(\"Layer\")\n",
    "plt.title(\"Object pronoun feature norms\")\n",
    "plt.colorbar()"
   ]
  },
  {
   "cell_type": "code",
   "execution_count": 77,
   "id": "6b5e85ac-219c-486a-9535-6334b2974941",
   "metadata": {},
   "outputs": [
    {
     "name": "stdout",
     "output_type": "stream",
     "text": [
      "Top heads:\n",
      "[[18 11]\n",
      " [17 14]\n",
      " [13 11]\n",
      " [15 13]\n",
      " [14 10]]\n",
      "\n",
      "Top heads' respective values:\n",
      "tensor([69.2137, 68.9342, 51.8211, 44.0450, 19.5974])\n"
     ]
    }
   ],
   "source": [
    "obj_feature_sizes_tensor = torch.from_numpy(np.array(obj_feature_sizes))\n",
    "top_obj_feature_sizes, top_obj_feature_sizes_indices = torch.topk(obj_feature_sizes_tensor.flatten(), 5)\n",
    "print(\"Top heads:\")\n",
    "print(np.array(np.unravel_index(top_obj_feature_sizes_indices.numpy(), obj_feature_sizes_tensor.shape)).T)\n",
    "print()\n",
    "print(\"Top heads' respective values:\")\n",
    "print(top_obj_feature_sizes)"
   ]
  },
  {
   "cell_type": "markdown",
   "id": "e7f7fc95-9aa5-44e9-b905-46bfe59db214",
   "metadata": {},
   "source": [
    "## Cosine similarities"
   ]
  },
  {
   "cell_type": "code",
   "execution_count": 74,
   "id": "311f1273-1bbc-4ba3-8503-300811dc8a5a",
   "metadata": {},
   "outputs": [],
   "source": [
    "with torch.no_grad():\n",
    "    subj_obj_cossims = [ [ cossim(get_attn_normal(model, i, j, subj_range_normal), get_attn_normal(model, i, j, obj_range_normal)).detach().cpu().numpy() for j in range(n_heads) ] for i in range(n_layers) ]\n",
    "    subj_ctrl_cossims = [ [ cossim(get_attn_normal(model, i, j, subj_range_normal), get_attn_normal(model, i, j, ctrl_range_normal)).detach().cpu().numpy() for j in range(n_heads) ] for i in range(n_layers) ]\n",
    "    obj_ctrl_cossims = [ [ cossim(get_attn_normal(model, i, j, obj_range_normal), get_attn_normal(model, i, j, ctrl_range_normal)).detach().cpu().numpy() for j in range(n_heads) ] for i in range(n_layers) ]\n",
    "    suffix_subj_cossims = [ [ cossim(get_attn_normal(model, i, j, suffix_range_normal), get_attn_normal(model, i, j, subj_range_normal)).detach().cpu().numpy() for j in range(n_heads) ] for i in range(n_layers) ]\n",
    "    suffix_obj_cossims = [ [ cossim(get_attn_normal(model, i, j, suffix_range_normal), get_attn_normal(model, i, j, obj_range_normal)).detach().cpu().numpy() for j in range(n_heads) ] for i in range(n_layers) ]\n",
    "    occupation_subj_cossims = [ [ cossim(get_attn_normal(model, i, j, occupation_range_normal), get_attn_normal(model, i, j, subj_range_normal)).detach().cpu().numpy() for j in range(n_heads) ] for i in range(n_layers) ]\n",
    "    occupation_obj_cossims = [ [ cossim(get_attn_normal(model, i, j, occupation_range_normal), get_attn_normal(model, i, j, obj_range_normal)).detach().cpu().numpy() for j in range(n_heads) ] for i in range(n_layers) ]"
   ]
  },
  {
   "cell_type": "markdown",
   "id": "ed9c9591-fb75-4b20-b99d-271eb888c1c7",
   "metadata": {},
   "source": [
    "### Subject-object"
   ]
  },
  {
   "cell_type": "code",
   "execution_count": 72,
   "id": "43d31b80-bb99-4d12-a7be-28d6f56f52d5",
   "metadata": {},
   "outputs": [
    {
     "data": {
      "text/plain": [
       "<matplotlib.colorbar.Colorbar at 0x1531a14a8250>"
      ]
     },
     "execution_count": 72,
     "metadata": {},
     "output_type": "execute_result"
    },
    {
     "data": {
      "image/png": "[encoded data removed]",
      "text/plain": [
       "<Figure size 400x600 with 2 Axes>"
      ]
     },
     "metadata": {},
     "output_type": "display_data"
    }
   ],
   "source": [
    "plt.matshow(subj_obj_cossims)\n",
    "plt.xlabel(\"Attention head\")\n",
    "plt.ylabel(\"Layer\")\n",
    "plt.title(\"Subject-object cosine sims\")\n",
    "plt.colorbar()"
   ]
  },
  {
   "cell_type": "markdown",
   "id": "cb70b7f5-7c1d-4637-8b5a-30818159de7b",
   "metadata": {},
   "source": [
    "Get heads with highest cosine similarities."
   ]
  },
  {
   "cell_type": "code",
   "execution_count": 73,
   "id": "16202228-bd4b-48a5-ba33-5849c9d3a83b",
   "metadata": {},
   "outputs": [
    {
     "name": "stdout",
     "output_type": "stream",
     "text": [
      "Top heads:\n",
      "[[17 14]\n",
      " [18 11]\n",
      " [15 13]\n",
      " [13 11]\n",
      " [22  2]]\n",
      "\n",
      "Top heads' respective values:\n",
      "tensor([0.9882, 0.9831, 0.9816, 0.9352, 0.9102])\n"
     ]
    }
   ],
   "source": [
    "subj_obj_cossims_tensor = torch.from_numpy(np.array(subj_obj_cossims))\n",
    "top_subj_obj_cossims, top_subj_obj_cossim_indices = torch.topk(subj_obj_cossims_tensor.flatten(), 5)\n",
    "print(\"Top heads:\")\n",
    "print(np.array(np.unravel_index(top_subj_obj_cossim_indices.numpy(), subj_obj_cossims_tensor.shape)).T)\n",
    "print()\n",
    "print(\"Top heads' respective values:\")\n",
    "print(top_subj_obj_cossims)"
   ]
  },
  {
   "cell_type": "markdown",
   "id": "f5e4c956-00ee-4bb3-a63c-a398b7c404f5",
   "metadata": {},
   "source": [
    "What's the cosine similarities between our range vectors?"
   ]
  },
  {
   "cell_type": "code",
   "execution_count": 74,
   "id": "ba4984d3-b654-4146-b6f5-2a61866088de",
   "metadata": {},
   "outputs": [
    {
     "data": {
      "text/plain": [
       "tensor(0.5685, device='cuda:0', grad_fn=<DivBackward0>)"
      ]
     },
     "execution_count": 74,
     "metadata": {},
     "output_type": "execute_result"
    }
   ],
   "source": [
    "cossim(subj_range_normal, obj_range_normal)"
   ]
  },
  {
   "cell_type": "markdown",
   "id": "383148f4-9566-46b6-aa24-f3648fb18315",
   "metadata": {},
   "source": [
    "Relatively high, but much lower than those of these attention heads' features. This indicates that these attention heads in particular are performing specific computations relevant to both the subject pronoun case and the object pronoun case. It's not just that the two range normals were similarly-aligned to begin with."
   ]
  },
  {
   "cell_type": "markdown",
   "id": "8be1bbc8-8ffc-4b28-a674-91da4beb288f",
   "metadata": {},
   "source": [
    "Now, look at cosine similarities with the control range normal."
   ]
  },
  {
   "cell_type": "markdown",
   "id": "7763573e-6529-4168-89d1-2f773aa635d6",
   "metadata": {},
   "source": [
    "## Coupling coefficients"
   ]
  },
  {
   "cell_type": "code",
   "execution_count": 94,
   "id": "be583ac4-0584-4f33-8950-c698b2adbf94",
   "metadata": {},
   "outputs": [],
   "source": [
    "subj_obj_couplings = [ [ coupling_coeff(get_attn_normal(model, i, j, subj_range_normal), get_attn_normal(model, i, j, obj_range_normal)).detach().cpu().numpy() for j in range(n_heads) ] for i in range(n_layers) ]\n",
    "subj_ctrl_couplings = [ [ coupling_coeff(get_attn_normal(model, i, j, subj_range_normal), get_attn_normal(model, i, j, ctrl_range_normal)).detach().cpu().numpy() for j in range(n_heads) ] for i in range(n_layers) ]\n",
    "obj_ctrl_couplings = [ [ coupling_coeff(get_attn_normal(model, i, j, obj_range_normal), get_attn_normal(model, i, j, ctrl_range_normal)).detach().cpu().numpy() for j in range(n_heads) ] for i in range(n_layers) ]\n",
    "subj_occupation_couplings = [ [ coupling_coeff(get_attn_normal(model, i, j, subj_range_normal), get_attn_normal(model, i, j, occupation_range_normal)).detach().cpu().numpy() for j in range(n_heads) ] for i in range(n_layers) ]"
   ]
  },
  {
   "cell_type": "code",
   "execution_count": 78,
   "id": "b8df5fb8-b9ef-4bc6-a361-7edd96effc70",
   "metadata": {},
   "outputs": [
    {
     "data": {
      "text/plain": [
       "<matplotlib.colorbar.Colorbar at 0x14c7eb91aa30>"
      ]
     },
     "execution_count": 78,
     "metadata": {},
     "output_type": "execute_result"
    },
    {
     "data": {
      "image/png": "[encoded data removed]",
      "text/plain": [
       "<Figure size 400x600 with 2 Axes>"
      ]
     },
     "metadata": {},
     "output_type": "display_data"
    }
   ],
   "source": [
    "plt.matshow(subj_obj_couplings)\n",
    "plt.xlabel(\"Attention head\")\n",
    "plt.ylabel(\"Layer\")\n",
    "plt.title(\"Subject-object coupling coeffs\")\n",
    "plt.colorbar()"
   ]
  },
  {
   "cell_type": "code",
   "execution_count": 81,
   "id": "3739d7c0-7a7d-4756-a9ca-4b364e6595c5",
   "metadata": {},
   "outputs": [
    {
     "data": {
      "text/plain": [
       "(array(0.67086416, dtype=float32),\n",
       " array(0.7730598, dtype=float32),\n",
       " array(0.73551905, dtype=float32))"
      ]
     },
     "execution_count": 81,
     "metadata": {},
     "output_type": "execute_result"
    }
   ],
   "source": [
    "subj_obj_couplings[17][14], subj_obj_couplings[15][13], subj_obj_couplings[13][11]"
   ]
  },
  {
   "cell_type": "markdown",
   "id": "38522c65-5d30-4470-b9f6-1b925c7c8869",
   "metadata": {},
   "source": [
    "# Patching head attribution"
   ]
  },
  {
   "cell_type": "code",
   "execution_count": 73,
   "id": "0c1ff831-6bc2-4fc4-ab85-7344bd234405",
   "metadata": {},
   "outputs": [],
   "source": [
    "def get_layer_head_patching_scores(model, embeddings_pos_np, embeddings_neg_np, range_normal, only_patch_ov=False, no_ln_f=False):\n",
    "    with torch.no_grad():\n",
    "        token_idx = -1\n",
    "        num_layers = len(model.transformer.h)\n",
    "        num_heads = model.transformer.h[0].attn.attention.num_heads\n",
    "        out_mat = torch.zeros(num_layers, num_heads).to(\"cuda\")\n",
    "        embeddings_pos = embeddings_np_to_torch(embeddings_pos_np, free=False)\n",
    "        if embeddings_neg_np is not None:\n",
    "            embeddings_neg = embeddings_np_to_torch(embeddings_neg_np, free=False)\n",
    "        for layer in range(num_layers):\n",
    "            for head in range(num_heads):    \n",
    "                if embeddings_neg_np is not None:\n",
    "                    pos_out, neg_out = path_patching(model, embeddings_pos, embeddings_neg, [(layer, 'attn', head)], only_patch_ov=only_patch_ov, no_ln_f=no_ln_f)\n",
    "                else:\n",
    "                    pos_out, neg_out = path_patching(model, embeddings_pos, None, [(layer, 'attn', head)], only_patch_ov=only_patch_ov, no_ln_f=no_ln_f)\n",
    "                out_mat[layer, head] = (range_normal @ pos_out[0, token_idx]) - (range_normal @ neg_out[0, token_idx]) \n",
    "        free_embeddings(embeddings_pos)\n",
    "        if embeddings_neg_np is not None:\n",
    "            free_embeddings(embeddings_neg)\n",
    "    return out_mat"
   ]
  },
  {
   "cell_type": "code",
   "execution_count": 74,
   "id": "9dd7256a-6d57-4632-9227-677196e32f54",
   "metadata": {},
   "outputs": [],
   "source": [
    "import tqdm\n",
    "def get_mean_layer_head_patchings_for_embeddings(model, embeddings_pos_list, embeddings_neg_list, range_normal, only_patch_ov=False, no_ln_f=False):\n",
    "    out_mat = 0\n",
    "    if embeddings_neg_list is not None:\n",
    "        for embeddings_pos_np, embeddings_neg_np in tqdm.tqdm(zip(embeddings_pos_list, embeddings_neg_list)):\n",
    "            out_mat = out_mat + get_layer_head_patching_scores(model, embeddings_pos_np, embeddings_neg_np, range_normal, only_patch_ov=only_patch_ov, no_ln_f=no_ln_f)\n",
    "    else:\n",
    "        for embeddings_pos_np in tqdm.tqdm(embeddings_pos_list):\n",
    "            out_mat = out_mat + get_layer_head_patching_scores(model, embeddings_pos_np, None, range_normal, only_patch_ov=only_patch_ov, no_ln_f=no_ln_f)\n",
    "    out_mat /= len(embeddings_pos_list)\n",
    "    return out_mat"
   ]
  },
  {
   "cell_type": "code",
   "execution_count": 88,
   "id": "b86b4e53-537a-45b5-8837-c7932fca9273",
   "metadata": {},
   "outputs": [],
   "source": [
    "import tqdm\n",
    "def get_mean_layer_head_patchings_for_prompts(model, prompts_pos, prompts_neg, range_normal, only_patch_ov=False, no_ln_f=False, use_tqdm=True, pre_tokenized=False):\n",
    "    out_mat = 0\n",
    "    with torch.no_grad():\n",
    "        if use_tqdm: tqdm_lambda = lambda x: tqdm.tqdm(x)\n",
    "        else: tqdm_lambda = lambda x: x\n",
    "        for i, tuple in tqdm_lambda(enumerate(zip(prompts_pos, prompts_neg))):\n",
    "            prompt_pos, prompt_neg = tuple\n",
    "            embedding_pos, hooks = attach_hooks(model)\n",
    "            if pre_tokenized:\n",
    "                tokens = {\"input_ids\": prompt_pos['input_ids'].to(\"cuda:0\"), 'attention_mask': prompt_pos['attention_mask'].to(\"cuda:0\")}\n",
    "            else:\n",
    "                tokens = tokenizer(prompt_pos, return_tensors=\"pt\").to(\"cuda:0\")\n",
    "            model(**tokens)\n",
    "            for hook in hooks: hook.remove()\n",
    "            embedding_pos = embeddings_torch_to_np(embedding_pos)\n",
    "\n",
    "            embedding_neg, hooks = attach_hooks(model)\n",
    "            if pre_tokenized:\n",
    "                tokens = {\"input_ids\": prompt_neg['input_ids'].to(\"cuda:0\"), 'attention_mask': prompt_neg['attention_mask'].to(\"cuda:0\")}\n",
    "            else:\n",
    "                tokens = tokenizer(prompt_neg, return_tensors=\"pt\").to(\"cuda:0\")\n",
    "            model(**tokens)\n",
    "            for hook in hooks: hook.remove()\n",
    "            embedding_neg = embeddings_torch_to_np(embedding_neg)\n",
    "            \n",
    "            out_mat = out_mat + get_layer_head_patching_scores(model, embedding_pos, embedding_neg, range_normal, only_patch_ov=only_patch_ov, no_ln_f=no_ln_f)\n",
    "            \n",
    "            free_embeddings(embedding_pos)\n",
    "            free_embeddings(embedding_neg)\n",
    "            do_free()\n",
    "        out_mat /= len(prompts_pos)\n",
    "    return out_mat"
   ]
  },
  {
   "cell_type": "code",
   "execution_count": 75,
   "id": "3f645ad3-40db-4dd5-9c10-b4173f1d5ed8",
   "metadata": {},
   "outputs": [],
   "source": [
    "def get_top_for_matrix(matrix, largest=True, k=5):\n",
    "    obj_feature_sizes_tensor = torch.from_numpy(np.array(matrix))\n",
    "    top_obj_feature_sizes, top_obj_feature_sizes_indices = torch.topk(obj_feature_sizes_tensor.flatten(), k, largest=largest)\n",
    "    print(\"Top heads:\")\n",
    "    print(np.array(np.unravel_index(top_obj_feature_sizes_indices.numpy(), obj_feature_sizes_tensor.shape)).T)\n",
    "    print()\n",
    "    print(\"Top heads' respective values:\")\n",
    "    print(top_obj_feature_sizes)"
   ]
  },
  {
   "cell_type": "markdown",
   "id": "faf3189e-c1a9-4c86-b7f3-aadfa95de344",
   "metadata": {},
   "source": [
    "## Subject pronouns"
   ]
  },
  {
   "cell_type": "code",
   "execution_count": 76,
   "id": "a2f56715-f155-4d24-98fe-b522ddc89fc8",
   "metadata": {},
   "outputs": [],
   "source": [
    "subj_lm_normal = make_lm_head_normal([' she'], [' he']).to(\"cuda\")"
   ]
  },
  {
   "cell_type": "code",
   "execution_count": 92,
   "id": "f3c6ed7c-91d2-4e88-bdd1-fb36d70b98f4",
   "metadata": {},
   "outputs": [
    {
     "name": "stderr",
     "output_type": "stream",
     "text": [
      "300it [14:51,  2.97s/it]\n"
     ]
    }
   ],
   "source": [
    "subj_head_patchings = get_mean_layer_head_patchings_for_prompts(model, subj_prompts_female, subj_prompts_male, subj_lm_normal)"
   ]
  },
  {
   "cell_type": "code",
   "execution_count": 93,
   "id": "3ab49b6a-a847-4818-b3ff-45b8cb507e69",
   "metadata": {},
   "outputs": [
    {
     "data": {
      "image/png": "[encoded data removed]",
      "text/plain": [
       "<Figure size 640x480 with 2 Axes>"
      ]
     },
     "metadata": {},
     "output_type": "display_data"
    }
   ],
   "source": [
    "fig, ax = plt.subplots()\n",
    "ax.set_title(\"Subject pronoun head patching\")\n",
    "ax.set_xlabel(\"Attention head\")\n",
    "ax.set_ylabel(\"Layer\")\n",
    "matshow = ax.matshow(subj_head_patchings.detach().cpu().numpy())\n",
    "fig.colorbar(matshow, ax=ax)\n",
    "plt.show()"
   ]
  },
  {
   "cell_type": "code",
   "execution_count": 94,
   "id": "9ebb6dee-11e4-4e0a-b5bb-3a5c2fef849f",
   "metadata": {},
   "outputs": [
    {
     "name": "stdout",
     "output_type": "stream",
     "text": [
      "Top heads:\n",
      "[[17 14]\n",
      " [13 11]\n",
      " [15 13]\n",
      " [13  3]\n",
      " [22  2]]\n",
      "\n",
      "Top heads' respective values:\n",
      "tensor([5.0037, 3.0501, 1.1985, 0.5844, 0.4263])\n"
     ]
    }
   ],
   "source": [
    "get_top_for_matrix(subj_head_patchings.detach().cpu())"
   ]
  },
  {
   "cell_type": "code",
   "execution_count": 78,
   "id": "d34105ee-1e97-4d49-8484-74ccbc6fff6a",
   "metadata": {},
   "outputs": [
    {
     "data": {
      "image/png": "[encoded data removed]",
      "text/plain": [
       "<Figure size 640x480 with 2 Axes>"
      ]
     },
     "metadata": {},
     "output_type": "display_data"
    }
   ],
   "source": [
    "fig, ax = plt.subplots()\n",
    "ax.set_title(\"Subject pronoun head patching\")\n",
    "ax.set_xlabel(\"Attention head\")\n",
    "ax.set_ylabel(\"Layer\")\n",
    "matshow = ax.matshow(subj_head_patchings.detach().cpu().numpy())\n",
    "fig.colorbar(matshow, ax=ax)\n",
    "plt.show()"
   ]
  },
  {
   "cell_type": "code",
   "execution_count": 124,
   "id": "6d9a33ef-a886-4a4a-bed6-027a429f7da8",
   "metadata": {},
   "outputs": [
    {
     "name": "stdout",
     "output_type": "stream",
     "text": [
      "Top heads:\n",
      "[[17 14]\n",
      " [13 11]\n",
      " [15 13]\n",
      " [13  3]\n",
      " [18 11]]\n",
      "\n",
      "Top heads' respective values:\n",
      "tensor([4.7859, 4.5473, 1.0804, 0.6352, 0.4049])\n"
     ]
    }
   ],
   "source": [
    "get_top_for_matrix(subj_head_patchings.detach().cpu())"
   ]
  },
  {
   "cell_type": "markdown",
   "id": "03665832-3b7b-4439-a023-d288ce17fe49",
   "metadata": {},
   "source": [
    "## Obj pronouns"
   ]
  },
  {
   "cell_type": "code",
   "execution_count": 95,
   "id": "5b0d2682-f1ed-4fca-9cec-8a70759c6a5b",
   "metadata": {},
   "outputs": [],
   "source": [
    "obj_lm_normal = make_lm_head_normal([' her'], [' him']).to(\"cuda\")"
   ]
  },
  {
   "cell_type": "code",
   "execution_count": 96,
   "id": "16f792ba-814d-4473-88ea-5b400c557486",
   "metadata": {},
   "outputs": [
    {
     "name": "stderr",
     "output_type": "stream",
     "text": [
      "300it [14:57,  2.99s/it]\n"
     ]
    }
   ],
   "source": [
    "obj_head_patchings = get_mean_layer_head_patchings_for_prompts(model, obj_prompts_female, obj_prompts_male, obj_lm_normal)"
   ]
  },
  {
   "cell_type": "code",
   "execution_count": 105,
   "id": "5de553e1-9d0c-4ab4-b0e7-a297c2bcecdd",
   "metadata": {},
   "outputs": [
    {
     "name": "stderr",
     "output_type": "stream",
     "text": [
      "10it [00:15,  1.52s/it]\n"
     ]
    }
   ],
   "source": [
    "obj_head_patchings = get_mean_layer_head_patchings_for_embeddings(model, obj_embeddings_female, obj_embeddings_male, obj_lm_normal)"
   ]
  },
  {
   "cell_type": "code",
   "execution_count": 97,
   "id": "ffd24cd8-ac93-4003-82a3-327f79e25dda",
   "metadata": {},
   "outputs": [
    {
     "data": {
      "image/png": "[encoded data removed]",
      "text/plain": [
       "<Figure size 640x480 with 2 Axes>"
      ]
     },
     "metadata": {},
     "output_type": "display_data"
    }
   ],
   "source": [
    "fig, ax = plt.subplots()\n",
    "ax.set_title(\"Object pronoun head patching\")\n",
    "ax.set_xlabel(\"Attention head\")\n",
    "ax.set_ylabel(\"Layer\")\n",
    "matshow = ax.matshow(obj_head_patchings.detach().cpu().numpy())\n",
    "fig.colorbar(matshow, ax=ax)\n",
    "plt.show()"
   ]
  },
  {
   "cell_type": "code",
   "execution_count": 98,
   "id": "0589507e-7cbd-4a50-a5a0-00898c879329",
   "metadata": {},
   "outputs": [
    {
     "name": "stdout",
     "output_type": "stream",
     "text": [
      "Top heads:\n",
      "[[17 14]\n",
      " [13 11]\n",
      " [15 13]\n",
      " [22  2]\n",
      " [23  0]]\n",
      "\n",
      "Top heads' respective values:\n",
      "tensor([2.9491, 1.8853, 1.8634, 0.3653, 0.2359])\n"
     ]
    }
   ],
   "source": [
    "get_top_for_matrix(obj_head_patchings.detach().cpu())"
   ]
  },
  {
   "cell_type": "code",
   "execution_count": 113,
   "id": "6a06f19e-009a-4075-a52e-0914f5d6de52",
   "metadata": {},
   "outputs": [
    {
     "data": {
      "image/png": "[encoded data removed]",
      "text/plain": [
       "<Figure size 640x480 with 2 Axes>"
      ]
     },
     "metadata": {},
     "output_type": "display_data"
    }
   ],
   "source": [
    "fig, ax = plt.subplots()\n",
    "ax.set_title(\"Object pronoun head patching\")\n",
    "ax.set_xlabel(\"Attention head\")\n",
    "ax.set_ylabel(\"Layer\")\n",
    "matshow = ax.matshow(obj_head_patchings.detach().cpu().numpy())\n",
    "fig.colorbar(matshow, ax=ax)\n",
    "plt.show()"
   ]
  },
  {
   "cell_type": "code",
   "execution_count": 116,
   "id": "b39d51a9-977c-444c-8f53-880984cd6e21",
   "metadata": {},
   "outputs": [
    {
     "name": "stdout",
     "output_type": "stream",
     "text": [
      "Top heads:\n",
      "[[17 14]\n",
      " [15 13]\n",
      " [13 11]\n",
      " [22  2]\n",
      " [15  0]]\n",
      "\n",
      "Top heads' respective values:\n",
      "tensor([3.5636, 3.0652, 2.1328, 0.5218, 0.2863])\n"
     ]
    }
   ],
   "source": [
    "get_top_for_matrix(obj_head_patchings.detach().cpu())"
   ]
  },
  {
   "cell_type": "markdown",
   "id": "5aab67b2-b240-4017-a2fb-01b1f9d319dc",
   "metadata": {},
   "source": [
    "# Finding feature vectors"
   ]
  },
  {
   "cell_type": "markdown",
   "id": "38d3d7c9-60f1-476c-8777-c1d927f9b86b",
   "metadata": {},
   "source": [
    "## Preparation"
   ]
  },
  {
   "cell_type": "code",
   "execution_count": 64,
   "id": "40e1dea9-d213-4bb2-9afc-44ee87756bed",
   "metadata": {},
   "outputs": [],
   "source": [
    "cur_occu_embeddings_female = embeddings_np_to_torch(occu_embeddings_female[0], free=False)\n",
    "cur_occu_embeddings_male = embeddings_np_to_torch(occu_embeddings_male[0], free=False)"
   ]
  },
  {
   "cell_type": "code",
   "execution_count": 65,
   "id": "9b1b0b59-c483-4bde-a074-a31b197d9fd2",
   "metadata": {},
   "outputs": [],
   "source": [
    "cur_subj_embeddings_female = embeddings_np_to_torch(subj_embeddings_female[0], free=False)\n",
    "cur_subj_embeddings_male = embeddings_np_to_torch(subj_embeddings_male[0], free=False)"
   ]
  },
  {
   "cell_type": "code",
   "execution_count": 66,
   "id": "f5c16665-811a-47a2-b227-7fb6825a8039",
   "metadata": {},
   "outputs": [],
   "source": [
    "cur_obj_embeddings_female = embeddings_np_to_torch(obj_embeddings_female[0], free=False)\n",
    "cur_obj_embeddings_male = embeddings_np_to_torch(obj_embeddings_male[0], free=False)"
   ]
  },
  {
   "cell_type": "markdown",
   "id": "5fea1143-2e26-4a64-9a27-86501d6607df",
   "metadata": {},
   "source": [
    "## Path patching recursion"
   ]
  },
  {
   "cell_type": "markdown",
   "id": "b29b4fa2-3f30-4964-9c28-b323d7ff1e0e",
   "metadata": {},
   "source": [
    "### Subject pronouns"
   ]
  },
  {
   "cell_type": "code",
   "execution_count": 122,
   "id": "454e18ab-d974-4d56-969e-57eed0b3474c",
   "metadata": {},
   "outputs": [
    {
     "name": "stdout",
     "output_type": "stream",
     "text": [
      "Paths of length 1:\n",
      "===================\n",
      "attn13.11@5: 3.4273200035095215\n",
      "mlp18@-1: 2.334465503692627\n",
      "attn17.14@4: 1.6758766174316406\n",
      "mlp16@-1: 1.5480985641479492\n",
      "mlp19@-1: 1.0288758277893066\n",
      "attn17.14@9: 0.8834829330444336\n",
      "attn17.14@10: 0.829963207244873\n",
      "mlp17@-1: 0.6939783096313477\n",
      "attn13.11@4: 0.6556925773620605\n",
      "attn17.14@5: 0.6509819030761719\n",
      "embedding@-1: -4.76837158203125e-07\n",
      "\n",
      "Paths of length 2:\n",
      "===================\n",
      "attn13.11@5 <= attn9.1@3: 1.336902141571045\n",
      "attn13.11@5 <= attn6.6@3: 0.809196949005127\n",
      "attn17.14@4 <= attn13.3@3: 0.4383583068847656\n",
      "mlp16@-1 <= attn13.3@3: 0.375551700592041\n",
      "attn17.14@4 <= attn9.1@3: 0.3448495864868164\n",
      "mlp17@-1 <= attn13.11@5: 0.3383798599243164\n",
      "attn13.11@4 <= attn9.1@3: 0.3243856430053711\n",
      "attn17.14@10 <= attn9.1@3: 0.3155651092529297\n",
      "attn13.11@5 <= attn10.5@5: 0.307647705078125\n",
      "attn17.14@4 <= attn15.13@3: 0.25746870040893555\n",
      "attn13.11@5 <= embedding@5: 0.0\n",
      "attn17.14@4 <= embedding@4: 0.0\n",
      "mlp16@-1 <= embedding@-1: 0.0\n",
      "mlp19@-1 <= embedding@-1: 0.0\n",
      "attn17.14@9 <= embedding@9: 0.0\n",
      "attn17.14@10 <= embedding@10: 0.0\n",
      "mlp17@-1 <= embedding@-1: 0.0\n",
      "attn13.11@4 <= embedding@4: 0.0\n",
      "attn17.14@5 <= embedding@5: 0.0\n",
      "embedding@-1: -4.76837158203125e-07\n",
      "\n",
      "Paths of length 3:\n",
      "===================\n",
      "attn13.11@5 <= attn6.6@3 <= mlp1@3: 0.4477052688598633\n",
      "attn13.11@5 <= attn6.6@3 <= mlp0@3: 0.4235038757324219\n",
      "attn13.11@5 <= attn9.1@3 <= mlp1@3: 0.3361673355102539\n",
      "attn13.11@5 <= attn9.1@3 <= attn6.6@3: 0.3288264274597168\n",
      "attn13.11@5 <= attn9.1@3 <= mlp0@3: 0.30481815338134766\n",
      "mlp17@-1 <= attn13.11@5 <= attn9.1@3: 0.18024253845214844\n",
      "attn13.11@5 <= attn10.5@5 <= attn6.6@3: 0.15015697479248047\n",
      "mlp17@-1 <= attn13.11@5 <= attn6.6@3: 0.12578773498535156\n",
      "attn17.14@4 <= attn15.13@3 <= mlp12@3: 0.09822511672973633\n",
      "attn13.11@5 <= attn9.1@3 <= mlp6@3: 0.09788036346435547\n",
      "attn17.14@4 <= attn15.13@3 <= embedding@3: 1.9550323486328125e-05\n",
      "attn13.11@5 <= embedding@5: 0.0\n",
      "attn17.14@4 <= embedding@4: 0.0\n",
      "mlp16@-1 <= embedding@-1: 0.0\n",
      "mlp19@-1 <= embedding@-1: 0.0\n",
      "attn17.14@9 <= embedding@9: 0.0\n",
      "attn17.14@10 <= embedding@10: 0.0\n",
      "mlp17@-1 <= embedding@-1: 0.0\n",
      "attn13.11@4 <= embedding@4: 0.0\n",
      "attn17.14@5 <= embedding@5: 0.0\n",
      "\n",
      "Paths of length 4:\n",
      "===================\n",
      "attn13.11@5 <= attn9.1@3 <= attn6.6@3 <= mlp1@3: 0.18532800674438477\n",
      "attn13.11@5 <= attn9.1@3 <= attn6.6@3 <= mlp0@3: 0.17064619064331055\n",
      "attn13.11@5 <= attn10.5@5 <= attn6.6@3 <= mlp1@3: 0.08254194259643555\n",
      "attn13.11@5 <= attn10.5@5 <= attn6.6@3 <= mlp0@3: 0.08019638061523438\n",
      "mlp17@-1 <= attn13.11@5 <= attn6.6@3 <= mlp1@3: 0.07691574096679688\n",
      "mlp17@-1 <= attn13.11@5 <= attn6.6@3 <= mlp0@3: 0.062066078186035156\n",
      "mlp17@-1 <= attn13.11@5 <= attn9.1@3 <= mlp0@3: 0.058825016021728516\n",
      "mlp17@-1 <= attn13.11@5 <= attn9.1@3 <= mlp1@3: 0.05578804016113281\n",
      "mlp17@-1 <= attn13.11@5 <= attn9.1@3 <= attn6.6@3: 0.045482635498046875\n",
      "attn13.11@5 <= attn9.1@3 <= mlp6@3 <= mlp4@3: 0.04052591323852539\n",
      "attn13.11@5 <= attn9.1@3 <= mlp6@3 <= embedding@3: 0.004731178283691406\n",
      "attn17.14@4 <= attn15.13@3 <= embedding@3: 1.9550323486328125e-05\n",
      "attn13.11@5 <= embedding@5: 0.0\n",
      "attn17.14@4 <= embedding@4: 0.0\n",
      "mlp16@-1 <= embedding@-1: 0.0\n",
      "mlp19@-1 <= embedding@-1: 0.0\n",
      "attn17.14@9 <= embedding@9: 0.0\n",
      "attn17.14@10 <= embedding@10: 0.0\n",
      "mlp17@-1 <= embedding@-1: 0.0\n",
      "attn13.11@4 <= embedding@4: 0.0\n",
      "\n"
     ]
    }
   ],
   "source": [
    "_ = patch_get_max_paths(model, cur_subj_embeddings_female, cur_subj_embeddings_male, subj_ln_f_normal, 4, 10)"
   ]
  },
  {
   "cell_type": "markdown",
   "id": "86061301-a330-4906-a1ac-ba070efc6630",
   "metadata": {},
   "source": [
    "### Object pronouns"
   ]
  },
  {
   "cell_type": "code",
   "execution_count": 75,
   "id": "3ec0e5a5-4347-4586-a9ed-4b2c4d3bb55a",
   "metadata": {},
   "outputs": [
    {
     "name": "stdout",
     "output_type": "stream",
     "text": [
      "Paths of length 1:\n",
      "===================\n",
      "mlp18@-1: 3.437502145767212\n",
      "attn15.13@6: 2.464179039001465\n",
      "attn17.14@7: 1.8911547660827637\n",
      "attn13.11@6: 1.5276784896850586\n",
      "attn13.11@7: 0.9481534957885742\n",
      "attn17.14@11: 0.8216190338134766\n",
      "attn17.14@9: 0.7756085395812988\n",
      "attn17.14@8: 0.5406274795532227\n",
      "attn18.11@6: 0.5189943313598633\n",
      "attn23.8@11: 0.3799419403076172\n",
      "embedding@-1: 0.0\n",
      "\n",
      "Paths of length 2:\n",
      "===================\n",
      "attn15.13@6 <= mlp12@6: 0.9650425910949707\n",
      "mlp18@-1 <= attn15.13@6: 0.4858846664428711\n",
      "attn13.11@6 <= attn6.6@6: 0.39538097381591797\n",
      "attn17.14@7 <= attn13.3@6: 0.39145851135253906\n",
      "attn17.14@7 <= attn15.13@6: 0.36108875274658203\n",
      "attn17.14@11 <= attn15.13@6: 0.3336629867553711\n",
      "attn17.14@7 <= mlp12@7: 0.32725000381469727\n",
      "attn17.14@7 <= attn13.11@7: 0.3150959014892578\n",
      "attn15.13@6 <= mlp0@6: 0.3031148910522461\n",
      "attn15.13@6 <= attn6.6@6: 0.2721385955810547\n",
      "attn15.13@6 <= embedding@6: 0.002132415771484375\n",
      "attn18.11@6 <= embedding@6: 0.00024175643920898438\n",
      "embedding@-1: 0.0\n",
      "mlp18@-1 <= embedding@-1: 0.0\n",
      "attn17.14@7 <= embedding@7: 0.0\n",
      "attn17.14@11 <= embedding@11: 0.0\n",
      "attn17.14@9 <= embedding@9: 0.0\n",
      "attn17.14@8 <= embedding@8: 0.0\n",
      "attn23.8@11 <= embedding@11: 0.0\n",
      "attn13.11@7 <= embedding@7: -4.76837158203125e-07\n",
      "\n",
      "Paths of length 3:\n",
      "===================\n",
      "attn15.13@6 <= mlp12@6 <= attn6.6@6: 0.3005671501159668\n",
      "attn15.13@6 <= mlp12@6 <= mlp1@6: 0.21135520935058594\n",
      "attn13.11@6 <= attn6.6@6 <= mlp0@6: 0.19423198699951172\n",
      "attn15.13@6 <= mlp12@6 <= mlp0@6: 0.1908726692199707\n",
      "attn17.14@7 <= mlp12@7 <= attn6.6@6: 0.1840672492980957\n",
      "attn17.14@7 <= mlp12@7 <= attn9.1@6: 0.1816411018371582\n",
      "attn13.11@6 <= attn6.6@6 <= mlp1@6: 0.17979907989501953\n",
      "mlp18@-1 <= attn15.13@6 <= mlp12@6: 0.1562662124633789\n",
      "attn17.14@7 <= attn15.13@6 <= mlp12@6: 0.14171361923217773\n",
      "attn17.14@11 <= attn15.13@6 <= mlp12@6: 0.13085079193115234\n",
      "attn15.13@6 <= mlp12@6 <= embedding@6: 0.0037565231323242188\n",
      "attn15.13@6 <= embedding@6: 0.002132415771484375\n",
      "attn15.13@6 <= mlp0@6 <= embedding@6: 0.0011744499206542969\n",
      "attn13.11@6 <= attn6.6@6 <= embedding@6: 0.00078582763671875\n",
      "attn15.13@6 <= attn6.6@6 <= embedding@6: 0.0004639625549316406\n",
      "mlp18@-1 <= attn15.13@6 <= embedding@6: 0.0003752708435058594\n",
      "attn17.14@7 <= attn15.13@6 <= embedding@6: 0.00030422210693359375\n",
      "attn17.14@11 <= attn15.13@6 <= embedding@6: 0.0002808570861816406\n",
      "attn18.11@6 <= embedding@6: 0.00024175643920898438\n",
      "embedding@-1: 0.0\n",
      "\n"
     ]
    }
   ],
   "source": [
    "_ = patch_get_max_paths(model, cur_obj_embeddings_female, cur_obj_embeddings_male, obj_ln_f_normal, 3, 10)"
   ]
  },
  {
   "cell_type": "markdown",
   "id": "08ecd769-9aee-4b22-8212-45d1f8bb16f2",
   "metadata": {},
   "source": [
    "### Occupations"
   ]
  },
  {
   "cell_type": "code",
   "execution_count": 120,
   "id": "eac33ba0-5acc-4b50-861e-ed8956b48468",
   "metadata": {},
   "outputs": [
    {
     "name": "stdout",
     "output_type": "stream",
     "text": [
      "Paths of length 1:\n",
      "===================\n",
      "mlp18@-1: 0.8984694480895996\n",
      "mlp22@-1: 0.5668761730194092\n",
      "mlp16@-1: 0.5379655361175537\n",
      "attn23.8@6: 0.3917241096496582\n",
      "mlp21@-1: 0.3572816848754883\n",
      "attn23.1@6: 0.3237144947052002\n",
      "mlp20@-1: 0.30431365966796875\n",
      "attn21.13@5: 0.2827794551849365\n",
      "mlp19@-1: 0.2637805938720703\n",
      "attn15.13@3: 0.21320676803588867\n",
      "embedding@-1: 0.0\n",
      "\n",
      "Paths of length 2:\n",
      "===================\n",
      "mlp18@-1 <= mlp16@-1: 0.22571659088134766\n",
      "mlp22@-1 <= mlp20@-1: 0.16983246803283691\n",
      "mlp21@-1 <= mlp18@-1: 0.15436887741088867\n",
      "mlp19@-1 <= mlp16@-1: 0.14850091934204102\n",
      "mlp16@-1 <= attn15.13@3: 0.13726472854614258\n",
      "mlp20@-1 <= mlp15@-1: 0.13591718673706055\n",
      "mlp21@-1 <= mlp16@-1: 0.1356348991394043\n",
      "mlp16@-1 <= attn13.3@3: 0.13139772415161133\n",
      "mlp18@-1 <= attn15.13@3: 0.11214351654052734\n",
      "mlp16@-1 <= attn9.1@3: 0.10793447494506836\n",
      "mlp18@-1 <= embedding@-1: 9.5367431640625e-07\n",
      "mlp21@-1 <= embedding@-1: 9.5367431640625e-07\n",
      "mlp22@-1 <= embedding@-1: 4.76837158203125e-07\n",
      "attn23.8@6 <= embedding@6: 4.76837158203125e-07\n",
      "attn23.1@6 <= embedding@6: 4.76837158203125e-07\n",
      "attn21.13@5 <= embedding@5: 4.76837158203125e-07\n",
      "embedding@-1: 0.0\n",
      "mlp16@-1 <= embedding@-1: 0.0\n",
      "mlp20@-1 <= embedding@-1: 0.0\n",
      "mlp19@-1 <= embedding@-1: 0.0\n",
      "\n",
      "Paths of length 3:\n",
      "===================\n",
      "mlp19@-1 <= mlp16@-1 <= attn15.13@3: 0.10055208206176758\n",
      "mlp22@-1 <= mlp20@-1 <= mlp18@-1: 0.09609651565551758\n",
      "mlp21@-1 <= mlp18@-1 <= mlp16@-1: 0.0830540657043457\n",
      "mlp22@-1 <= mlp20@-1 <= mlp16@-1: 0.08109569549560547\n",
      "mlp18@-1 <= mlp16@-1 <= attn15.13@3: 0.07259750366210938\n",
      "mlp21@-1 <= mlp16@-1 <= attn15.13@3: 0.06392621994018555\n",
      "mlp16@-1 <= attn15.13@3 <= mlp12@3: 0.061102867126464844\n",
      "mlp22@-1 <= mlp20@-1 <= attn15.13@3: 0.05198240280151367\n",
      "mlp18@-1 <= mlp16@-1 <= attn13.3@3: 0.04359769821166992\n",
      "mlp22@-1 <= mlp20@-1 <= attn17.14@4: 0.04315042495727539\n",
      "mlp16@-1 <= attn13.3@3 <= embedding@3: 0.0006103515625\n",
      "mlp16@-1 <= attn9.1@3 <= embedding@3: 0.0002551078796386719\n",
      "mlp18@-1 <= attn15.13@3 <= embedding@3: 9.489059448242188e-05\n",
      "mlp18@-1 <= embedding@-1: 9.5367431640625e-07\n",
      "mlp21@-1 <= embedding@-1: 9.5367431640625e-07\n",
      "mlp18@-1 <= mlp16@-1 <= embedding@-1: 9.5367431640625e-07\n",
      "mlp21@-1 <= mlp18@-1 <= embedding@-1: 9.5367431640625e-07\n",
      "mlp21@-1 <= mlp16@-1 <= embedding@-1: 9.5367431640625e-07\n",
      "mlp22@-1 <= embedding@-1: 4.76837158203125e-07\n",
      "attn23.8@6 <= embedding@6: 4.76837158203125e-07\n",
      "\n",
      "Paths of length 4:\n",
      "===================\n",
      "mlp19@-1 <= mlp16@-1 <= attn15.13@3 <= mlp12@3: 0.03602123260498047\n",
      "mlp21@-1 <= mlp18@-1 <= mlp16@-1 <= attn15.13@3: 0.029163837432861328\n",
      "mlp22@-1 <= mlp20@-1 <= mlp16@-1 <= attn15.13@3: 0.02577829360961914\n",
      "mlp18@-1 <= mlp16@-1 <= attn15.13@3 <= mlp12@3: 0.02532482147216797\n",
      "mlp21@-1 <= mlp16@-1 <= attn15.13@3 <= mlp12@3: 0.022521495819091797\n",
      "mlp22@-1 <= mlp20@-1 <= mlp18@-1 <= mlp16@-1: 0.022162914276123047\n",
      "mlp22@-1 <= mlp20@-1 <= attn15.13@3 <= mlp12@3: 0.020623207092285156\n",
      "mlp16@-1 <= attn15.13@3 <= mlp12@3 <= attn6.6@3: 0.018641948699951172\n",
      "mlp22@-1 <= mlp20@-1 <= mlp18@-1 <= attn15.13@3: 0.01566600799560547\n",
      "mlp16@-1 <= attn15.13@3 <= mlp12@3 <= attn9.1@3: 0.014591693878173828\n",
      "mlp16@-1 <= attn13.3@3 <= embedding@3: 0.0006103515625\n",
      "mlp16@-1 <= attn9.1@3 <= embedding@3: 0.0002551078796386719\n",
      "mlp18@-1 <= attn15.13@3 <= embedding@3: 9.489059448242188e-05\n",
      "mlp19@-1 <= mlp16@-1 <= attn15.13@3 <= embedding@3: 8.20159912109375e-05\n",
      "mlp22@-1 <= mlp20@-1 <= attn15.13@3 <= embedding@3: 1.0967254638671875e-05\n",
      "mlp18@-1 <= embedding@-1: 9.5367431640625e-07\n",
      "mlp21@-1 <= embedding@-1: 9.5367431640625e-07\n",
      "mlp18@-1 <= mlp16@-1 <= embedding@-1: 9.5367431640625e-07\n",
      "mlp21@-1 <= mlp18@-1 <= embedding@-1: 9.5367431640625e-07\n",
      "mlp21@-1 <= mlp16@-1 <= embedding@-1: 9.5367431640625e-07\n",
      "\n"
     ]
    }
   ],
   "source": [
    "_ = patch_get_max_paths(model, cur_embeddings_female, cur_embeddings_male, better_diff_ln_f_normal, 4, 10)"
   ]
  },
  {
   "cell_type": "code",
   "execution_count": 164,
   "id": "9c65d8e0-d39a-469b-84e2-64b606155176",
   "metadata": {},
   "outputs": [
    {
     "name": "stdout",
     "output_type": "stream",
     "text": [
      "Paths of length 1:\n",
      "===================\n",
      "mlp18@-1: 0.8984694480895996\n",
      "mlp22@-1: 0.5668761730194092\n",
      "mlp16@-1: 0.5379655361175537\n",
      "attn23.8@6: 0.3917241096496582\n",
      "mlp21@-1: 0.3572816848754883\n",
      "attn23.1@6: 0.3237144947052002\n",
      "mlp20@-1: 0.30431365966796875\n",
      "attn21.13@5: 0.2827794551849365\n",
      "mlp19@-1: 0.2637805938720703\n",
      "attn15.13@3: 0.21320676803588867\n",
      "attn23.12@6: 0.17145609855651855\n",
      "attn23.9@6: 0.1677227020263672\n",
      "attn23.13@6: 0.14931273460388184\n",
      "attn13.10@4: 0.11520195007324219\n",
      "attn23.0@6: 0.10534524917602539\n",
      "embedding@-1: 0.0\n",
      "\n",
      "Paths of length 2:\n",
      "===================\n",
      "mlp18@-1 <= mlp16@-1: 0.22571659088134766\n",
      "mlp22@-1 <= mlp20@-1: 0.16983246803283691\n",
      "mlp21@-1 <= mlp18@-1: 0.15436887741088867\n",
      "mlp19@-1 <= mlp16@-1: 0.14850091934204102\n",
      "mlp16@-1 <= attn15.13@3: 0.13726472854614258\n",
      "mlp20@-1 <= mlp15@-1: 0.13591718673706055\n",
      "mlp21@-1 <= mlp16@-1: 0.1356348991394043\n",
      "mlp16@-1 <= attn13.3@3: 0.13139772415161133\n",
      "mlp18@-1 <= attn15.13@3: 0.11214351654052734\n",
      "mlp16@-1 <= attn9.1@3: 0.10793447494506836\n",
      "mlp20@-1 <= mlp17@-1: 0.10595941543579102\n",
      "mlp16@-1 <= mlp12@-1: 0.09309911727905273\n",
      "mlp16@-1 <= attn13.3@4: 0.0912923812866211\n",
      "mlp18@-1 <= attn17.14@4: 0.08816957473754883\n",
      "attn15.13@3 <= mlp12@3: 0.08452558517456055\n",
      "mlp18@-1 <= embedding@-1: 9.5367431640625e-07\n",
      "mlp21@-1 <= embedding@-1: 9.5367431640625e-07\n",
      "mlp22@-1 <= embedding@-1: 4.76837158203125e-07\n",
      "attn23.8@6 <= embedding@6: 4.76837158203125e-07\n",
      "attn23.1@6 <= embedding@6: 4.76837158203125e-07\n",
      "attn21.13@5 <= embedding@5: 4.76837158203125e-07\n",
      "embedding@-1: 0.0\n",
      "mlp16@-1 <= embedding@-1: 0.0\n",
      "mlp20@-1 <= embedding@-1: 0.0\n",
      "mlp19@-1 <= embedding@-1: 0.0\n",
      "attn23.12@6 <= embedding@6: 0.0\n",
      "attn23.9@6 <= embedding@6: 0.0\n",
      "attn23.13@6 <= embedding@6: 0.0\n",
      "attn13.10@4 <= embedding@4: 0.0\n",
      "attn23.0@6 <= embedding@6: 0.0\n",
      "\n",
      "Paths of length 3:\n",
      "===================\n",
      "mlp19@-1 <= mlp16@-1 <= attn15.13@3: 0.10055208206176758\n",
      "mlp22@-1 <= mlp20@-1 <= mlp18@-1: 0.09609651565551758\n",
      "mlp21@-1 <= mlp18@-1 <= mlp16@-1: 0.0830540657043457\n",
      "mlp22@-1 <= mlp20@-1 <= mlp16@-1: 0.08109569549560547\n",
      "mlp18@-1 <= mlp16@-1 <= attn15.13@3: 0.07259750366210938\n",
      "mlp21@-1 <= mlp16@-1 <= attn15.13@3: 0.06392621994018555\n",
      "mlp16@-1 <= attn15.13@3 <= mlp12@3: 0.061102867126464844\n",
      "mlp16@-1 <= mlp12@-1 <= attn6.6@3: 0.05743122100830078\n",
      "mlp22@-1 <= mlp20@-1 <= attn15.13@3: 0.05198240280151367\n",
      "mlp16@-1 <= mlp12@-1 <= attn10.5@3: 0.044075965881347656\n",
      "mlp18@-1 <= mlp16@-1 <= attn13.3@3: 0.04359769821166992\n",
      "mlp22@-1 <= mlp20@-1 <= attn17.14@4: 0.04315042495727539\n",
      "mlp19@-1 <= mlp16@-1 <= mlp12@-1: 0.03871297836303711\n",
      "mlp18@-1 <= attn15.13@3 <= mlp12@3: 0.03700876235961914\n",
      "mlp19@-1 <= mlp16@-1 <= attn13.3@3: 0.036751747131347656\n",
      "mlp16@-1 <= attn13.3@3 <= embedding@3: 0.0006103515625\n",
      "mlp16@-1 <= attn9.1@3 <= embedding@3: 0.0002551078796386719\n",
      "mlp18@-1 <= attn15.13@3 <= embedding@3: 9.489059448242188e-05\n",
      "mlp18@-1 <= embedding@-1: 9.5367431640625e-07\n",
      "mlp21@-1 <= embedding@-1: 9.5367431640625e-07\n",
      "mlp18@-1 <= mlp16@-1 <= embedding@-1: 9.5367431640625e-07\n",
      "mlp21@-1 <= mlp18@-1 <= embedding@-1: 9.5367431640625e-07\n",
      "mlp21@-1 <= mlp16@-1 <= embedding@-1: 9.5367431640625e-07\n",
      "mlp18@-1 <= attn17.14@4 <= embedding@4: 9.5367431640625e-07\n",
      "mlp22@-1 <= embedding@-1: 4.76837158203125e-07\n",
      "attn23.8@6 <= embedding@6: 4.76837158203125e-07\n",
      "attn23.1@6 <= embedding@6: 4.76837158203125e-07\n",
      "attn21.13@5 <= embedding@5: 4.76837158203125e-07\n",
      "mlp22@-1 <= mlp20@-1 <= embedding@-1: 4.76837158203125e-07\n",
      "embedding@-1: 0.0\n",
      "\n",
      "Paths of length 4:\n",
      "===================\n",
      "mlp19@-1 <= mlp16@-1 <= attn15.13@3 <= mlp12@3: 0.03602123260498047\n",
      "mlp16@-1 <= mlp12@-1 <= attn6.6@3 <= mlp0@3: 0.030047893524169922\n",
      "mlp21@-1 <= mlp18@-1 <= mlp16@-1 <= attn15.13@3: 0.029163837432861328\n",
      "mlp22@-1 <= mlp20@-1 <= mlp16@-1 <= attn15.13@3: 0.02577829360961914\n",
      "mlp18@-1 <= mlp16@-1 <= attn15.13@3 <= mlp12@3: 0.02532482147216797\n",
      "mlp16@-1 <= mlp12@-1 <= attn6.6@3 <= mlp1@3: 0.023015499114990234\n",
      "mlp21@-1 <= mlp16@-1 <= attn15.13@3 <= mlp12@3: 0.022521495819091797\n",
      "mlp22@-1 <= mlp20@-1 <= mlp18@-1 <= mlp16@-1: 0.022162914276123047\n",
      "mlp22@-1 <= mlp20@-1 <= attn15.13@3 <= mlp12@3: 0.020623207092285156\n",
      "mlp16@-1 <= attn15.13@3 <= mlp12@3 <= attn6.6@3: 0.018641948699951172\n",
      "mlp19@-1 <= mlp16@-1 <= mlp12@-1 <= attn6.6@3: 0.015823841094970703\n",
      "mlp22@-1 <= mlp20@-1 <= mlp18@-1 <= attn15.13@3: 0.01566600799560547\n",
      "mlp16@-1 <= mlp12@-1 <= attn10.5@3 <= attn6.6@3: 0.01559305191040039\n",
      "mlp16@-1 <= attn15.13@3 <= mlp12@3 <= attn9.1@3: 0.014591693878173828\n",
      "mlp22@-1 <= mlp20@-1 <= mlp18@-1 <= attn17.14@4: 0.01455545425415039\n",
      "mlp16@-1 <= attn13.3@3 <= embedding@3: 0.0006103515625\n",
      "mlp16@-1 <= attn9.1@3 <= embedding@3: 0.0002551078796386719\n",
      "mlp18@-1 <= attn15.13@3 <= embedding@3: 9.489059448242188e-05\n",
      "mlp19@-1 <= mlp16@-1 <= attn15.13@3 <= embedding@3: 8.20159912109375e-05\n",
      "mlp18@-1 <= attn15.13@3 <= mlp12@3 <= embedding@3: 3.6716461181640625e-05\n",
      "mlp22@-1 <= mlp20@-1 <= attn15.13@3 <= embedding@3: 1.0967254638671875e-05\n",
      "mlp18@-1 <= embedding@-1: 9.5367431640625e-07\n",
      "mlp21@-1 <= embedding@-1: 9.5367431640625e-07\n",
      "mlp18@-1 <= mlp16@-1 <= embedding@-1: 9.5367431640625e-07\n",
      "mlp21@-1 <= mlp18@-1 <= embedding@-1: 9.5367431640625e-07\n",
      "mlp21@-1 <= mlp16@-1 <= embedding@-1: 9.5367431640625e-07\n",
      "mlp18@-1 <= attn17.14@4 <= embedding@4: 9.5367431640625e-07\n",
      "mlp21@-1 <= mlp18@-1 <= mlp16@-1 <= embedding@-1: 9.5367431640625e-07\n",
      "mlp22@-1 <= embedding@-1: 4.76837158203125e-07\n",
      "attn23.8@6 <= embedding@6: 4.76837158203125e-07\n",
      "\n",
      "Paths of length 5:\n",
      "===================\n",
      "mlp21@-1 <= mlp18@-1 <= mlp16@-1 <= attn15.13@3 <= mlp12@3: 0.011118412017822266\n",
      "mlp19@-1 <= mlp16@-1 <= attn15.13@3 <= mlp12@3 <= attn6.6@3: 0.011085033416748047\n",
      "mlp22@-1 <= mlp20@-1 <= mlp16@-1 <= attn15.13@3 <= mlp12@3: 0.010155200958251953\n",
      "mlp19@-1 <= mlp16@-1 <= attn15.13@3 <= mlp12@3 <= attn9.1@3: 0.008693218231201172\n",
      "mlp19@-1 <= mlp16@-1 <= attn15.13@3 <= mlp12@3 <= mlp1@3: 0.00819540023803711\n",
      "mlp16@-1 <= mlp12@-1 <= attn10.5@3 <= attn6.6@3 <= mlp0@3: 0.008183956146240234\n",
      "mlp16@-1 <= mlp12@-1 <= attn10.5@3 <= attn6.6@3 <= mlp1@3: 0.007765293121337891\n",
      "mlp16@-1 <= attn15.13@3 <= mlp12@3 <= attn6.6@3 <= mlp1@3: 0.0075626373291015625\n",
      "mlp16@-1 <= attn15.13@3 <= mlp12@3 <= attn6.6@3 <= mlp0@3: 0.007389545440673828\n",
      "mlp22@-1 <= mlp20@-1 <= mlp18@-1 <= mlp16@-1 <= attn15.13@3: 0.007136344909667969\n",
      "mlp18@-1 <= mlp16@-1 <= attn15.13@3 <= mlp12@3 <= attn6.6@3: 0.006909847259521484\n",
      "mlp19@-1 <= mlp16@-1 <= mlp12@-1 <= attn6.6@3 <= mlp0@3: 0.006831645965576172\n",
      "mlp22@-1 <= mlp20@-1 <= mlp18@-1 <= mlp16@-1 <= mlp14@-1: 0.006800651550292969\n",
      "mlp19@-1 <= mlp16@-1 <= mlp12@-1 <= attn6.6@3 <= mlp1@3: 0.006596088409423828\n",
      "mlp21@-1 <= mlp16@-1 <= attn15.13@3 <= mlp12@3 <= attn6.6@3: 0.006405830383300781\n",
      "mlp16@-1 <= attn13.3@3 <= embedding@3: 0.0006103515625\n",
      "mlp16@-1 <= attn9.1@3 <= embedding@3: 0.0002551078796386719\n",
      "mlp18@-1 <= attn15.13@3 <= embedding@3: 9.489059448242188e-05\n",
      "mlp19@-1 <= mlp16@-1 <= attn15.13@3 <= embedding@3: 8.20159912109375e-05\n",
      "mlp19@-1 <= mlp16@-1 <= mlp12@-1 <= attn6.6@3 <= embedding@3: 5.3882598876953125e-05\n",
      "mlp18@-1 <= attn15.13@3 <= mlp12@3 <= embedding@3: 3.6716461181640625e-05\n",
      "mlp22@-1 <= mlp20@-1 <= attn15.13@3 <= embedding@3: 1.0967254638671875e-05\n",
      "mlp16@-1 <= attn15.13@3 <= mlp12@3 <= attn9.1@3 <= embedding@3: 7.152557373046875e-06\n",
      "mlp18@-1 <= embedding@-1: 9.5367431640625e-07\n",
      "mlp21@-1 <= embedding@-1: 9.5367431640625e-07\n",
      "mlp18@-1 <= mlp16@-1 <= embedding@-1: 9.5367431640625e-07\n",
      "mlp21@-1 <= mlp18@-1 <= embedding@-1: 9.5367431640625e-07\n",
      "mlp21@-1 <= mlp16@-1 <= embedding@-1: 9.5367431640625e-07\n",
      "mlp18@-1 <= attn17.14@4 <= embedding@4: 9.5367431640625e-07\n",
      "mlp21@-1 <= mlp18@-1 <= mlp16@-1 <= embedding@-1: 9.5367431640625e-07\n",
      "\n",
      "Paths of length 6:\n",
      "===================\n",
      "mlp19@-1 <= mlp16@-1 <= attn15.13@3 <= mlp12@3 <= attn6.6@3 <= mlp1@3: 0.004630088806152344\n",
      "mlp19@-1 <= mlp16@-1 <= attn15.13@3 <= mlp12@3 <= attn6.6@3 <= mlp0@3: 0.004534244537353516\n",
      "mlp21@-1 <= mlp18@-1 <= mlp16@-1 <= attn15.13@3 <= mlp12@3 <= attn6.6@3: 0.0034027099609375\n",
      "mlp22@-1 <= mlp20@-1 <= mlp16@-1 <= attn15.13@3 <= mlp12@3 <= attn6.6@3: 0.0031981468200683594\n",
      "mlp18@-1 <= mlp16@-1 <= attn15.13@3 <= mlp12@3 <= attn6.6@3 <= mlp1@3: 0.002883434295654297\n",
      "mlp18@-1 <= mlp16@-1 <= attn15.13@3 <= mlp12@3 <= attn6.6@3 <= mlp0@3: 0.0028557777404785156\n",
      "mlp22@-1 <= mlp20@-1 <= mlp18@-1 <= mlp16@-1 <= attn15.13@3 <= mlp12@3: 0.0027265548706054688\n",
      "mlp22@-1 <= mlp20@-1 <= mlp18@-1 <= mlp16@-1 <= mlp14@-1 <= mlp9@-1: 0.002647876739501953\n",
      "mlp21@-1 <= mlp18@-1 <= mlp16@-1 <= attn15.13@3 <= mlp12@3 <= attn9.1@3: 0.0026330947875976562\n",
      "mlp21@-1 <= mlp16@-1 <= attn15.13@3 <= mlp12@3 <= attn6.6@3 <= mlp0@3: 0.0026063919067382812\n",
      "mlp21@-1 <= mlp16@-1 <= attn15.13@3 <= mlp12@3 <= attn6.6@3 <= mlp1@3: 0.0025963783264160156\n",
      "mlp22@-1 <= mlp20@-1 <= mlp16@-1 <= attn15.13@3 <= mlp12@3 <= attn9.1@3: 0.002471446990966797\n",
      "mlp21@-1 <= mlp18@-1 <= mlp16@-1 <= attn15.13@3 <= mlp12@3 <= mlp1@3: 0.0022878646850585938\n",
      "mlp19@-1 <= mlp16@-1 <= attn15.13@3 <= mlp12@3 <= attn9.1@3 <= attn6.6@3: 0.0021376609802246094\n",
      "mlp22@-1 <= mlp20@-1 <= mlp16@-1 <= attn15.13@3 <= mlp12@3 <= mlp1@3: 0.0020694732666015625\n",
      "mlp16@-1 <= attn13.3@3 <= embedding@3: 0.0006103515625\n",
      "mlp16@-1 <= attn9.1@3 <= embedding@3: 0.0002551078796386719\n",
      "mlp18@-1 <= attn15.13@3 <= embedding@3: 9.489059448242188e-05\n",
      "mlp19@-1 <= mlp16@-1 <= attn15.13@3 <= embedding@3: 8.20159912109375e-05\n",
      "mlp19@-1 <= mlp16@-1 <= mlp12@-1 <= attn6.6@3 <= embedding@3: 5.3882598876953125e-05\n",
      "mlp18@-1 <= attn15.13@3 <= mlp12@3 <= embedding@3: 3.6716461181640625e-05\n",
      "mlp22@-1 <= mlp20@-1 <= attn15.13@3 <= embedding@3: 1.0967254638671875e-05\n",
      "mlp16@-1 <= attn15.13@3 <= mlp12@3 <= attn9.1@3 <= embedding@3: 7.152557373046875e-06\n",
      "mlp18@-1 <= embedding@-1: 9.5367431640625e-07\n",
      "mlp21@-1 <= embedding@-1: 9.5367431640625e-07\n",
      "mlp18@-1 <= mlp16@-1 <= embedding@-1: 9.5367431640625e-07\n",
      "mlp21@-1 <= mlp18@-1 <= embedding@-1: 9.5367431640625e-07\n",
      "mlp21@-1 <= mlp16@-1 <= embedding@-1: 9.5367431640625e-07\n",
      "mlp18@-1 <= attn17.14@4 <= embedding@4: 9.5367431640625e-07\n",
      "mlp21@-1 <= mlp18@-1 <= mlp16@-1 <= embedding@-1: 9.5367431640625e-07\n",
      "\n",
      "Paths of length 7:\n",
      "===================\n",
      "mlp21@-1 <= mlp18@-1 <= mlp16@-1 <= attn15.13@3 <= mlp12@3 <= attn6.6@3 <= mlp1@3: 0.0014195442199707031\n",
      "mlp21@-1 <= mlp18@-1 <= mlp16@-1 <= attn15.13@3 <= mlp12@3 <= attn6.6@3 <= mlp0@3: 0.0013828277587890625\n",
      "mlp22@-1 <= mlp20@-1 <= mlp16@-1 <= attn15.13@3 <= mlp12@3 <= attn6.6@3 <= mlp0@3: 0.0013451576232910156\n",
      "mlp22@-1 <= mlp20@-1 <= mlp16@-1 <= attn15.13@3 <= mlp12@3 <= attn6.6@3 <= mlp1@3: 0.001312255859375\n",
      "mlp22@-1 <= mlp20@-1 <= mlp18@-1 <= mlp16@-1 <= mlp14@-1 <= mlp9@-1 <= mlp7@-1: 0.0010981559753417969\n",
      "mlp19@-1 <= mlp16@-1 <= attn15.13@3 <= mlp12@3 <= attn9.1@3 <= attn6.6@3 <= mlp1@3: 0.0009961128234863281\n",
      "mlp19@-1 <= mlp16@-1 <= attn15.13@3 <= mlp12@3 <= attn9.1@3 <= attn6.6@3 <= mlp0@3: 0.0009665489196777344\n",
      "mlp22@-1 <= mlp20@-1 <= mlp18@-1 <= mlp16@-1 <= attn15.13@3 <= mlp12@3 <= attn6.6@3: 0.0008406639099121094\n",
      "mlp22@-1 <= mlp20@-1 <= mlp18@-1 <= mlp16@-1 <= mlp14@-1 <= mlp9@-1 <= mlp6@-1: 0.0007433891296386719\n",
      "mlp22@-1 <= mlp20@-1 <= mlp18@-1 <= mlp16@-1 <= mlp14@-1 <= mlp9@-1 <= mlp4@-1: 0.0006918907165527344\n",
      "mlp22@-1 <= mlp20@-1 <= mlp18@-1 <= mlp16@-1 <= mlp14@-1 <= mlp9@-1 <= attn1.3@3: 0.0006895065307617188\n",
      "mlp22@-1 <= mlp20@-1 <= mlp18@-1 <= mlp16@-1 <= attn15.13@3 <= mlp12@3 <= attn9.1@3: 0.0006761550903320312\n",
      "mlp21@-1 <= mlp18@-1 <= mlp16@-1 <= attn15.13@3 <= mlp12@3 <= attn9.1@3 <= attn6.6@3: 0.0006518363952636719\n",
      "mlp22@-1 <= mlp20@-1 <= mlp16@-1 <= attn15.13@3 <= mlp12@3 <= attn9.1@3 <= attn6.6@3: 0.0006098747253417969\n",
      "mlp22@-1 <= mlp20@-1 <= mlp18@-1 <= mlp16@-1 <= attn15.13@3 <= mlp12@3 <= mlp1@3: 0.0005812644958496094\n",
      "mlp16@-1 <= attn13.3@3 <= embedding@3: 0.0006103515625\n",
      "mlp16@-1 <= attn9.1@3 <= embedding@3: 0.0002551078796386719\n",
      "mlp18@-1 <= attn15.13@3 <= embedding@3: 9.489059448242188e-05\n",
      "mlp19@-1 <= mlp16@-1 <= attn15.13@3 <= embedding@3: 8.20159912109375e-05\n",
      "mlp19@-1 <= mlp16@-1 <= mlp12@-1 <= attn6.6@3 <= embedding@3: 5.3882598876953125e-05\n",
      "mlp18@-1 <= attn15.13@3 <= mlp12@3 <= embedding@3: 3.6716461181640625e-05\n",
      "mlp22@-1 <= mlp20@-1 <= attn15.13@3 <= embedding@3: 1.0967254638671875e-05\n",
      "mlp16@-1 <= attn15.13@3 <= mlp12@3 <= attn9.1@3 <= embedding@3: 7.152557373046875e-06\n",
      "mlp21@-1 <= mlp18@-1 <= mlp16@-1 <= attn15.13@3 <= mlp12@3 <= attn9.1@3 <= embedding@3: 2.384185791015625e-06\n",
      "mlp18@-1 <= embedding@-1: 9.5367431640625e-07\n",
      "mlp21@-1 <= embedding@-1: 9.5367431640625e-07\n",
      "mlp18@-1 <= mlp16@-1 <= embedding@-1: 9.5367431640625e-07\n",
      "mlp21@-1 <= mlp18@-1 <= embedding@-1: 9.5367431640625e-07\n",
      "mlp21@-1 <= mlp16@-1 <= embedding@-1: 9.5367431640625e-07\n",
      "mlp18@-1 <= attn17.14@4 <= embedding@4: 9.5367431640625e-07\n",
      "\n"
     ]
    }
   ],
   "source": [
    "_ = patch_get_max_paths(model, cur_embeddings_female, cur_embeddings_male, better_diff_ln_f_normal, 7, 15)"
   ]
  },
  {
   "cell_type": "markdown",
   "id": "b9e985bc-f381-4ee1-a35a-beee59145435",
   "metadata": {},
   "source": [
    "Let's see if different paths converge to the same feature vectors."
   ]
  },
  {
   "cell_type": "code",
   "execution_count": 75,
   "id": "219d368f-1dfa-4ef7-9d7f-7629b2e5d1c8",
   "metadata": {},
   "outputs": [
    {
     "data": {
      "text/plain": [
       "(tensor(0.9602, device='cuda:0'),\n",
       " tensor(0.9781, device='cuda:0'),\n",
       " tensor(0.9756, device='cuda:0'))"
      ]
     },
     "execution_count": 75,
     "metadata": {},
     "output_type": "execute_result"
    }
   ],
   "source": [
    "occu_normal_path_1 = get_normal_for_path(model, cur_occu_embeddings_female, cur_occu_embeddings_male, occu_ln_f_normal,\n",
    "    [\n",
    "        {'layer': 19, 'sublayer': 'mlp', 'token': -1, 'head': -1},\n",
    "        {'layer': 16, 'sublayer': 'mlp', 'token': -1, 'head': -1},\n",
    "        {'layer': 15, 'sublayer': 'attn', 'token': 3, 'head': 13},\n",
    "        {'layer': 12, 'sublayer': 'mlp', 'token': 3, 'head': -1},\n",
    "        {'layer': 9, 'sublayer': 'attn', 'token': 3, 'head': 1},\n",
    "        {'layer': 6, 'sublayer': 'attn', 'token': 3, 'head': 6},\n",
    "    ]\n",
    ")\n",
    "\n",
    "occu_normal_path_2 = get_normal_for_path(model, cur_occu_embeddings_female, cur_occu_embeddings_male, occu_ln_f_normal,\n",
    "    [\n",
    "        {'layer': 22, 'sublayer': 'mlp', 'token': -1, 'head': -1},\n",
    "        {'layer': 20, 'sublayer': 'mlp', 'token': -1, 'head': -1},\n",
    "        {'layer': 16, 'sublayer': 'mlp', 'token': -1, 'head': -1},\n",
    "        {'layer': 15, 'sublayer': 'attn', 'token': 3, 'head': 13},\n",
    "        {'layer': 12, 'sublayer': 'mlp', 'token': 3, 'head': -1},\n",
    "        {'layer': 9, 'sublayer': 'attn', 'token': 3, 'head': 1},\n",
    "        {'layer': 6, 'sublayer': 'attn', 'token': 3, 'head': 6},\n",
    "    ]\n",
    ")\n",
    "\n",
    "occu_normal_path_3 = get_normal_for_path(model, cur_occu_embeddings_female, cur_occu_embeddings_male, occu_ln_f_normal,\n",
    "    [\n",
    "        {'layer': 21, 'sublayer': 'mlp', 'token': -1, 'head': -1},\n",
    "        {'layer': 18, 'sublayer': 'mlp', 'token': -1, 'head': -1},\n",
    "        {'layer': 16, 'sublayer': 'mlp', 'token': -1, 'head': -1},\n",
    "        {'layer': 15, 'sublayer': 'attn', 'token': 3, 'head': 13},\n",
    "        {'layer': 12, 'sublayer': 'mlp', 'token': 3, 'head': -1},\n",
    "        {'layer': 9, 'sublayer': 'attn', 'token': 3, 'head': 1},\n",
    "        {'layer': 6, 'sublayer': 'attn', 'token': 3, 'head': 6},\n",
    "    ]\n",
    ")\n",
    "\n",
    "cossim(occu_normal_path_1, occu_normal_path_2),\\\n",
    "    cossim(occu_normal_path_2, occu_normal_path_3),\\\n",
    "    cossim(occu_normal_path_1, occu_normal_path_3)"
   ]
  },
  {
   "cell_type": "markdown",
   "id": "876ee6bd-4ee1-4e7f-8de3-de00aec38035",
   "metadata": {},
   "source": [
    "This motivates a good choice of starting path."
   ]
  },
  {
   "cell_type": "code",
   "execution_count": 127,
   "id": "5217a298-e841-445f-9a92-7d25a9bb5140",
   "metadata": {},
   "outputs": [
    {
     "name": "stdout",
     "output_type": "stream",
     "text": [
      "Paths of length 1:\n",
      "===================\n",
      "mlp19@-1 <= mlp16@-1 <= attn15.13@3 <= mlp12@3 <= attn9.1@3 <= attn6.6@3 <= mlp1@3: 0.0009961128234863281\n",
      "mlp19@-1 <= mlp16@-1 <= attn15.13@3 <= mlp12@3 <= attn9.1@3 <= attn6.6@3 <= mlp0@3: 0.0009665489196777344\n",
      "mlp19@-1 <= mlp16@-1 <= attn15.13@3 <= mlp12@3 <= attn9.1@3 <= attn6.6@3 <= mlp2@3: 0.00011682510375976562\n",
      "mlp19@-1 <= mlp16@-1 <= attn15.13@3 <= mlp12@3 <= attn9.1@3 <= attn6.6@3 <= attn0.14@3: 0.00010156631469726562\n",
      "mlp19@-1 <= mlp16@-1 <= attn15.13@3 <= mlp12@3 <= attn9.1@3 <= attn6.6@3 <= attn0.11@3: 4.9114227294921875e-05\n",
      "mlp19@-1 <= mlp16@-1 <= attn15.13@3 <= mlp12@3 <= attn9.1@3 <= attn6.6@3 <= attn0.6@3: 4.57763671875e-05\n",
      "mlp19@-1 <= mlp16@-1 <= attn15.13@3 <= mlp12@3 <= attn9.1@3 <= attn6.6@3 <= attn0.3@3: 3.814697265625e-05\n",
      "mlp19@-1 <= mlp16@-1 <= attn15.13@3 <= mlp12@3 <= attn9.1@3 <= attn6.6@3 <= attn0.8@3: 3.7670135498046875e-05\n",
      "mlp19@-1 <= mlp16@-1 <= attn15.13@3 <= mlp12@3 <= attn9.1@3 <= attn6.6@3 <= attn0.9@3: 3.7670135498046875e-05\n",
      "mlp19@-1 <= mlp16@-1 <= attn15.13@3 <= mlp12@3 <= attn9.1@3 <= attn6.6@3 <= attn0.15@3: 3.4809112548828125e-05\n",
      "mlp19@-1 <= mlp16@-1 <= attn15.13@3 <= mlp12@3 <= attn9.1@3 <= attn6.6@3 <= embedding@3: 0.0\n",
      "\n",
      "Paths of length 2:\n",
      "===================\n",
      "mlp19@-1 <= mlp16@-1 <= attn15.13@3 <= mlp12@3 <= attn9.1@3 <= attn6.6@3 <= mlp2@3 <= mlp0@3: 0.00012350082397460938\n",
      "mlp19@-1 <= mlp16@-1 <= attn15.13@3 <= mlp12@3 <= attn9.1@3 <= attn6.6@3 <= mlp1@3 <= attn0.14@3: 9.5367431640625e-05\n",
      "mlp19@-1 <= mlp16@-1 <= attn15.13@3 <= mlp12@3 <= attn9.1@3 <= attn6.6@3 <= mlp1@3 <= attn0.15@3: 7.724761962890625e-05\n",
      "mlp19@-1 <= mlp16@-1 <= attn15.13@3 <= mlp12@3 <= attn9.1@3 <= attn6.6@3 <= mlp1@3 <= attn0.13@3: 7.009506225585938e-05\n",
      "mlp19@-1 <= mlp16@-1 <= attn15.13@3 <= mlp12@3 <= attn9.1@3 <= attn6.6@3 <= mlp1@3 <= attn0.0@3: 6.771087646484375e-05\n",
      "mlp19@-1 <= mlp16@-1 <= attn15.13@3 <= mlp12@3 <= attn9.1@3 <= attn6.6@3 <= mlp1@3 <= attn0.2@3: 5.4836273193359375e-05\n",
      "mlp19@-1 <= mlp16@-1 <= attn15.13@3 <= mlp12@3 <= attn9.1@3 <= attn6.6@3 <= mlp1@3 <= attn0.6@3: 4.1484832763671875e-05\n",
      "mlp19@-1 <= mlp16@-1 <= attn15.13@3 <= mlp12@3 <= attn9.1@3 <= attn6.6@3 <= mlp1@3 <= attn0.3@3: 3.910064697265625e-05\n",
      "mlp19@-1 <= mlp16@-1 <= attn15.13@3 <= mlp12@3 <= attn9.1@3 <= attn6.6@3 <= mlp1@3 <= attn0.8@3: 3.0994415283203125e-05\n",
      "mlp19@-1 <= mlp16@-1 <= attn15.13@3 <= mlp12@3 <= attn9.1@3 <= attn6.6@3 <= mlp2@3 <= attn0.0@3: 2.956390380859375e-05\n",
      "mlp19@-1 <= mlp16@-1 <= attn15.13@3 <= mlp12@3 <= attn9.1@3 <= attn6.6@3 <= attn0.14@3 <= embedding@3: 0.00010156631469726562\n",
      "mlp19@-1 <= mlp16@-1 <= attn15.13@3 <= mlp12@3 <= attn9.1@3 <= attn6.6@3 <= attn0.11@3 <= embedding@3: 4.9114227294921875e-05\n",
      "mlp19@-1 <= mlp16@-1 <= attn15.13@3 <= mlp12@3 <= attn9.1@3 <= attn6.6@3 <= attn0.6@3 <= embedding@3: 4.57763671875e-05\n",
      "mlp19@-1 <= mlp16@-1 <= attn15.13@3 <= mlp12@3 <= attn9.1@3 <= attn6.6@3 <= attn0.3@3 <= embedding@3: 3.814697265625e-05\n",
      "mlp19@-1 <= mlp16@-1 <= attn15.13@3 <= mlp12@3 <= attn9.1@3 <= attn6.6@3 <= attn0.8@3 <= embedding@3: 3.7670135498046875e-05\n",
      "mlp19@-1 <= mlp16@-1 <= attn15.13@3 <= mlp12@3 <= attn9.1@3 <= attn6.6@3 <= attn0.9@3 <= embedding@3: 3.7670135498046875e-05\n",
      "mlp19@-1 <= mlp16@-1 <= attn15.13@3 <= mlp12@3 <= attn9.1@3 <= attn6.6@3 <= attn0.15@3 <= embedding@3: 3.4809112548828125e-05\n",
      "mlp19@-1 <= mlp16@-1 <= attn15.13@3 <= mlp12@3 <= attn9.1@3 <= attn6.6@3 <= mlp2@3 <= embedding@3: 4.291534423828125e-06\n",
      "mlp19@-1 <= mlp16@-1 <= attn15.13@3 <= mlp12@3 <= attn9.1@3 <= attn6.6@3 <= embedding@3: 0.0\n",
      "mlp19@-1 <= mlp16@-1 <= attn15.13@3 <= mlp12@3 <= attn9.1@3 <= attn6.6@3 <= mlp0@3 <= embedding@3: -3.337860107421875e-06\n",
      "\n",
      "Paths of length 3:\n",
      "===================\n",
      "mlp19@-1 <= mlp16@-1 <= attn15.13@3 <= mlp12@3 <= attn9.1@3 <= attn6.6@3 <= attn0.14@3 <= embedding@3: 0.00010156631469726562\n",
      "mlp19@-1 <= mlp16@-1 <= attn15.13@3 <= mlp12@3 <= attn9.1@3 <= attn6.6@3 <= mlp1@3 <= attn0.14@3 <= embedding@3: 9.5367431640625e-05\n",
      "mlp19@-1 <= mlp16@-1 <= attn15.13@3 <= mlp12@3 <= attn9.1@3 <= attn6.6@3 <= mlp1@3 <= attn0.15@3 <= embedding@3: 7.724761962890625e-05\n",
      "mlp19@-1 <= mlp16@-1 <= attn15.13@3 <= mlp12@3 <= attn9.1@3 <= attn6.6@3 <= mlp1@3 <= attn0.13@3 <= embedding@3: 7.009506225585938e-05\n",
      "mlp19@-1 <= mlp16@-1 <= attn15.13@3 <= mlp12@3 <= attn9.1@3 <= attn6.6@3 <= mlp1@3 <= attn0.0@3 <= embedding@3: 6.771087646484375e-05\n",
      "mlp19@-1 <= mlp16@-1 <= attn15.13@3 <= mlp12@3 <= attn9.1@3 <= attn6.6@3 <= mlp1@3 <= attn0.2@3 <= embedding@3: 5.4836273193359375e-05\n",
      "mlp19@-1 <= mlp16@-1 <= attn15.13@3 <= mlp12@3 <= attn9.1@3 <= attn6.6@3 <= attn0.11@3 <= embedding@3: 4.9114227294921875e-05\n",
      "mlp19@-1 <= mlp16@-1 <= attn15.13@3 <= mlp12@3 <= attn9.1@3 <= attn6.6@3 <= attn0.6@3 <= embedding@3: 4.57763671875e-05\n",
      "mlp19@-1 <= mlp16@-1 <= attn15.13@3 <= mlp12@3 <= attn9.1@3 <= attn6.6@3 <= mlp1@3 <= attn0.6@3 <= embedding@3: 4.1484832763671875e-05\n",
      "mlp19@-1 <= mlp16@-1 <= attn15.13@3 <= mlp12@3 <= attn9.1@3 <= attn6.6@3 <= mlp1@3 <= attn0.3@3 <= embedding@3: 3.910064697265625e-05\n",
      "\n"
     ]
    }
   ],
   "source": [
    "_ = patch_get_max_paths(model, cur_embeddings_female, cur_embeddings_male, better_diff_ln_f_normal, 3, 10,\n",
    "    starting_path=list(reversed([\n",
    "        {'layer': 19, 'sublayer': 'mlp', 'token': -1, 'head': -1},\n",
    "        {'layer': 16, 'sublayer': 'mlp', 'token': -1, 'head': -1},\n",
    "        {'layer': 15, 'sublayer': 'attn', 'token': 3, 'head': 13},\n",
    "        {'layer': 12, 'sublayer': 'mlp', 'token': 3, 'head': -1},\n",
    "        {'layer': 9, 'sublayer': 'attn', 'token': 3, 'head': 1},\n",
    "        {'layer': 6, 'sublayer': 'attn', 'token': 3, 'head': 6},\n",
    "    ]))\n",
    ")"
   ]
  },
  {
   "cell_type": "code",
   "execution_count": 140,
   "id": "c7a742e1-a089-4ebc-9225-c244dbb32e53",
   "metadata": {},
   "outputs": [
    {
     "name": "stdout",
     "output_type": "stream",
     "text": [
      "Paths of length 1:\n",
      "===================\n",
      "mlp19@-1 <= mlp16@-1 <= attn15.13@3 <= mlp12@3 <= attn6.6@3: 0.011085033416748047\n",
      "mlp19@-1 <= mlp16@-1 <= attn15.13@3 <= mlp12@3 <= attn9.1@3: 0.008693218231201172\n",
      "mlp19@-1 <= mlp16@-1 <= attn15.13@3 <= mlp12@3 <= mlp1@3: 0.00819540023803711\n",
      "mlp19@-1 <= mlp16@-1 <= attn15.13@3 <= mlp12@3 <= mlp8@3: 0.005135536193847656\n",
      "mlp19@-1 <= mlp16@-1 <= attn15.13@3 <= mlp12@3 <= mlp0@3: 0.004185676574707031\n",
      "mlp19@-1 <= mlp16@-1 <= attn15.13@3 <= mlp12@3 <= attn0.9@3: 0.0016169548034667969\n",
      "mlp19@-1 <= mlp16@-1 <= attn15.13@3 <= mlp12@3 <= mlp10@3: 0.0014848709106445312\n",
      "mlp19@-1 <= mlp16@-1 <= attn15.13@3 <= mlp12@3 <= attn8.14@3: 0.0014500617980957031\n",
      "mlp19@-1 <= mlp16@-1 <= attn15.13@3 <= mlp12@3 <= attn0.14@3: 0.0014009475708007812\n",
      "mlp19@-1 <= mlp16@-1 <= attn15.13@3 <= mlp12@3 <= mlp6@3: 0.0013060569763183594\n",
      "mlp19@-1 <= mlp16@-1 <= attn15.13@3 <= mlp12@3 <= embedding@3: -0.00014925003051757812\n",
      "\n",
      "Paths of length 2:\n",
      "===================\n",
      "mlp19@-1 <= mlp16@-1 <= attn15.13@3 <= mlp12@3 <= attn6.6@3 <= mlp1@3: 0.004630088806152344\n",
      "mlp19@-1 <= mlp16@-1 <= attn15.13@3 <= mlp12@3 <= attn6.6@3 <= mlp0@3: 0.004534244537353516\n",
      "mlp19@-1 <= mlp16@-1 <= attn15.13@3 <= mlp12@3 <= mlp8@3 <= mlp1@3: 0.002342700958251953\n",
      "mlp19@-1 <= mlp16@-1 <= attn15.13@3 <= mlp12@3 <= attn9.1@3 <= attn6.6@3: 0.0021376609802246094\n",
      "mlp19@-1 <= mlp16@-1 <= attn15.13@3 <= mlp12@3 <= attn9.1@3 <= mlp1@3: 0.0018582344055175781\n",
      "mlp19@-1 <= mlp16@-1 <= attn15.13@3 <= mlp12@3 <= mlp8@3 <= mlp0@3: 0.0018200874328613281\n",
      "mlp19@-1 <= mlp16@-1 <= attn15.13@3 <= mlp12@3 <= attn9.1@3 <= mlp0@3: 0.0017361640930175781\n",
      "mlp19@-1 <= mlp16@-1 <= attn15.13@3 <= mlp12@3 <= mlp10@3 <= mlp1@3: 0.0011358261108398438\n",
      "mlp19@-1 <= mlp16@-1 <= attn15.13@3 <= mlp12@3 <= mlp6@3 <= mlp4@3: 0.0010104179382324219\n",
      "mlp19@-1 <= mlp16@-1 <= attn15.13@3 <= mlp12@3 <= mlp8@3 <= mlp5@3: 0.0009679794311523438\n",
      "mlp19@-1 <= mlp16@-1 <= attn15.13@3 <= mlp12@3 <= attn0.9@3 <= embedding@3: 0.0016169548034667969\n",
      "mlp19@-1 <= mlp16@-1 <= attn15.13@3 <= mlp12@3 <= attn0.14@3 <= embedding@3: 0.0014009475708007812\n",
      "mlp19@-1 <= mlp16@-1 <= attn15.13@3 <= mlp12@3 <= mlp6@3 <= embedding@3: 0.00014781951904296875\n",
      "mlp19@-1 <= mlp16@-1 <= attn15.13@3 <= mlp12@3 <= mlp10@3 <= embedding@3: 5.626678466796875e-05\n",
      "mlp19@-1 <= mlp16@-1 <= attn15.13@3 <= mlp12@3 <= mlp0@3 <= embedding@3: 2.4318695068359375e-05\n",
      "mlp19@-1 <= mlp16@-1 <= attn15.13@3 <= mlp12@3 <= mlp8@3 <= embedding@3: 2.193450927734375e-05\n",
      "mlp19@-1 <= mlp16@-1 <= attn15.13@3 <= mlp12@3 <= attn9.1@3 <= embedding@3: -4.76837158203125e-07\n",
      "mlp19@-1 <= mlp16@-1 <= attn15.13@3 <= mlp12@3 <= attn8.14@3 <= embedding@3: -6.198883056640625e-06\n",
      "mlp19@-1 <= mlp16@-1 <= attn15.13@3 <= mlp12@3 <= attn6.6@3 <= embedding@3: -6.67572021484375e-06\n",
      "mlp19@-1 <= mlp16@-1 <= attn15.13@3 <= mlp12@3 <= mlp1@3 <= embedding@3: -5.1021575927734375e-05\n",
      "\n",
      "Paths of length 3:\n",
      "===================\n",
      "mlp19@-1 <= mlp16@-1 <= attn15.13@3 <= mlp12@3 <= attn9.1@3 <= attn6.6@3 <= mlp1@3: 0.0009961128234863281\n",
      "mlp19@-1 <= mlp16@-1 <= attn15.13@3 <= mlp12@3 <= attn9.1@3 <= attn6.6@3 <= mlp0@3: 0.0009665489196777344\n",
      "mlp19@-1 <= mlp16@-1 <= attn15.13@3 <= mlp12@3 <= mlp8@3 <= mlp5@3 <= mlp0@3: 0.0006761550903320312\n",
      "mlp19@-1 <= mlp16@-1 <= attn15.13@3 <= mlp12@3 <= mlp8@3 <= mlp1@3 <= attn0.8@3: 0.0005140304565429688\n",
      "mlp19@-1 <= mlp16@-1 <= attn15.13@3 <= mlp12@3 <= attn6.6@3 <= mlp1@3 <= attn0.14@3: 0.0004229545593261719\n",
      "mlp19@-1 <= mlp16@-1 <= attn15.13@3 <= mlp12@3 <= attn6.6@3 <= mlp1@3 <= attn0.15@3: 0.0003714561462402344\n",
      "mlp19@-1 <= mlp16@-1 <= attn15.13@3 <= mlp12@3 <= mlp8@3 <= mlp5@3 <= attn0.8@3: 0.0003285408020019531\n",
      "mlp19@-1 <= mlp16@-1 <= attn15.13@3 <= mlp12@3 <= attn6.6@3 <= mlp1@3 <= attn0.13@3: 0.0003247261047363281\n",
      "mlp19@-1 <= mlp16@-1 <= attn15.13@3 <= mlp12@3 <= mlp6@3 <= mlp4@3 <= mlp0@3: 0.0003209114074707031\n",
      "mlp19@-1 <= mlp16@-1 <= attn15.13@3 <= mlp12@3 <= mlp8@3 <= mlp5@3 <= attn0.4@3: 0.00031185150146484375\n",
      "mlp19@-1 <= mlp16@-1 <= attn15.13@3 <= mlp12@3 <= attn0.9@3 <= embedding@3: 0.0016169548034667969\n",
      "mlp19@-1 <= mlp16@-1 <= attn15.13@3 <= mlp12@3 <= attn0.14@3 <= embedding@3: 0.0014009475708007812\n",
      "mlp19@-1 <= mlp16@-1 <= attn15.13@3 <= mlp12@3 <= mlp6@3 <= embedding@3: 0.00014781951904296875\n",
      "mlp19@-1 <= mlp16@-1 <= attn15.13@3 <= mlp12@3 <= mlp10@3 <= embedding@3: 5.626678466796875e-05\n",
      "mlp19@-1 <= mlp16@-1 <= attn15.13@3 <= mlp12@3 <= mlp0@3 <= embedding@3: 2.4318695068359375e-05\n",
      "mlp19@-1 <= mlp16@-1 <= attn15.13@3 <= mlp12@3 <= mlp8@3 <= embedding@3: 2.193450927734375e-05\n",
      "mlp19@-1 <= mlp16@-1 <= attn15.13@3 <= mlp12@3 <= mlp10@3 <= mlp1@3 <= embedding@3: 8.106231689453125e-06\n",
      "mlp19@-1 <= mlp16@-1 <= attn15.13@3 <= mlp12@3 <= attn9.1@3 <= attn6.6@3 <= embedding@3: 0.0\n",
      "mlp19@-1 <= mlp16@-1 <= attn15.13@3 <= mlp12@3 <= attn9.1@3 <= embedding@3: -4.76837158203125e-07\n",
      "mlp19@-1 <= mlp16@-1 <= attn15.13@3 <= mlp12@3 <= attn9.1@3 <= mlp0@3 <= embedding@3: -5.245208740234375e-06\n",
      "\n"
     ]
    }
   ],
   "source": [
    "_ = patch_get_max_paths(model, cur_embeddings_female, cur_embeddings_male, better_diff_ln_f_normal, 3, 10,\n",
    "    starting_path=list(reversed([\n",
    "        {'layer': 19, 'sublayer': 'mlp', 'token': -1, 'head': -1},\n",
    "        {'layer': 16, 'sublayer': 'mlp', 'token': -1, 'head': -1},\n",
    "        {'layer': 15, 'sublayer': 'attn', 'token': 3, 'head': 13},\n",
    "        {'layer': 12, 'sublayer': 'mlp', 'token': 3, 'head': -1}\n",
    "    ]))\n",
    ")"
   ]
  },
  {
   "cell_type": "code",
   "execution_count": 93,
   "id": "12869e33-d228-48cf-a8c6-dbfebae1252c",
   "metadata": {
    "scrolled": true
   },
   "outputs": [
    {
     "name": "stdout",
     "output_type": "stream",
     "text": [
      "Paths of length 1:\n",
      "===================\n",
      "attn13.11@5: 3.427302122116089\n",
      "mlp18@-1: 2.334465980529785\n",
      "attn17.14@4: 1.6759061813354492\n",
      "mlp16@-1: 1.548098087310791\n",
      "mlp19@-1: 1.0288801193237305\n",
      "attn17.14@9: 0.8834958076477051\n",
      "attn17.14@10: 0.8299517631530762\n",
      "mlp17@-1: 0.6939740180969238\n",
      "attn13.11@4: 0.6556978225708008\n",
      "attn17.14@5: 0.6509799957275391\n",
      "attn15.13@5: 0.5109343528747559\n",
      "mlp15@-1: 0.3280806541442871\n",
      "attn15.13@3: 0.28732824325561523\n",
      "attn18.11@8: 0.27251768112182617\n",
      "attn17.14@8: 0.26997947692871094\n",
      "attn13.3@3: 0.26619482040405273\n",
      "attn17.14@3: 0.2450103759765625\n",
      "attn23.0@11: 0.22838592529296875\n",
      "attn15.13@4: 0.20160531997680664\n",
      "attn13.11@6: 0.19784832000732422\n",
      "embedding@-1: 0.0\n",
      "\n",
      "Paths of length 2:\n",
      "===================\n",
      "attn13.11@5 <= attn9.1@3: 1.33689546585083\n",
      "attn13.11@5 <= attn6.6@3: 0.8091940879821777\n",
      "attn17.14@4 <= attn13.3@3: 0.4383659362792969\n",
      "mlp16@-1 <= attn13.3@3: 0.3755531311035156\n",
      "attn17.14@4 <= attn9.1@3: 0.34485578536987305\n",
      "mlp17@-1 <= attn13.11@5: 0.3383779525756836\n",
      "attn13.11@4 <= attn9.1@3: 0.3243894577026367\n",
      "attn17.14@10 <= attn9.1@3: 0.31556034088134766\n",
      "attn13.11@5 <= attn10.5@5: 0.3076443672180176\n",
      "attn15.13@5 <= mlp12@5: 0.2980780601501465\n",
      "attn17.14@4 <= attn15.13@3: 0.257474422454834\n",
      "attn17.14@4 <= mlp12@4: 0.24575042724609375\n",
      "attn18.11@8 <= mlp12@8: 0.22520208358764648\n",
      "attn13.11@5 <= attn7.12@4: 0.22105884552001953\n",
      "mlp16@-1 <= attn13.11@5: 0.2202315330505371\n",
      "mlp16@-1 <= attn13.3@8: 0.21593809127807617\n",
      "mlp16@-1 <= attn9.1@3: 0.2105250358581543\n",
      "attn13.11@5 <= attn10.5@4: 0.17593812942504883\n",
      "attn17.14@5 <= attn13.3@3: 0.17308568954467773\n",
      "attn13.11@5 <= attn10.5@3: 0.15626096725463867\n",
      "mlp18@-1 <= embedding@-1: 4.76837158203125e-07\n",
      "mlp17@-1 <= embedding@-1: 4.76837158203125e-07\n",
      "embedding@-1: 0.0\n",
      "attn13.11@5 <= embedding@5: 0.0\n",
      "attn17.14@4 <= embedding@4: 0.0\n",
      "mlp19@-1 <= embedding@-1: 0.0\n",
      "attn17.14@9 <= embedding@9: 0.0\n",
      "attn17.14@10 <= embedding@10: 0.0\n",
      "attn13.11@4 <= embedding@4: 0.0\n",
      "attn17.14@5 <= embedding@5: 0.0\n",
      "attn15.13@5 <= embedding@5: 0.0\n",
      "attn18.11@8 <= embedding@8: 0.0\n",
      "attn17.14@8 <= embedding@8: 0.0\n",
      "attn23.0@11 <= embedding@11: 0.0\n",
      "attn15.13@4 <= embedding@4: 0.0\n",
      "attn13.11@6 <= embedding@6: 0.0\n",
      "mlp16@-1 <= embedding@-1: -4.76837158203125e-07\n",
      "mlp15@-1 <= embedding@-1: -4.76837158203125e-07\n",
      "attn15.13@3 <= embedding@3: -4.291534423828125e-06\n",
      "attn13.3@3 <= embedding@3: -5.1021575927734375e-05\n",
      "\n",
      "Paths of length 3:\n",
      "===================\n",
      "attn13.11@5 <= attn6.6@3 <= mlp1@3: 0.44770383834838867\n",
      "attn13.11@5 <= attn6.6@3 <= mlp0@3: 0.42350244522094727\n",
      "attn13.11@5 <= attn9.1@3 <= mlp1@3: 0.3361649513244629\n",
      "attn13.11@5 <= attn9.1@3 <= attn6.6@3: 0.3288254737854004\n",
      "attn13.11@5 <= attn9.1@3 <= mlp0@3: 0.30481624603271484\n",
      "attn15.13@5 <= mlp12@5 <= attn9.1@3: 0.24492216110229492\n",
      "attn17.14@4 <= mlp12@4 <= attn9.1@3: 0.20327425003051758\n",
      "mlp17@-1 <= attn13.11@5 <= attn9.1@3: 0.18024110794067383\n",
      "attn18.11@8 <= mlp12@8 <= attn9.1@3: 0.16224336624145508\n",
      "attn17.14@4 <= mlp12@4 <= attn6.6@3: 0.1566624641418457\n",
      "attn15.13@5 <= mlp12@5 <= attn6.6@3: 0.1527853012084961\n",
      "attn13.11@5 <= attn10.5@5 <= attn6.6@3: 0.15015602111816406\n",
      "mlp16@-1 <= attn13.11@5 <= attn9.1@3: 0.1443042755126953\n",
      "attn18.11@8 <= mlp12@8 <= attn6.6@3: 0.12981700897216797\n",
      "mlp17@-1 <= attn13.11@5 <= attn6.6@3: 0.12578821182250977\n",
      "attn17.14@4 <= attn15.13@3 <= mlp12@3: 0.09822702407836914\n",
      "attn13.11@5 <= attn9.1@3 <= mlp6@3: 0.09787988662719727\n",
      "attn17.14@4 <= attn9.1@3 <= mlp0@3: 0.08853960037231445\n",
      "attn13.11@5 <= attn6.6@3 <= mlp2@3: 0.08747339248657227\n",
      "attn13.11@5 <= attn9.1@3 <= mlp5@3: 0.08484411239624023\n",
      "attn13.11@5 <= attn10.5@3 <= embedding@3: 8.249282836914062e-05\n",
      "attn17.14@4 <= attn15.13@3 <= embedding@3: 2.09808349609375e-05\n",
      "mlp18@-1 <= embedding@-1: 4.76837158203125e-07\n",
      "mlp17@-1 <= embedding@-1: 4.76837158203125e-07\n",
      "mlp17@-1 <= attn13.11@5 <= embedding@5: 4.76837158203125e-07\n",
      "embedding@-1: 0.0\n",
      "attn13.11@5 <= embedding@5: 0.0\n",
      "attn17.14@4 <= embedding@4: 0.0\n",
      "mlp19@-1 <= embedding@-1: 0.0\n",
      "attn17.14@9 <= embedding@9: 0.0\n",
      "attn17.14@10 <= embedding@10: 0.0\n",
      "attn13.11@4 <= embedding@4: 0.0\n",
      "attn17.14@5 <= embedding@5: 0.0\n",
      "attn15.13@5 <= embedding@5: 0.0\n",
      "attn18.11@8 <= embedding@8: 0.0\n",
      "attn17.14@8 <= embedding@8: 0.0\n",
      "attn23.0@11 <= embedding@11: 0.0\n",
      "attn15.13@4 <= embedding@4: 0.0\n",
      "attn13.11@6 <= embedding@6: 0.0\n",
      "attn13.11@5 <= attn10.5@5 <= embedding@5: 0.0\n",
      "\n",
      "Paths of length 4:\n",
      "===================\n",
      "attn13.11@5 <= attn9.1@3 <= attn6.6@3 <= mlp1@3: 0.18532848358154297\n",
      "attn13.11@5 <= attn9.1@3 <= attn6.6@3 <= mlp0@3: 0.17064619064331055\n",
      "attn17.14@4 <= mlp12@4 <= attn6.6@3 <= mlp1@3: 0.0882258415222168\n",
      "attn17.14@4 <= mlp12@4 <= attn6.6@3 <= mlp0@3: 0.08332204818725586\n",
      "attn13.11@5 <= attn10.5@5 <= attn6.6@3 <= mlp1@3: 0.08254146575927734\n",
      "attn13.11@5 <= attn10.5@5 <= attn6.6@3 <= mlp0@3: 0.08019685745239258\n",
      "mlp17@-1 <= attn13.11@5 <= attn6.6@3 <= mlp1@3: 0.07691574096679688\n",
      "attn15.13@5 <= mlp12@5 <= attn6.6@3 <= mlp1@3: 0.0755009651184082\n",
      "attn17.14@4 <= mlp12@4 <= attn9.1@3 <= mlp1@3: 0.07542610168457031\n",
      "attn18.11@8 <= mlp12@8 <= attn6.6@3 <= mlp1@3: 0.07135772705078125\n",
      "attn15.13@5 <= mlp12@5 <= attn6.6@3 <= mlp0@3: 0.07019472122192383\n",
      "attn17.14@4 <= mlp12@4 <= attn9.1@3 <= attn6.6@3: 0.0701436996459961\n",
      "attn13.11@5 <= attn6.6@3 <= mlp2@3 <= mlp0@3: 0.06853008270263672\n",
      "attn17.14@4 <= mlp12@4 <= attn9.1@3 <= mlp0@3: 0.06675386428833008\n",
      "attn18.11@8 <= mlp12@8 <= attn6.6@3 <= mlp0@3: 0.06638813018798828\n",
      "mlp17@-1 <= attn13.11@5 <= attn6.6@3 <= mlp0@3: 0.06206703186035156\n",
      "mlp17@-1 <= attn13.11@5 <= attn9.1@3 <= mlp0@3: 0.05882453918457031\n",
      "attn15.13@5 <= mlp12@5 <= attn9.1@3 <= mlp1@3: 0.056611061096191406\n",
      "mlp17@-1 <= attn13.11@5 <= attn9.1@3 <= mlp1@3: 0.055787086486816406\n",
      "attn15.13@5 <= mlp12@5 <= attn9.1@3 <= attn6.6@3: 0.05176258087158203\n",
      "attn13.11@5 <= attn9.1@3 <= mlp6@3 <= embedding@3: 0.0047321319580078125\n",
      "attn13.11@5 <= attn6.6@3 <= mlp2@3 <= embedding@3: 0.0013599395751953125\n",
      "mlp16@-1 <= attn13.11@5 <= attn9.1@3 <= embedding@3: 0.0007224082946777344\n",
      "attn13.11@5 <= attn10.5@3 <= embedding@3: 8.249282836914062e-05\n",
      "attn18.11@8 <= mlp12@8 <= attn9.1@3 <= embedding@3: 6.818771362304688e-05\n",
      "attn17.14@4 <= mlp12@4 <= attn9.1@3 <= embedding@3: 3.6716461181640625e-05\n",
      "attn17.14@4 <= attn15.13@3 <= embedding@3: 2.09808349609375e-05\n",
      "attn15.13@5 <= mlp12@5 <= attn9.1@3 <= embedding@3: 1.6689300537109375e-05\n",
      "mlp18@-1 <= embedding@-1: 4.76837158203125e-07\n",
      "mlp17@-1 <= embedding@-1: 4.76837158203125e-07\n",
      "mlp17@-1 <= attn13.11@5 <= embedding@5: 4.76837158203125e-07\n",
      "embedding@-1: 0.0\n",
      "attn13.11@5 <= embedding@5: 0.0\n",
      "attn17.14@4 <= embedding@4: 0.0\n",
      "mlp19@-1 <= embedding@-1: 0.0\n",
      "attn17.14@9 <= embedding@9: 0.0\n",
      "attn17.14@10 <= embedding@10: 0.0\n",
      "attn13.11@4 <= embedding@4: 0.0\n",
      "attn17.14@5 <= embedding@5: 0.0\n",
      "attn15.13@5 <= embedding@5: 0.0\n",
      "\n",
      "Paths of length 5:\n",
      "===================\n",
      "attn17.14@4 <= mlp12@4 <= attn9.1@3 <= attn6.6@3 <= mlp1@3: 0.038521766662597656\n",
      "attn17.14@4 <= mlp12@4 <= attn9.1@3 <= attn6.6@3 <= mlp0@3: 0.035794734954833984\n",
      "attn15.13@5 <= mlp12@5 <= attn9.1@3 <= attn6.6@3 <= mlp1@3: 0.027740955352783203\n",
      "attn15.13@5 <= mlp12@5 <= attn9.1@3 <= attn6.6@3 <= mlp0@3: 0.025702476501464844\n",
      "attn13.11@5 <= attn9.1@3 <= attn6.6@3 <= mlp1@3 <= attn0.14@3: 0.01629781723022461\n",
      "attn13.11@5 <= attn9.1@3 <= attn6.6@3 <= mlp1@3 <= attn0.15@3: 0.013331890106201172\n",
      "attn13.11@5 <= attn9.1@3 <= attn6.6@3 <= mlp1@3 <= attn0.13@3: 0.01225900650024414\n",
      "attn13.11@5 <= attn9.1@3 <= attn6.6@3 <= mlp1@3 <= attn0.0@3: 0.011886119842529297\n",
      "attn13.11@5 <= attn9.1@3 <= attn6.6@3 <= mlp1@3 <= attn0.2@3: 0.009170055389404297\n",
      "attn17.14@4 <= mlp12@4 <= attn6.6@3 <= mlp1@3 <= attn0.14@3: 0.007791996002197266\n",
      "attn13.11@5 <= attn9.1@3 <= attn6.6@3 <= mlp1@3 <= attn0.3@3: 0.006853580474853516\n",
      "attn17.14@4 <= mlp12@4 <= attn9.1@3 <= mlp1@3 <= attn0.14@3: 0.006653308868408203\n",
      "attn18.11@8 <= mlp12@8 <= attn6.6@3 <= mlp1@3 <= attn0.14@3: 0.006648540496826172\n",
      "attn13.11@5 <= attn10.5@5 <= attn6.6@3 <= mlp1@3 <= attn0.14@3: 0.006526470184326172\n",
      "attn17.14@4 <= mlp12@4 <= attn6.6@3 <= mlp1@3 <= attn0.15@3: 0.006291866302490234\n",
      "attn13.11@5 <= attn9.1@3 <= attn6.6@3 <= mlp1@3 <= attn0.6@3: 0.006194591522216797\n",
      "attn15.13@5 <= mlp12@5 <= attn6.6@3 <= mlp1@3 <= attn0.14@3: 0.006148815155029297\n",
      "attn17.14@4 <= mlp12@4 <= attn6.6@3 <= mlp1@3 <= attn0.13@3: 0.006104946136474609\n",
      "attn13.11@5 <= attn9.1@3 <= attn6.6@3 <= mlp1@3 <= attn0.11@3: 0.005971431732177734\n",
      "attn17.14@4 <= mlp12@4 <= attn9.1@3 <= attn6.6@3 <= mlp2@3: 0.0058746337890625\n",
      "attn13.11@5 <= attn9.1@3 <= mlp6@3 <= embedding@3: 0.0047321319580078125\n",
      "attn13.11@5 <= attn6.6@3 <= mlp2@3 <= embedding@3: 0.0013599395751953125\n",
      "mlp16@-1 <= attn13.11@5 <= attn9.1@3 <= embedding@3: 0.0007224082946777344\n",
      "attn13.11@5 <= attn10.5@3 <= embedding@3: 8.249282836914062e-05\n",
      "attn18.11@8 <= mlp12@8 <= attn9.1@3 <= embedding@3: 6.818771362304688e-05\n",
      "attn17.14@4 <= mlp12@4 <= attn9.1@3 <= embedding@3: 3.6716461181640625e-05\n",
      "attn17.14@4 <= attn15.13@3 <= embedding@3: 2.09808349609375e-05\n",
      "attn15.13@5 <= mlp12@5 <= attn9.1@3 <= embedding@3: 1.6689300537109375e-05\n",
      "attn13.11@5 <= attn6.6@3 <= mlp2@3 <= mlp0@3 <= embedding@3: 1.1920928955078125e-05\n",
      "mlp18@-1 <= embedding@-1: 4.76837158203125e-07\n",
      "mlp17@-1 <= embedding@-1: 4.76837158203125e-07\n",
      "mlp17@-1 <= attn13.11@5 <= embedding@5: 4.76837158203125e-07\n",
      "embedding@-1: 0.0\n",
      "attn13.11@5 <= embedding@5: 0.0\n",
      "attn17.14@4 <= embedding@4: 0.0\n",
      "mlp19@-1 <= embedding@-1: 0.0\n",
      "attn17.14@9 <= embedding@9: 0.0\n",
      "attn17.14@10 <= embedding@10: 0.0\n",
      "attn13.11@4 <= embedding@4: 0.0\n",
      "attn17.14@5 <= embedding@5: 0.0\n",
      "\n"
     ]
    }
   ],
   "source": [
    "_ = patch_get_max_paths(model, cur_subj_embeddings_female, cur_subj_embeddings_male, subj_ln_f_normal, 5, 20)"
   ]
  },
  {
   "cell_type": "markdown",
   "id": "7fa91749-09b0-42ee-931b-f4031a11b1fb",
   "metadata": {},
   "source": [
    "## Finding feature vectors"
   ]
  },
  {
   "cell_type": "code",
   "execution_count": 74,
   "id": "2042893d-2447-450b-97af-4f707f0ab901",
   "metadata": {},
   "outputs": [],
   "source": [
    "occu_mlp1_normal = get_normal_for_path(model, cur_occu_embeddings_female, cur_occu_embeddings_male, occu_ln_f_normal,\n",
    "    [\n",
    "        {'layer': 19, 'sublayer': 'mlp', 'token': -1, 'head': -1},\n",
    "        {'layer': 16, 'sublayer': 'mlp', 'token': -1, 'head': -1},\n",
    "        {'layer': 15, 'sublayer': 'attn', 'token': 3, 'head': 13},\n",
    "        {'layer': 12, 'sublayer': 'mlp', 'token': 3, 'head': -1},\n",
    "        {'layer': 9, 'sublayer': 'attn', 'token': 3, 'head': 1},\n",
    "        {'layer': 6, 'sublayer': 'attn', 'token': 3, 'head': 6},\n",
    "        {'layer': 1, 'sublayer': 'mlp', 'token': 3, 'head': -1}\n",
    "    ], use_ln=False, normalize=True\n",
    ")\n",
    "\n",
    "occu_mlp1_attn0_normal = get_normal_for_path(model, cur_occu_embeddings_female, cur_occu_embeddings_male, occu_ln_f_normal,\n",
    "    [\n",
    "        {'layer': 19, 'sublayer': 'mlp', 'token': -1, 'head': -1},\n",
    "        {'layer': 16, 'sublayer': 'mlp', 'token': -1, 'head': -1},\n",
    "        {'layer': 15, 'sublayer': 'attn', 'token': 3, 'head': 13},\n",
    "        {'layer': 12, 'sublayer': 'mlp', 'token': 3, 'head': -1},\n",
    "        {'layer': 9, 'sublayer': 'attn', 'token': 3, 'head': 1},\n",
    "        {'layer': 6, 'sublayer': 'attn', 'token': 3, 'head': 6},\n",
    "        {'layer': 1, 'sublayer': 'mlp', 'token': 3, 'head': -1},\n",
    "        {'layer': 0, 'sublayer': 'attn', 'token': 3, 'head': -1},\n",
    "    ], use_ln=False, normalize=True\n",
    ")\n",
    "\n",
    "occu_attn6_normal = get_normal_for_path(model, cur_occu_embeddings_female, cur_occu_embeddings_male, occu_ln_f_normal,\n",
    "    [\n",
    "        {'layer': 19, 'sublayer': 'mlp', 'token': -1, 'head': -1},\n",
    "        {'layer': 16, 'sublayer': 'mlp', 'token': -1, 'head': -1},\n",
    "        {'layer': 15, 'sublayer': 'attn', 'token': 3, 'head': 13},\n",
    "        {'layer': 12, 'sublayer': 'mlp', 'token': 3, 'head': -1},\n",
    "        {'layer': 9, 'sublayer': 'attn', 'token': 3, 'head': 1},\n",
    "        {'layer': 6, 'sublayer': 'attn', 'token': 3, 'head': 6},\n",
    "    ], use_ln=False, normalize=True\n",
    ")"
   ]
  },
  {
   "cell_type": "code",
   "execution_count": 75,
   "id": "dabb78cd-f83f-4053-9078-194e73791e6d",
   "metadata": {},
   "outputs": [],
   "source": [
    "subj_mlp1_normal = get_normal_for_path(model, cur_subj_embeddings_female, cur_subj_embeddings_male, subj_ln_f_normal,\n",
    "    [\n",
    "        {'layer': 13, 'sublayer': 'attn', 'token': 3, 'head': 11},\n",
    "        {'layer': 9, 'sublayer': 'attn', 'token': 3, 'head': 1},\n",
    "        {'layer': 6, 'sublayer': 'attn', 'token': 3, 'head': 6},\n",
    "        {'layer': 1, 'sublayer': 'mlp', 'token': 3, 'head': -1}\n",
    "    ], use_ln=False, normalize=True\n",
    ")\n",
    "\n",
    "subj_mlp1_attn0_normal = get_normal_for_path(model, cur_subj_embeddings_female, cur_subj_embeddings_male, subj_ln_f_normal,\n",
    "    [\n",
    "        {'layer': 13, 'sublayer': 'attn', 'token': 3, 'head': 11},\n",
    "        {'layer': 9, 'sublayer': 'attn', 'token': 3, 'head': 1},\n",
    "        {'layer': 6, 'sublayer': 'attn', 'token': 3, 'head': 6},\n",
    "        {'layer': 1, 'sublayer': 'mlp', 'token': 3, 'head': -1},\n",
    "        {'layer': 0, 'sublayer': 'attn', 'token': 3, 'head': -1}\n",
    "    ], use_ln=False, normalize=True\n",
    ")\n",
    "\n",
    "subj_attn6_normal = get_normal_for_path(model, cur_subj_embeddings_female, cur_subj_embeddings_male, subj_ln_f_normal,\n",
    "    [\n",
    "        {'layer': 13, 'sublayer': 'attn', 'token': 3, 'head': 11},\n",
    "        {'layer': 9, 'sublayer': 'attn', 'token': 3, 'head': 1},\n",
    "        {'layer': 6, 'sublayer': 'attn', 'token': 3, 'head': 6},\n",
    "    ], use_ln=False, normalize=True\n",
    ")"
   ]
  },
  {
   "cell_type": "code",
   "execution_count": 83,
   "id": "f05c7cd6-99fe-4aed-aebd-5f16825e133b",
   "metadata": {},
   "outputs": [],
   "source": [
    "subj_attn6_normal_with_mag = get_normal_for_path(model, cur_subj_embeddings_female, cur_subj_embeddings_male, subj_ln_f_normal,\n",
    "    [\n",
    "        {'layer': 13, 'sublayer': 'attn', 'token': 3, 'head': 11},\n",
    "        {'layer': 9, 'sublayer': 'attn', 'token': 3, 'head': 1},\n",
    "        {'layer': 6, 'sublayer': 'attn', 'token': 3, 'head': 6},\n",
    "    ], use_ln=True\n",
    ")\n",
    "\n",
    "obj_attn6_normal_with_mag = get_normal_for_path(model, cur_obj_embeddings_female, cur_obj_embeddings_male, obj_ln_f_normal,\n",
    "    [\n",
    "        {'layer': 13, 'sublayer': 'attn', 'token': 6, 'head': 11},\n",
    "        {'layer': 6, 'sublayer': 'attn', 'token': 6, 'head': 6},\n",
    "    ], use_ln=True,\n",
    ")"
   ]
  },
  {
   "cell_type": "code",
   "execution_count": 85,
   "id": "7ea54719-a232-4efe-8392-2aa06b5ee6fd",
   "metadata": {},
   "outputs": [
    {
     "data": {
      "text/plain": [
       "0.9520992040634155"
      ]
     },
     "execution_count": 85,
     "metadata": {},
     "output_type": "execute_result"
    }
   ],
   "source": [
    "cossim(subj_attn6_normal_with_mag, obj_attn6_normal_with_mag).item()"
   ]
  },
  {
   "cell_type": "code",
   "execution_count": 114,
   "id": "768bded7-0963-4b8c-8a4a-b5b3c58be1a1",
   "metadata": {},
   "outputs": [
    {
     "data": {
      "text/plain": [
       "(tensor(0.9771, device='cuda:0'),\n",
       " tensor(0.9750, device='cuda:0'),\n",
       " tensor(0.9663, device='cuda:0'))"
      ]
     },
     "execution_count": 114,
     "metadata": {},
     "output_type": "execute_result"
    }
   ],
   "source": [
    "cossim(subj_mlp1_normal, occu_mlp1_normal),\\\n",
    "cossim(subj_mlp1_attn0_normal, occu_mlp1_attn0_normal),\\\n",
    "cossim(subj_attn6_normal, occu_attn6_normal)"
   ]
  },
  {
   "cell_type": "markdown",
   "id": "ca23531d-7567-43e2-9aba-e812417d86a0",
   "metadata": {},
   "source": [
    "# Get observable scores and feature scores"
   ]
  },
  {
   "cell_type": "markdown",
   "id": "c8a02e69-2b70-4236-81cd-5be532978301",
   "metadata": {},
   "source": [
    "## Occupations"
   ]
  },
  {
   "cell_type": "code",
   "execution_count": 79,
   "id": "8e1509e5-aa28-48df-bf01-c63cc5c2b484",
   "metadata": {},
   "outputs": [],
   "source": [
    "occu_observable = make_lm_head_normal([' nurse', ' teacher', ' secretary'], [' programmer', ' doctor', ' engineer'])"
   ]
  },
  {
   "cell_type": "code",
   "execution_count": 72,
   "id": "a382a620-9b82-4990-a634-9fd45f68d049",
   "metadata": {},
   "outputs": [
    {
     "name": "stderr",
     "output_type": "stream",
     "text": [
      "300it [03:54,  1.28it/s]\n",
      "300it [03:54,  1.28it/s]\n"
     ]
    }
   ],
   "source": [
    "occu_scores_male = get_normal_list_scores_for_prompt_list(model,[\n",
    "    {'normal': occu_mlp1_normal.detach().cpu().numpy(), 'layer': 1, 'sublayer': 'ln_2_in', 'token': 3, 'name': 'occu_mlp1_normal'},\n",
    "    {'normal': occu_attn6_normal.detach().cpu().numpy(), 'layer': 6, 'sublayer': 'ln_1_in', 'token': 3, 'name': 'occu_attn6_normal'},\n",
    "    {'normal': occu_observable.detach().cpu().numpy(), 'layer': None, 'sublayer': 'lm_out', 'token': -1, 'name': 'occu_observable'},\n",
    "], occu_prompts_male)\n",
    "\n",
    "occu_scores_female = get_normal_list_scores_for_prompt_list(model,[\n",
    "    {'normal': occu_mlp1_normal.detach().cpu().numpy(), 'layer': 1, 'sublayer': 'ln_2_in', 'token': 3, 'name': 'occu_mlp1_normal'},\n",
    "    {'normal': occu_attn6_normal.detach().cpu().numpy(), 'layer': 6, 'sublayer': 'ln_1_in', 'token': 3, 'name': 'occu_attn6_normal'},\n",
    "    {'normal': occu_observable.detach().cpu().numpy(), 'layer': None, 'sublayer': 'lm_out', 'token': -1, 'name': 'occu_observable'},\n",
    "], occu_prompts_female)"
   ]
  },
  {
   "cell_type": "markdown",
   "id": "90ce07ba-5c5c-44ed-b600-329e4b534131",
   "metadata": {},
   "source": [
    "## Pronouns"
   ]
  },
  {
   "cell_type": "code",
   "execution_count": 78,
   "id": "d60b17ae-8650-4398-949e-808a80f7d9ca",
   "metadata": {},
   "outputs": [],
   "source": [
    "subj_observable = make_lm_head_normal([' she'], [' he'])"
   ]
  },
  {
   "cell_type": "code",
   "execution_count": 74,
   "id": "7f17125f-a7e6-4a4f-8091-1bf8d7223352",
   "metadata": {},
   "outputs": [
    {
     "name": "stderr",
     "output_type": "stream",
     "text": [
      "300it [03:55,  1.28it/s]\n",
      "300it [03:55,  1.28it/s]\n"
     ]
    }
   ],
   "source": [
    "subj_scores_male = get_normal_list_scores_for_prompt_list(model,[\n",
    "    {'normal': subj_mlp1_normal.detach().cpu().numpy(), 'layer': 1, 'sublayer': 'ln_2_in', 'token': 3, 'name': 'subj_mlp1_normal'},\n",
    "    {'normal': subj_attn6_normal.detach().cpu().numpy(), 'layer': 6, 'sublayer': 'ln_1_in', 'token': 3, 'name': 'subj_attn6_normal'},\n",
    "    {'normal': subj_observable.detach().cpu().numpy(), 'layer': None, 'sublayer': 'lm_out', 'token': -1, 'name': 'subj_observable'},\n",
    "], subj_prompts_male)\n",
    "\n",
    "subj_scores_female = get_normal_list_scores_for_prompt_list(model,[\n",
    "    {'normal': subj_mlp1_normal.detach().cpu().numpy(), 'layer': 1, 'sublayer': 'ln_2_in', 'token': 3, 'name': 'subj_mlp1_normal'},\n",
    "    {'normal': subj_attn6_normal.detach().cpu().numpy(), 'layer': 6, 'sublayer': 'ln_1_in', 'token': 3, 'name': 'subj_attn6_normal'},\n",
    "    {'normal': subj_observable.detach().cpu().numpy(), 'layer': None, 'sublayer': 'lm_out', 'token': -1, 'name': 'subj_observable'},\n",
    "], subj_prompts_female)"
   ]
  },
  {
   "cell_type": "markdown",
   "id": "8a1cb9bc-1f90-4616-bcc4-20d58ce793b5",
   "metadata": {},
   "source": [
    "## Evaluation"
   ]
  },
  {
   "cell_type": "code",
   "execution_count": 75,
   "id": "d7750436-3c4e-43c7-ad5a-549b90f7a7a0",
   "metadata": {},
   "outputs": [],
   "source": [
    "import pickle\n",
    "pickle.dump({\n",
    "    'occu_scores_male': occu_scores_male,\n",
    "    'occu_scores_female': occu_scores_female,\n",
    "    'subj_scores_male': subj_scores_male,\n",
    "    'subj_scores_female': subj_scores_female,\n",
    "}, open(\"normal_scores_new.pkl\", \"wb\"))"
   ]
  },
  {
   "cell_type": "code",
   "execution_count": 99,
   "id": "f087b22a-6adb-4583-a862-94b5ab51978e",
   "metadata": {},
   "outputs": [],
   "source": [
    "import pickle\n",
    "my_scores = pickle.load(open(\"normal_scores_new.pkl\", \"rb\"))\n",
    "occu_scores_male = my_scores['occu_scores_male']\n",
    "occu_scores_female = my_scores['occu_scores_female']\n",
    "subj_scores_male = my_scores['subj_scores_male']\n",
    "subj_scores_female = my_scores['subj_scores_female']"
   ]
  },
  {
   "cell_type": "code",
   "execution_count": 100,
   "id": "c8eaba2a-78b4-4799-aa2d-58655984bc7b",
   "metadata": {},
   "outputs": [],
   "source": [
    "import matplotlib.pyplot as plt\n",
    "import numpy as np"
   ]
  },
  {
   "cell_type": "code",
   "execution_count": 101,
   "id": "84f803a5-fce9-4e8c-840d-4aa82b6f7d3c",
   "metadata": {},
   "outputs": [
    {
     "data": {
      "text/plain": [
       "(Polynomial([0.01955477, 0.50863145], domain=[-1.,  1.], window=[-1.,  1.], symbol='x'),\n",
       " array([0.8816692], dtype=float32))"
      ]
     },
     "execution_count": 101,
     "metadata": {},
     "output_type": "execute_result"
    }
   ],
   "source": [
    "xs = occu_scores_male[1]['scores'] + occu_scores_female[1]['scores']\n",
    "ys = occu_scores_male[2]['scores'] + occu_scores_female[2]['scores']\n",
    "\n",
    "fit, fit_info = np.polynomial.Polynomial.fit(xs, ys, 1, full=True)\n",
    "fit = fit.convert()\n",
    "r2 = 1 - fit_info[0] / (len(ys) * np.array(ys).var())\n",
    "fit, r2"
   ]
  },
  {
   "cell_type": "code",
   "execution_count": 105,
   "id": "464a60e9-ce76-45af-9441-b0f464d5d1d5",
   "metadata": {},
   "outputs": [
    {
     "data": {
      "text/plain": [
       "<matplotlib.legend.Legend at 0x152d2d004dc0>"
      ]
     },
     "execution_count": 105,
     "metadata": {},
     "output_type": "execute_result"
    },
    {
     "data": {
      "image/png": "[encoded data removed]",
      "text/plain": [
       "<Figure size 640x480 with 1 Axes>"
      ]
     },
     "metadata": {},
     "output_type": "display_data"
    }
   ],
   "source": [
    "xs = occu_scores_male[1]['scores'] + occu_scores_female[1]['scores']\n",
    "ys = occu_scores_male[2]['scores'] + occu_scores_female[2]['scores']\n",
    "\n",
    "fit, fit_info = np.polynomial.Polynomial.fit(xs, ys, 1, full=True)\n",
    "fit = fit.convert()\n",
    "r2 = 1 - fit_info[0] / (len(ys) * np.array(ys).var())\n",
    "fit, r2\n",
    "\n",
    "fig, ax = plt.subplots()\n",
    "\n",
    "ax.scatter(occu_scores_male[1]['scores'][:100], occu_scores_male[-1]['scores'][:100])\n",
    "ax.scatter(occu_scores_female[1]['scores'][:100], occu_scores_female[-1]['scores'][:100])\n",
    "\n",
    "ax.scatter(occu_scores_male[1]['scores'][100:200], occu_scores_male[-1]['scores'][100:200])\n",
    "ax.scatter(occu_scores_female[1]['scores'][100:200], occu_scores_female[-1]['scores'][100:200])\n",
    "\n",
    "ax.scatter(occu_scores_male[1]['scores'][200:300], occu_scores_male[-1]['scores'][200:300])\n",
    "ax.scatter(occu_scores_female[1]['scores'][200:300], occu_scores_female[-1]['scores'][200:300])\n",
    "\n",
    "\n",
    "xmin, xmax = ax.get_xlim()\n",
    "ax.plot([xmin, xmax], fit.coef[0] + np.array([xmin, xmax])*fit.coef[1], label=f'Best fit $r^2 = {r2[0]:.3f}$')\n",
    "plt.xlabel(\"Normalized 6::6 feature vector score\", fontsize=12)\n",
    "plt.ylabel(\"Language model output score for $n_{bias}$\", fontsize=12)\n",
    "plt.title(\"$n_{bias}$ score versus 6::6 feature vector score\", fontsize=15)\n",
    "plt.legend()"
   ]
  },
  {
   "cell_type": "code",
   "execution_count": 106,
   "id": "a55dce82-6ab1-4ef0-ad09-79d52fcef130",
   "metadata": {},
   "outputs": [
    {
     "data": {
      "text/plain": [
       "<matplotlib.legend.Legend at 0x152d2cf4cf10>"
      ]
     },
     "execution_count": 106,
     "metadata": {},
     "output_type": "execute_result"
    },
    {
     "data": {
      "image/png": "[encoded data removed]",
      "text/plain": [
       "<Figure size 640x480 with 1 Axes>"
      ]
     },
     "metadata": {},
     "output_type": "display_data"
    }
   ],
   "source": [
    "xs = subj_scores_male[1]['scores'] + subj_scores_female[1]['scores']\n",
    "ys = subj_scores_male[-1]['scores'] + subj_scores_female[-1]['scores']\n",
    "\n",
    "fit, fit_info = np.polynomial.Polynomial.fit(xs, ys, 1, full=True)\n",
    "fit = fit.convert()\n",
    "r2 = 1 - fit_info[0] / (len(ys) * np.array(ys).var())\n",
    "fit, r2\n",
    "\n",
    "fig, ax = plt.subplots()\n",
    "\n",
    "ax.scatter(subj_scores_male[1]['scores'][:100], subj_scores_male[-1]['scores'][:100])\n",
    "ax.scatter(subj_scores_female[1]['scores'][:100], subj_scores_female[-1]['scores'][:100])\n",
    "\n",
    "ax.scatter(subj_scores_male[1]['scores'][100:200], subj_scores_male[-1]['scores'][100:200])\n",
    "ax.scatter(subj_scores_female[1]['scores'][100:200], subj_scores_female[-1]['scores'][100:200])\n",
    "\n",
    "ax.scatter(subj_scores_male[1]['scores'][200:300], subj_scores_male[-1]['scores'][200:300])\n",
    "ax.scatter(subj_scores_female[1]['scores'][200:300], subj_scores_female[-1]['scores'][200:300])\n",
    "\n",
    "\n",
    "xmin, xmax = ax.get_xlim()\n",
    "ax.plot([xmin, xmax], fit.coef[0] + np.array([xmin, xmax])*fit.coef[1], label=f'Best fit $r^2 = {r2[0]:.3f}$')\n",
    "plt.xlabel(\"Normalized 6::6 feature vector score\", fontsize=12)\n",
    "plt.ylabel(\"Language model output score for $n_{subj}$\", fontsize=12)\n",
    "plt.title(\"$n_{subj}$ score versus 6::6 feature vector score\", fontsize=15)\n",
    "plt.legend()"
   ]
  },
  {
   "cell_type": "markdown",
   "id": "6a222641-4d15-4f4b-b404-95a89df8760a",
   "metadata": {},
   "source": [
    "# Top activating examples"
   ]
  },
  {
   "cell_type": "code",
   "execution_count": 106,
   "id": "6831a05a-9b49-401d-a494-351a4a6f4500",
   "metadata": {},
   "outputs": [],
   "source": [
    "def decode_prompt_and_tokens(prompts, prompt, mid_token, window_size=5):\n",
    "    print(tokenizer.batch_decode(prompts[prompt]['input_ids'][:,max(0,mid_token-window_size):mid_token+window_size]))\n",
    "    print(tokenizer.batch_decode(prompts[prompt]['input_ids'][:,mid_token]))"
   ]
  },
  {
   "cell_type": "markdown",
   "id": "456c2506-10f4-49ad-810f-9193de420916",
   "metadata": {},
   "source": [
    "## Get scores on pile-10k"
   ]
  },
  {
   "cell_type": "code",
   "execution_count": 47,
   "id": "375173a6-0ce2-4941-b1fb-8ed99cf7aebf",
   "metadata": {},
   "outputs": [
    {
     "name": "stderr",
     "output_type": "stream",
     "text": [
      "Found cached dataset parquet (/home/jhd43/.cache/huggingface/datasets/NeelNanda___parquet/NeelNanda--pile-10k-72f566e9f7c464ab/0.0.0/2a3b91fbd88a2c90d1dbbb32b460cf621d31bd5b05b934492fdef7d8d6f236ec)\n"
     ]
    },
    {
     "data": {
      "application/vnd.jupyter.widget-view+json": {
       "model_id": "2d34e8fc3ad447409f102765ace25860",
       "version_major": 2,
       "version_minor": 0
      },
      "text/plain": [
       "  0%|          | 0/1 [00:00<?, ?it/s]"
      ]
     },
     "metadata": {},
     "output_type": "display_data"
    }
   ],
   "source": [
    "from datasets import load_dataset\n",
    "pile10k = load_dataset(\"NeelNanda/pile-10k\")"
   ]
  },
  {
   "cell_type": "code",
   "execution_count": 48,
   "id": "35a230a7-191e-4679-ac93-001a644f0a2b",
   "metadata": {},
   "outputs": [
    {
     "name": "stderr",
     "output_type": "stream",
     "text": [
      "Token indices sequence length is longer than the specified maximum sequence length for this model (3180 > 2048). Running this sequence through the model will result in indexing errors\n"
     ]
    }
   ],
   "source": [
    "tokenized_prompts = []\n",
    "for prompt in pile10k['train']['text']:\n",
    "    tokenized_prompts.append(tokenizer(prompt, return_tensors=\"pt\"))\n",
    "tokenized_prompts = slice_tokenized_prompts_into_context_windows(tokenized_prompts, 128, max_tokens=1000000)"
   ]
  },
  {
   "cell_type": "code",
   "execution_count": 90,
   "id": "56d12e88-b0bb-4627-a650-94a09e31eaa7",
   "metadata": {},
   "outputs": [
    {
     "data": {
      "text/plain": [
       "7860"
      ]
     },
     "execution_count": 90,
     "metadata": {},
     "output_type": "execute_result"
    }
   ],
   "source": [
    "len(tokenized_prompts)"
   ]
  },
  {
   "cell_type": "code",
   "execution_count": 49,
   "id": "76066b16-ef89-4ac8-9c5a-e5e2d3527800",
   "metadata": {},
   "outputs": [
    {
     "name": "stderr",
     "output_type": "stream",
     "text": [
      "/gpfs/gibbs/project/cohan/jhd43/conda_envs/nlp_env/lib/python3.9/site-packages/torch/distributed/distributed_c10d.py:293: UserWarning: torch.distributed.reduce_op is deprecated, please use torch.distributed.ReduceOp instead\n",
      "  warnings.warn(\n"
     ]
    },
    {
     "data": {
      "text/plain": [
       "0"
      ]
     },
     "execution_count": 49,
     "metadata": {},
     "output_type": "execute_result"
    }
   ],
   "source": [
    "get_num_tensors()\n",
    "do_free()\n",
    "get_num_tensors()"
   ]
  },
  {
   "cell_type": "code",
   "execution_count": 78,
   "id": "3e74b41b-5191-43bb-8f6a-fe8ac87d562b",
   "metadata": {},
   "outputs": [],
   "source": [
    "subj_attn17_normal_with_mag = get_normal_for_path(model, cur_subj_embeddings_female, cur_subj_embeddings_male, subj_ln_f_normal,\n",
    "    [\n",
    "        {'layer': 17, 'sublayer': 'attn', 'token': 3, 'head': 14},\n",
    "    ], use_ln=True\n",
    ")\n",
    "obj_attn17_normal_with_mag = get_normal_for_path(model, cur_obj_embeddings_female, cur_obj_embeddings_male, obj_ln_f_normal,\n",
    "    [\n",
    "        {'layer': 17, 'sublayer': 'attn', 'token': 6, 'head': 14},\n",
    "    ], use_ln=True\n",
    ")\n",
    "\n",
    "subj_attn15_normal_with_mag = get_normal_for_path(model, cur_subj_embeddings_female, cur_subj_embeddings_male, subj_ln_f_normal,\n",
    "    [\n",
    "        {'layer': 15, 'sublayer': 'attn', 'token': 3, 'head': 13},\n",
    "    ], use_ln=True\n",
    ")\n",
    "obj_attn15_normal_with_mag = get_normal_for_path(model, cur_obj_embeddings_female, cur_obj_embeddings_male, obj_ln_f_normal,\n",
    "    [\n",
    "        {'layer': 15, 'sublayer': 'attn', 'token': 6, 'head': 13},\n",
    "    ], use_ln=True\n",
    ")\n",
    "\n",
    "subj_attn13_normal_with_mag = get_normal_for_path(model, cur_subj_embeddings_female, cur_subj_embeddings_male, subj_ln_f_normal,\n",
    "    [\n",
    "        {'layer': 13, 'sublayer': 'attn', 'token': 3, 'head': 11},\n",
    "    ], use_ln=True\n",
    ")\n",
    "obj_attn13_normal_with_mag = get_normal_for_path(model, cur_obj_embeddings_female, cur_obj_embeddings_male, obj_ln_f_normal,\n",
    "    [\n",
    "        {'layer': 13, 'sublayer': 'attn', 'token': 6, 'head': 11},\n",
    "    ], use_ln=True\n",
    ")"
   ]
  },
  {
   "cell_type": "code",
   "execution_count": 81,
   "id": "0e0ef724-9dd1-47ef-aa18-f8ab889d19c0",
   "metadata": {},
   "outputs": [
    {
     "data": {
      "text/plain": [
       "(0.7122678160667419, 0.8010773062705994, 0.7477921843528748)"
      ]
     },
     "execution_count": 81,
     "metadata": {},
     "output_type": "execute_result"
    }
   ],
   "source": [
    "coupling_coeff(subj_attn17_normal_with_mag, obj_attn17_normal_with_mag).item(),\\\n",
    "coupling_coeff(subj_attn15_normal_with_mag, obj_attn15_normal_with_mag).item(),\\\n",
    "coupling_coeff(subj_attn13_normal_with_mag, obj_attn13_normal_with_mag).item()"
   ]
  },
  {
   "cell_type": "code",
   "execution_count": 82,
   "id": "d9c147a6-dcd8-44fe-9564-817428846afb",
   "metadata": {},
   "outputs": [
    {
     "data": {
      "text/plain": [
       "(0.988246738910675, 0.981793224811554, 0.9359292387962341)"
      ]
     },
     "execution_count": 82,
     "metadata": {},
     "output_type": "execute_result"
    }
   ],
   "source": [
    "cossim(subj_attn17_normal_with_mag, obj_attn17_normal_with_mag).item(),\\\n",
    "cossim(subj_attn15_normal_with_mag, obj_attn15_normal_with_mag).item(),\\\n",
    "cossim(subj_attn13_normal_with_mag, obj_attn13_normal_with_mag).item()"
   ]
  },
  {
   "cell_type": "code",
   "execution_count": 117,
   "id": "fa4a8042-18a2-402d-9935-130439cb9480",
   "metadata": {},
   "outputs": [
    {
     "name": "stderr",
     "output_type": "stream",
     "text": [
      "7860it [3:07:12,  1.43s/it]\n"
     ]
    }
   ],
   "source": [
    "pile_scores = get_normal_list_scores_for_prompt_list(model,[\n",
    "    {'normal': occu_mlp1_normal.detach().cpu().numpy(), 'layer': 1, 'sublayer': 'ln_2_in', 'token': None, 'name': 'occu_mlp1_normal'},\n",
    "    {'normal': occu_attn6_normal.detach().cpu().numpy(), 'layer': 6, 'sublayer': 'ln_1_in', 'token': None, 'name': 'occu_attn6_normal'},\n",
    "    {'normal': subj_mlp1_normal.detach().cpu().numpy(), 'layer': 1, 'sublayer': 'ln_2_in', 'token': None, 'name': 'subj_mlp1_normal'},\n",
    "    {'normal': subj_attn6_normal.detach().cpu().numpy(), 'layer': 6, 'sublayer': 'ln_1_in', 'token': None, 'name': 'subj_attn6_normal'},\n",
    "    {'normal': obj_attn6_normal_with_mag.detach().cpu().numpy(), 'layer': 6, 'sublayer': 'ln_1_in', 'token': None, 'name': 'obj_attn6_normal_with_mag'},\n",
    "    {'normal': subj_attn17_normal_with_mag.detach().cpu().numpy(), 'layer': 6, 'sublayer': 'ln_1_in', 'token': None, 'name': 'subj_attn17_normal_with_mag'},\n",
    "    {'normal': obj_attn17_normal_with_mag.detach().cpu().numpy(), 'layer': 6, 'sublayer': 'ln_1_in', 'token': None, 'name': 'obj_attn17_normal_with_mag'},\n",
    "    {'normal': subj_attn15_normal_with_mag.detach().cpu().numpy(), 'layer': 6, 'sublayer': 'ln_1_in', 'token': None, 'name': 'subj_attn15_normal_with_mag'},\n",
    "    {'normal': obj_attn15_normal_with_mag.detach().cpu().numpy(), 'layer': 6, 'sublayer': 'ln_1_in', 'token': None, 'name': 'obj_attn15_normal_with_mag'},\n",
    "    {'normal': subj_attn13_normal_with_mag.detach().cpu().numpy(), 'layer': 6, 'sublayer': 'ln_1_in', 'token': None, 'name': 'subj_attn13_normal_with_mag'},\n",
    "    {'normal': obj_attn13_normal_with_mag.detach().cpu().numpy(), 'layer': 6, 'sublayer': 'ln_1_in', 'token': None, 'name': 'obj_attn13_normal_with_mag'},\n",
    "], tokenized_prompts, pre_tokenized=True, save_every=10, save_out=\"scores_on_pile.pkl\")"
   ]
  },
  {
   "cell_type": "code",
   "execution_count": 118,
   "id": "b01ea97d-f2d5-4263-a6a0-5e0de96d18bd",
   "metadata": {},
   "outputs": [],
   "source": [
    "pickle.dump(pile_scores, open(\"pile_scores_full.pkl\", \"wb\"))"
   ]
  },
  {
   "cell_type": "markdown",
   "id": "e4ee402d-e68e-4889-be48-f9ff7106f632",
   "metadata": {},
   "source": [
    "## `occu_mlp1_normal`"
   ]
  },
  {
   "cell_type": "code",
   "execution_count": 78,
   "id": "346bd0ba-6c08-41c4-9838-67ef725053bb",
   "metadata": {},
   "outputs": [
    {
     "name": "stderr",
     "output_type": "stream",
     "text": [
      "100%|██████████| 298/298 [03:25<00:00,  1.45it/s]\n"
     ]
    }
   ],
   "source": [
    "occu_mlp1_top_scores = get_top_normal_scores_for_prompt_list(model, 1, 'ln_2_in', tokenized_prompts, occu_mlp1_normal, k=20, pre_tokenized=True)"
   ]
  },
  {
   "cell_type": "code",
   "execution_count": 79,
   "id": "b7b8e338-54de-42b7-9be4-639f9a5c5ad9",
   "metadata": {
    "scrolled": true
   },
   "outputs": [
    {
     "name": "stdout",
     "output_type": "stream",
     "text": [
      "[' across the globe with WebEx Meetings. In this course, author and webinar specialist Sally Norred shows you how to use WebEx Meetings to host, run, and']\n",
      "[' Sally']\n",
      "Score: 12.807328224182129\n",
      "\n",
      "[\"\\nHello! It's nice to meet you! I'm Mary. Thank you for stopping by Stirring Up Delight. I hope you'll find\"]\n",
      "[' Mary']\n",
      "Score: 12.135202407836914\n",
      "\n",
      "[' phosphate (Pi) uptake across the vacuolar membrane of intact vacuoles isolated from Catharanthus roseus suspension-cultured cells was measured. Under low Pi status,']\n",
      "[' Cath']\n",
      "Score: 12.103666305541992\n",
      "\n",
      "['Inorganic phosphate uptake in intact vacuoles isolated from suspension-cultured cells of Catharanthus roseus (L.) G. Don under varying Pi status.\\nIn']\n",
      "[' Cath']\n",
      "Score: 11.904487609863281\n",
      "\n",
      "[' theme. But how to make it work? Are you the borg, or fighting the Borg?\\n\\nThe third and final idea came to me through my girlfriend']\n",
      "[' Borg']\n",
      "Score: 11.679457664489746\n",
      "\n",
      "[' especially when the food is good. Good food tastes even better when enjoyed with people. Tonight Amy came over to try my second attempt at the Brussels Sprouts Veggie Soup to which']\n",
      "[' Amy']\n",
      "Score: 11.103818893432617\n",
      "\n",
      "[' Hódmezővásárhely – Doubles\\n\\nLaura Pigossi and Nadia Podoroska were the defending champions, but both players']\n",
      "['Laura']\n",
      "Score: 10.972723007202148\n",
      "\n",
      "[' and unfortunately now something really bad happened, and that’s scary,” said Francesco Fabba, who has lived on the block since 2009.\\n\\nHe pointed']\n",
      "[' Frances']\n",
      "Score: 10.936155319213867\n",
      "\n",
      "[' paid time off work during menstruation\\n• (often from male workers, who viewed the employment of women as competition']\n",
      "[' menstru']\n",
      "Score: 10.315485000610352\n",
      "\n",
      "[' will add 4,000 square feet to its current space. View Full Caption DNAinfo/Katie Honan\\n\\nJACKSON HEIGHTS — Indian grocery store Patel Brothers is']\n",
      "['Kat']\n",
      "Score: 10.14991569519043\n",
      "\n",
      "[', scientific researchers and labour hygiene specialists in the Soviet Union conducted extensive investigations into the impact of menstruation on women’s capacity to work in manual and industrial jobs requiring a significant']\n",
      "[' menstru']\n",
      "Score: 9.983203887939453\n",
      "\n",
      "[' simultaneous measurement of conjugate pairs of properties.\\n\\nFor example, the Heisenberg uncertainty principle states that one cannot simultaneously know, with arbitrarily high precision, both the position']\n",
      "['berg']\n",
      "Score: 9.952775001525879\n",
      "\n",
      "[' it is characterized by a\\nlifetime of a few nanoseconds of the lowest vibrational level of the first excited state.\\nDe-excitation from the excited sing']\n",
      "[' vibr']\n",
      "Score: 9.89829158782959\n",
      "\n",
      "['i Hark’s “Flying Swords of Dragon Gate;” and the Jackie Chan production-starring vehicle “CZ12,” which Huay']\n",
      "[' Jackie']\n",
      "Score: 9.744733810424805\n",
      "\n",
      "[' specific categories of women workers:\\n\\nDecree ‘On the release from work during menstruation of machinists and iron press workers working on cutting machines without mechanised gears']\n",
      "[' menstru']\n",
      "Score: 9.624755859375\n",
      "\n",
      "[' a few days later.  On January 8, 2004, more than four years later, Rose admitted publicly to betting on baseball games in his autobiography My Prison Without Bars.\\n\\n']\n",
      "[' Rose']\n",
      "Score: 9.476816177368164\n",
      "\n",
      "['a de recursividad y este simple código... mi pregunta ya que la variable counter comienza desde 10 y dentro del loop While el']\n",
      "[' ya']\n",
      "Score: 9.473194122314453\n",
      "\n",
      "[' at machines and on tractors resulted in congestion and tension in the abdomen that was exacerbated during menstruation. In practice, the decre']\n",
      "[' menstru']\n",
      "Score: 9.463767051696777\n",
      "\n",
      "[\" in Norway in February and March 1927, during which he received a letter from Werner Heisenberg regarding the latter's newly discovered (and not yet published) uncertainty principle. Upon returning\"]\n",
      "['berg']\n",
      "Score: 9.408309936523438\n",
      "\n",
      "['ővásárhely – Doubles\\n\\nLaura Pigossi and Nadia Podoroska were the defending champions, but both players chose not to participate.']\n",
      "[' Nad']\n",
      "Score: 9.402674674987793\n",
      "\n"
     ]
    }
   ],
   "source": [
    "for entry in occu_mlp1_top_scores:\n",
    "    decode_prompt_and_tokens(tokenized_prompts, entry['prompt_idx'], entry['token_idx'], window_size=18)\n",
    "    print(f\"Score: {entry['score']}\")\n",
    "    print()"
   ]
  },
  {
   "cell_type": "markdown",
   "id": "ae0fff58-a680-41c2-a8a0-a14dcd464f98",
   "metadata": {},
   "source": [
    "## `occu_attn6_normal`"
   ]
  },
  {
   "cell_type": "code",
   "execution_count": 80,
   "id": "c92df76e-164a-462e-875b-981ee25a330b",
   "metadata": {},
   "outputs": [
    {
     "name": "stderr",
     "output_type": "stream",
     "text": [
      "100%|██████████| 298/298 [03:26<00:00,  1.45it/s]\n"
     ]
    }
   ],
   "source": [
    "occu_attn6_top_scores = get_top_normal_scores_for_prompt_list(model, 6, 'ln_1_in', tokenized_prompts, occu_attn6_normal, k=20, pre_tokenized=True)"
   ]
  },
  {
   "cell_type": "code",
   "execution_count": 81,
   "id": "3b62291a-513f-46eb-9f74-8e865966dcf3",
   "metadata": {
    "scrolled": true
   },
   "outputs": [
    {
     "name": "stdout",
     "output_type": "stream",
     "text": [
      "[' add 4,000 square feet to its current space. View Full Caption DNAinfo/Katie Honan\\n\\nJACKSON HEIGHTS — Indian grocery store Patel Brothers is planning']\n",
      "['ie']\n",
      "Score: 11.403040885925293\n",
      "\n",
      "['.\\n\\nAn individual may bring a private right of action in federal court against his/her employer for such retaliation. In addition, the SEC may bring an enforcement action against a']\n",
      "['her']\n",
      "Score: 11.098417282104492\n",
      "\n",
      "['Jeanette Sawyer Cohen, PhD, clinical assistant professor of psychology in pediatrics at Weill Cornell']\n",
      "['ette']\n",
      "Score: 10.28715705871582\n",
      "\n",
      "['changing” economics, no matter how combatively BJP chief Amit Shah defended it in his maiden speech in the Rajya Sabha.\\n\\nYoung Indians of any class, on whose']\n",
      "[' maiden']\n",
      "Score: 10.135647773742676\n",
      "\n",
      "['�vásárhely – Doubles\\n\\nLaura Pigossi and Nadia Podoroska were the defending champions, but both players chose not to participate.\\n']\n",
      "['ia']\n",
      "Score: 10.087481498718262\n",
      "\n",
      "[' Hódmezővásárhely – Doubles\\n\\nLaura Pigossi and Nadia Podoroska were the defending champions, but both players']\n",
      "['Laura']\n",
      "Score: 9.996930122375488\n",
      "\n",
      "[', or fighting the Borg?\\n\\nThe third and final idea came to me through my girlfriend']\n",
      "[' girlfriend']\n",
      "Score: 9.702834129333496\n",
      "\n",
      "[' extensive research conducted for my PhD, is devoted to ‘Provision for “Menstrual Leave”’.\\n\\nIn the 1920s, scientific researchers and']\n",
      "['stru']\n",
      "Score: 9.455649375915527\n",
      "\n",
      "['isation, no analyst or political planner can afford to overlook jobless growth.\\n\\nPakora growth, a close enough synonym, staring the country in the face is hardly a']\n",
      "['ora']\n",
      "Score: 9.4014310836792\n",
      "\n",
      "[' and unfortunately now something really bad happened, and that’s scary,” said Francesco Fabba, who has lived on the block since 2009.\\n\\nHe pointed']\n",
      "[' Frances']\n",
      "Score: 9.190688133239746\n",
      "\n",
      "[' waters and my son was able to land a nice barracuda. The next day my wife, daughter, son […]\\n\\nWhen we arrived the crew made us feel right at']\n",
      "[' wife']\n",
      "Score: 9.141470909118652\n",
      "\n",
      "[\"'s Head. The topic was selling stuff he stole from Sirius' place:\\n\\nNikki: How did sirius twoway mirror end up with aberforth or is it another\"]\n",
      "['ki']\n",
      "Score: 8.33499526977539\n",
      "\n",
      "[' chains in other territories have ordered IMAX screens in ones and twos, Dalian Wanda in March 2011 put in an order for 75 screens. In Nov 2012 South Korea�']\n",
      "['anda']\n",
      "Score: 8.258329391479492\n",
      "\n",
      "[\"\\nHello! It's nice to meet you! I'm Mary. Thank you for stopping by Stirring Up Delight. I hope you'll find\"]\n",
      "[' Mary']\n",
      "Score: 8.189534187316895\n",
      "\n",
      "[' and is a genuine made-in-China co-venture involving China Film Group, Wanda Media, Village Roadshow Pictures Asia, and Universal Pictures.\\n\\nThe contemporary action']\n",
      "['anda']\n",
      "Score: 8.111015319824219\n",
      "\n",
      "[' of sickness than their female colleagues. Many of the problems experienced by women in the workplace could be mitigated by']\n",
      "[' female']\n",
      "Score: 8.006994247436523\n",
      "\n",
      "[' especially when the food is good. Good food tastes even better when enjoyed with people. Tonight Amy came over to try my second attempt at the Brussels Sprouts Veggie Soup to which']\n",
      "[' Amy']\n",
      "Score: 7.959303855895996\n",
      "\n",
      "[' across the globe with WebEx Meetings. In this course, author and webinar specialist Sally Norred shows you how to use WebEx Meetings to host, run, and']\n",
      "[' Sally']\n",
      "Score: 7.891899108886719\n",
      "\n",
      "['’re going to have to tell her you’ll help a little. Go ahead and help, but let her do']\n",
      "[' her']\n",
      "Score: 7.804708003997803\n",
      "\n",
      "[' protect the professionalism of certain categories of workers: the debates here centred on performance artists and female theatrical employees engaged in highly physical and intensely emotional work\\n• heavy physical labour and stren']\n",
      "[' female']\n",
      "Score: 7.6647210121154785\n",
      "\n"
     ]
    }
   ],
   "source": [
    "for entry in occu_attn6_top_scores:\n",
    "    decode_prompt_and_tokens(tokenized_prompts, entry['prompt_idx'], entry['token_idx'], window_size=18)\n",
    "    print(f\"Score: {entry['score']}\")\n",
    "    print()"
   ]
  },
  {
   "cell_type": "markdown",
   "id": "2581f353-473b-4aea-b985-d578e3348aaf",
   "metadata": {},
   "source": [
    "## `subj_mlp1_normal`"
   ]
  },
  {
   "cell_type": "code",
   "execution_count": 104,
   "id": "af89c71a-0af9-4122-bec2-6fed08e9dba3",
   "metadata": {},
   "outputs": [
    {
     "name": "stderr",
     "output_type": "stream",
     "text": [
      "100%|██████████| 298/298 [03:07<00:00,  1.59it/s]\n"
     ]
    }
   ],
   "source": [
    "subj_mlp1_top_scores = get_top_normal_scores_for_prompt_list(model, 1, 'ln_2_in', tokenized_prompts[:298], subj_mlp1_normal, k=20, pre_tokenized=True)"
   ]
  },
  {
   "cell_type": "code",
   "execution_count": 107,
   "id": "1240f947-262b-4064-a070-6b968ba7abde",
   "metadata": {
    "scrolled": true
   },
   "outputs": [
    {
     "name": "stdout",
     "output_type": "stream",
     "text": [
      "[' across the globe with WebEx Meetings. In this course, author and webinar specialist Sally Norred shows you how to use WebEx Meetings to host, run, and']\n",
      "[' Sally']\n",
      "Score: 11.065218925476074\n",
      "\n",
      "[\"\\nHello! It's nice to meet you! I'm Mary. Thank you for stopping by Stirring Up Delight. I hope you'll find\"]\n",
      "[' Mary']\n",
      "Score: 10.82946491241455\n",
      "\n",
      "[' phosphate (Pi) uptake across the vacuolar membrane of intact vacuoles isolated from Catharanthus roseus suspension-cultured cells was measured. Under low Pi status,']\n",
      "[' Cath']\n",
      "Score: 10.75033950805664\n",
      "\n",
      "[' theme. But how to make it work? Are you the borg, or fighting the Borg?\\n\\nThe third and final idea came to me through my girlfriend']\n",
      "[' Borg']\n",
      "Score: 10.398216247558594\n",
      "\n",
      "[' especially when the food is good. Good food tastes even better when enjoyed with people. Tonight Amy came over to try my second attempt at the Brussels Sprouts Veggie Soup to which']\n",
      "[' Amy']\n",
      "Score: 10.381427764892578\n",
      "\n",
      "['Inorganic phosphate uptake in intact vacuoles isolated from suspension-cultured cells of Catharanthus roseus (L.) G. Don under varying Pi status.\\nIn']\n",
      "[' Cath']\n",
      "Score: 10.288225173950195\n",
      "\n",
      "[' Hódmezővásárhely – Doubles\\n\\nLaura Pigossi and Nadia Podoroska were the defending champions, but both players']\n",
      "['Laura']\n",
      "Score: 9.701141357421875\n",
      "\n",
      "[' and unfortunately now something really bad happened, and that’s scary,” said Francesco Fabba, who has lived on the block since 2009.\\n\\nHe pointed']\n",
      "[' Frances']\n",
      "Score: 9.693242073059082\n",
      "\n",
      "[' paid time off work during menstruation\\n• (often from male workers, who viewed the employment of women as competition']\n",
      "[' menstru']\n",
      "Score: 9.413023948669434\n",
      "\n",
      "[' will add 4,000 square feet to its current space. View Full Caption DNAinfo/Katie Honan\\n\\nJACKSON HEIGHTS — Indian grocery store Patel Brothers is']\n",
      "['Kat']\n",
      "Score: 9.285762786865234\n",
      "\n",
      "[', scientific researchers and labour hygiene specialists in the Soviet Union conducted extensive investigations into the impact of menstruation on women’s capacity to work in manual and industrial jobs requiring a significant']\n",
      "[' menstru']\n",
      "Score: 9.093881607055664\n",
      "\n",
      "[' robot\\'s name is \"Patrick\" and he\\'s an interactive butt.\\n\\nProfessor Benjamin Lok\\n\\n\"Patrick is part of a simulation where students get to practice prostate exams,\"']\n",
      "[' Lok']\n",
      "Score: 9.038108825683594\n",
      "\n",
      "[' a few days later.  On January 8, 2004, more than four years later, Rose admitted publicly to betting on baseball games in his autobiography My Prison Without Bars.\\n\\n']\n",
      "[' Rose']\n",
      "Score: 9.01738166809082\n",
      "\n",
      "[' at machines and on tractors resulted in congestion and tension in the abdomen that was exacerbated during menstruation. In practice, the decre']\n",
      "[' menstru']\n",
      "Score: 8.83597183227539\n",
      "\n",
      "[' specific categories of women workers:\\n\\nDecree ‘On the release from work during menstruation of machinists and iron press workers working on cutting machines without mechanised gears']\n",
      "[' menstru']\n",
      "Score: 8.806462287902832\n",
      "\n",
      "[' the regions and if you\\'re pressing with enough pressure,\" Lok continues.\\n\\nThe sensor displays traffic light-style signals of green, yellow or']\n",
      "[' Lok']\n",
      "Score: 8.74221134185791\n",
      "\n",
      "[' it is characterized by a\\nlifetime of a few nanoseconds of the lowest vibrational level of the first excited state.\\nDe-excitation from the excited sing']\n",
      "[' vibr']\n",
      "Score: 8.736566543579102\n",
      "\n",
      "[' see The MLB All-Century Team.\\n\\nSelected players\\n\\nPete Rose controversy\\nThere']\n",
      "[' Rose']\n",
      "Score: 8.665071487426758\n",
      "\n",
      "['ővásárhely – Doubles\\n\\nLaura Pigossi and Nadia Podoroska were the defending champions, but both players chose not to participate.']\n",
      "[' Nad']\n",
      "Score: 8.590447425842285\n",
      "\n",
      "[' Florida professor Benjamin Lok explains to As It Happens guest host Tom Harrington. \"The simulator itself is a']\n",
      "[' Lok']\n",
      "Score: 8.578767776489258\n",
      "\n"
     ]
    }
   ],
   "source": [
    "for entry in subj_mlp1_top_scores:\n",
    "    decode_prompt_and_tokens(tokenized_prompts[:298], entry['prompt_idx'], entry['token_idx'], window_size=18)\n",
    "    print(f\"Score: {entry['score']}\")\n",
    "    print()"
   ]
  },
  {
   "cell_type": "markdown",
   "id": "a9ec1ec4-ae9e-4bfa-9ed8-0aa0a54787a8",
   "metadata": {},
   "source": [
    "## `subj_attn6_normal`"
   ]
  },
  {
   "cell_type": "code",
   "execution_count": 108,
   "id": "597d0b21-d117-49e4-aa8e-7929383ee6a0",
   "metadata": {},
   "outputs": [
    {
     "name": "stderr",
     "output_type": "stream",
     "text": [
      "100%|██████████| 298/298 [03:08<00:00,  1.58it/s]\n"
     ]
    }
   ],
   "source": [
    "subj_attn6_top_scores = get_top_normal_scores_for_prompt_list(model, 6, 'ln_1_in', tokenized_prompts[:298], subj_attn6_normal, k=20, pre_tokenized=True)"
   ]
  },
  {
   "cell_type": "code",
   "execution_count": 109,
   "id": "debbb9c8-d635-4cfd-8744-64581cc4ae45",
   "metadata": {
    "scrolled": true
   },
   "outputs": [
    {
     "name": "stdout",
     "output_type": "stream",
     "text": [
      "['.\\n\\nAn individual may bring a private right of action in federal court against his/her employer for such retaliation. In addition, the SEC may bring an enforcement action against a']\n",
      "['her']\n",
      "Score: 11.647647857666016\n",
      "\n",
      "['Jeanette Sawyer Cohen, PhD, clinical assistant professor of psychology in pediatrics at Weill Cornell']\n",
      "['ette']\n",
      "Score: 11.624452590942383\n",
      "\n",
      "[' add 4,000 square feet to its current space. View Full Caption DNAinfo/Katie Honan\\n\\nJACKSON HEIGHTS — Indian grocery store Patel Brothers is planning']\n",
      "['ie']\n",
      "Score: 11.164230346679688\n",
      "\n",
      "['�vásárhely – Doubles\\n\\nLaura Pigossi and Nadia Podoroska were the defending champions, but both players chose not to participate.\\n']\n",
      "['ia']\n",
      "Score: 10.408307075500488\n",
      "\n",
      "[' Hódmezővásárhely – Doubles\\n\\nLaura Pigossi and Nadia Podoroska were the defending champions, but both players']\n",
      "['Laura']\n",
      "Score: 10.252385139465332\n",
      "\n",
      "[', or fighting the Borg?\\n\\nThe third and final idea came to me through my girlfriend']\n",
      "[' girlfriend']\n",
      "Score: 10.105398178100586\n",
      "\n",
      "['changing” economics, no matter how combatively BJP chief Amit Shah defended it in his maiden speech in the Rajya Sabha.\\n\\nYoung Indians of any class, on whose']\n",
      "[' maiden']\n",
      "Score: 9.551288604736328\n",
      "\n",
      "[' and unfortunately now something really bad happened, and that’s scary,” said Francesco Fabba, who has lived on the block since 2009.\\n\\nHe pointed']\n",
      "[' Frances']\n",
      "Score: 9.482931137084961\n",
      "\n",
      "[' waters and my son was able to land a nice barracuda. The next day my wife, daughter, son […]\\n\\nWhen we arrived the crew made us feel right at']\n",
      "[' wife']\n",
      "Score: 9.472848892211914\n",
      "\n",
      "['isation, no analyst or political planner can afford to overlook jobless growth.\\n\\nPakora growth, a close enough synonym, staring the country in the face is hardly a']\n",
      "['ora']\n",
      "Score: 9.19100284576416\n",
      "\n",
      "[\"\\nHello! It's nice to meet you! I'm Mary. Thank you for stopping by Stirring Up Delight. I hope you'll find\"]\n",
      "[' Mary']\n",
      "Score: 8.993080139160156\n",
      "\n",
      "[\"'s Head. The topic was selling stuff he stole from Sirius' place:\\n\\nNikki: How did sirius twoway mirror end up with aberforth or is it another\"]\n",
      "['ki']\n",
      "Score: 8.646184921264648\n",
      "\n",
      "[' especially when the food is good. Good food tastes even better when enjoyed with people. Tonight Amy came over to try my second attempt at the Brussels Sprouts Veggie Soup to which']\n",
      "[' Amy']\n",
      "Score: 8.521955490112305\n",
      "\n",
      "[' across the globe with WebEx Meetings. In this course, author and webinar specialist Sally Norred shows you how to use WebEx Meetings to host, run, and']\n",
      "[' Sally']\n",
      "Score: 8.417619705200195\n",
      "\n",
      "[' chains in other territories have ordered IMAX screens in ones and twos, Dalian Wanda in March 2011 put in an order for 75 screens. In Nov 2012 South Korea�']\n",
      "['anda']\n",
      "Score: 8.249078750610352\n",
      "\n",
      "[' the standard quantum limit, because of the known/ prepared states in the ancillas/NITROGEN VACANCIES\\n\\n']\n",
      "[' states']\n",
      "Score: 8.070146560668945\n",
      "\n",
      "[' of sickness than their female colleagues. Many of the problems experienced by women in the workplace could be mitigated by']\n",
      "[' female']\n",
      "Score: 8.066986083984375\n",
      "\n",
      "[' extensive research conducted for my PhD, is devoted to ‘Provision for “Menstrual Leave”’.\\n\\nIn the 1920s, scientific researchers and']\n",
      "['stru']\n",
      "Score: 8.047263145446777\n",
      "\n",
      "['’re going to have to tell her you’ll help a little. Go ahead and help, but let her do']\n",
      "[' her']\n",
      "Score: 7.9689040184021\n",
      "\n",
      "[' and is a genuine made-in-China co-venture involving China Film Group, Wanda Media, Village Roadshow Pictures Asia, and Universal Pictures.\\n\\nThe contemporary action']\n",
      "['anda']\n",
      "Score: 7.741673946380615\n",
      "\n"
     ]
    }
   ],
   "source": [
    "for entry in subj_attn6_top_scores:\n",
    "    decode_prompt_and_tokens(tokenized_prompts[:298], entry['prompt_idx'], entry['token_idx'], window_size=18)\n",
    "    print(f\"Score: {entry['score']}\")\n",
    "    print()"
   ]
  },
  {
   "cell_type": "markdown",
   "id": "41d914ff-5a07-42dd-999f-20653a86626a",
   "metadata": {},
   "source": [
    "# Pairwise activation patching evaluation"
   ]
  },
  {
   "cell_type": "code",
   "execution_count": 76,
   "id": "c9eb4fb4-b24f-4b64-812d-be01e1682488",
   "metadata": {},
   "outputs": [],
   "source": [
    "def test_pairwise_activation_patching(prompts_pos, prompts_neg, logits_normal, layer, sublayer, token, feature_vec):\n",
    "    ret_dict = {\n",
    "        'pos_scores': [],\n",
    "        'neg_scores': [],\n",
    "        'patched_pos_scores': [],\n",
    "        'pos_to_neg_KLs': [],\n",
    "        'patched_pos_to_neg_KLs': [],\n",
    "    }\n",
    "    with torch.no_grad():\n",
    "        for i in tqdm.tqdm(range(len(prompts_pos))):\n",
    "            prompt_pos = prompts_pos[i]\n",
    "            prompt_neg = prompts_neg[i]\n",
    "            \n",
    "            pos_out = run_with_patched_activations(model, prompt_pos, [], return_np=False)\n",
    "            pos_score = (pos_out['lm_out'][0,-1] @ logits_normal).item()\n",
    "    \n",
    "            neg_out = run_with_patched_activations(model, prompt_neg, [], return_np=False)\n",
    "            neg_score = (neg_out['lm_out'][0,-1] @ logits_normal).item()\n",
    "    \n",
    "            original_sublayer = sublayer\n",
    "            if sublayer == 'block_in': original_sublayer = 'ln_1_in'\n",
    "            pos_original_embedding = pos_out['layers'][layer][original_sublayer]\n",
    "            neg_original_embedding = neg_out['layers'][layer][original_sublayer]\n",
    "            \n",
    "            # project difference between positive and negative embeddings onto feature vector\n",
    "            diff_embedding = (pos_original_embedding - neg_original_embedding)[0, token]\n",
    "            proj_diff = torch.dot(diff_embedding, feature_vec) * feature_vec\n",
    "            # patch negative embedding with our projected difference\n",
    "            patched_embedding = neg_original_embedding[0,token] + proj_diff\n",
    "            patched_pos_out = run_with_patched_activations(model, prompt_neg,\n",
    "                [\n",
    "                    {'layer': layer, 'sublayer': sublayer, 'token': token, 'patch': patched_embedding}\n",
    "                ], return_np=False\n",
    "            )\n",
    "            # measure patched score\n",
    "            patched_pos_score = patched_pos_out['lm_out'][0,-1] @ logits_normal\n",
    "            # measure KL divergence from pos to neg, and from patched pos to neg\n",
    "            pos_distrib = torch.nn.functional.log_softmax(pos_out['lm_out'][0,-1], dim=0)\n",
    "            neg_distrib = torch.nn.functional.log_softmax(neg_out['lm_out'][0,-1], dim=0)\n",
    "            patched_pos_distrib = torch.nn.functional.log_softmax(patched_pos_out['lm_out'][0,-1], dim=0)\n",
    "\n",
    "            pos_to_neg_KL = torch.nn.functional.kl_div(pos_distrib, neg_distrib, log_target=True).item()\n",
    "            patched_pos_to_neg_KL = torch.nn.functional.kl_div(patched_pos_distrib, neg_distrib, log_target=True).item()\n",
    "            \n",
    "            free_embeddings(pos_out)\n",
    "            free_embeddings(neg_out)\n",
    "            free_embeddings(patched_pos_out)\n",
    "\n",
    "            ret_dict['pos_scores'].append(pos_score)\n",
    "            ret_dict['neg_scores'].append(neg_score)\n",
    "            ret_dict['patched_pos_scores'].append(patched_pos_score.item())\n",
    "            ret_dict['pos_to_neg_KLs'].append(pos_to_neg_KL)\n",
    "            ret_dict['patched_pos_to_neg_KLs'].append(patched_pos_to_neg_KL)\n",
    "    return ret_dict"
   ]
  },
  {
   "cell_type": "code",
   "execution_count": 81,
   "id": "28293e9c-c08a-4add-b360-e433ded212cf",
   "metadata": {},
   "outputs": [
    {
     "name": "stderr",
     "output_type": "stream",
     "text": [
      "100%|██████████| 300/300 [03:27<00:00,  1.44it/s]\n"
     ]
    }
   ],
   "source": [
    "occu_pairwise_test_multiply_by_two = test_pairwise_activation_patching(occu_prompts_female, occu_prompts_male, occu_observable.cuda(),\n",
    " 6, 'ln_1_in', 3, 2*occu_attn6_normal)"
   ]
  },
  {
   "cell_type": "code",
   "execution_count": 83,
   "id": "8606da3b-a3e1-4893-9f52-1d0c65d32301",
   "metadata": {},
   "outputs": [
    {
     "name": "stderr",
     "output_type": "stream",
     "text": [
      "100%|██████████| 300/300 [03:28<00:00,  1.44it/s]\n"
     ]
    }
   ],
   "source": [
    "occu_pairwise_test_no_multiply = test_pairwise_activation_patching(occu_prompts_female, occu_prompts_male, occu_observable.cuda(),\n",
    " 6, 'ln_1_in', 3, occu_attn6_normal)"
   ]
  },
  {
   "cell_type": "code",
   "execution_count": null,
   "id": "31ad0927-0a07-4845-aaee-01ef1d0515d9",
   "metadata": {},
   "outputs": [],
   "source": [
    "subj_with_occu_pairwise_test_multiply_by_two = test_pairwise_activation_patching(subj_prompts_female, subj_prompts_male, subj_observable.cuda(),\n",
    " 6, 'block_in', 3, 2*occu_attn6_normal)"
   ]
  },
  {
   "cell_type": "markdown",
   "id": "759df18c-1627-4e26-b923-79acf91eb338",
   "metadata": {},
   "source": [
    "# LayerNorm approximations at different points"
   ]
  },
  {
   "cell_type": "markdown",
   "id": "fe8bf8e7-4f91-4b2a-9e4d-0039bce5b8ef",
   "metadata": {},
   "source": [
    "## Set up prompts"
   ]
  },
  {
   "cell_type": "code",
   "execution_count": 56,
   "id": "2d51202d-1eed-4039-8d07-25d8ba6a005e",
   "metadata": {},
   "outputs": [],
   "source": [
    "def make_prompts(templates, generic, replacements):\n",
    "    prompts = []\n",
    "    for template in templates:\n",
    "        cur_prompts = []\n",
    "        for replacement in replacements:\n",
    "            cur_prompts.append(template.replace(generic, replacement))\n",
    "        prompts.append(cur_prompts)\n",
    "    return prompts"
   ]
  },
  {
   "cell_type": "markdown",
   "id": "1214b002-6a78-4d15-93e4-f1c2eb8ba1dc",
   "metadata": {},
   "source": [
    "### Subject pronouns"
   ]
  },
  {
   "cell_type": "code",
   "execution_count": 57,
   "id": "e1c9ade9-0646-4638-9481-322ce8d03e9e",
   "metadata": {},
   "outputs": [],
   "source": [
    "subj_prompt_templates = [\n",
    "    \"<|endoftext|>So, [NAME] really is a great friend, isn't\",\n",
    "    \"<|endoftext|>Man, [NAME] is so funny, isn't\",\n",
    "    \"<|endoftext|>Really, [NAME] always works so hard, doesn't\"\n",
    "]\n",
    "\n",
    "subj_prompts_male = make_prompts(subj_prompt_templates, \"[NAME]\", male_names)\n",
    "subj_prompts_female = make_prompts(subj_prompt_templates, \"[NAME]\", female_names)"
   ]
  },
  {
   "cell_type": "markdown",
   "id": "3a8aadbd-e9d8-4815-8b5a-b3e63e18783c",
   "metadata": {},
   "source": [
    "## Get embeddings"
   ]
  },
  {
   "cell_type": "markdown",
   "id": "405130b2-29c3-459d-ad23-0c08d85966a3",
   "metadata": {},
   "source": [
    "### Subject pronouns"
   ]
  },
  {
   "cell_type": "code",
   "execution_count": 59,
   "id": "88b7566d-f4f5-4dea-8385-dbc12d9f11b8",
   "metadata": {
    "scrolled": true
   },
   "outputs": [
    {
     "name": "stdout",
     "output_type": "stream",
     "text": [
      "After loading prompt 0, number of tensors: 366\n",
      "After loading prompt 1, number of tensors: 366\n",
      "After loading prompt 2, number of tensors: 366\n",
      "After loading prompt 3, number of tensors: 366\n",
      "After loading prompt 4, number of tensors: 366\n",
      "After loading prompt 5, number of tensors: 366\n",
      "After loading prompt 6, number of tensors: 366\n",
      "After loading prompt 7, number of tensors: 366\n",
      "After loading prompt 8, number of tensors: 366\n",
      "After loading prompt 9, number of tensors: 366\n",
      "After loading prompt 10, number of tensors: 366\n",
      "After loading prompt 11, number of tensors: 366\n",
      "After loading prompt 12, number of tensors: 366\n",
      "After loading prompt 13, number of tensors: 366\n",
      "After loading prompt 14, number of tensors: 366\n",
      "After loading prompt 15, number of tensors: 366\n",
      "After loading prompt 16, number of tensors: 366\n",
      "After loading prompt 17, number of tensors: 366\n",
      "After loading prompt 18, number of tensors: 366\n",
      "After loading prompt 19, number of tensors: 366\n",
      "After loading prompt 20, number of tensors: 366\n",
      "After loading prompt 21, number of tensors: 366\n",
      "After loading prompt 22, number of tensors: 366\n",
      "After loading prompt 23, number of tensors: 366\n",
      "After loading prompt 24, number of tensors: 366\n",
      "After loading prompt 25, number of tensors: 366\n",
      "After loading prompt 26, number of tensors: 366\n",
      "After loading prompt 27, number of tensors: 366\n",
      "After loading prompt 28, number of tensors: 366\n",
      "After loading prompt 29, number of tensors: 366\n",
      "After loading prompt 30, number of tensors: 366\n",
      "After loading prompt 31, number of tensors: 366\n",
      "After loading prompt 32, number of tensors: 366\n",
      "After loading prompt 33, number of tensors: 366\n",
      "After loading prompt 34, number of tensors: 366\n",
      "After loading prompt 35, number of tensors: 366\n",
      "After loading prompt 36, number of tensors: 366\n",
      "After loading prompt 37, number of tensors: 366\n",
      "After loading prompt 38, number of tensors: 366\n",
      "After loading prompt 39, number of tensors: 366\n",
      "After loading prompt 40, number of tensors: 366\n",
      "After loading prompt 41, number of tensors: 366\n",
      "After loading prompt 42, number of tensors: 366\n",
      "After loading prompt 43, number of tensors: 366\n",
      "After loading prompt 44, number of tensors: 366\n",
      "After loading prompt 45, number of tensors: 366\n",
      "After loading prompt 46, number of tensors: 366\n",
      "After loading prompt 47, number of tensors: 366\n",
      "After loading prompt 48, number of tensors: 366\n",
      "After loading prompt 49, number of tensors: 366\n",
      "After loading prompt 50, number of tensors: 366\n",
      "After loading prompt 51, number of tensors: 366\n",
      "After loading prompt 52, number of tensors: 366\n",
      "After loading prompt 53, number of tensors: 366\n",
      "After loading prompt 54, number of tensors: 366\n",
      "After loading prompt 55, number of tensors: 366\n",
      "After loading prompt 56, number of tensors: 366\n",
      "After loading prompt 57, number of tensors: 366\n",
      "After loading prompt 58, number of tensors: 366\n",
      "After loading prompt 59, number of tensors: 366\n",
      "After loading prompt 60, number of tensors: 366\n",
      "After loading prompt 61, number of tensors: 366\n",
      "After loading prompt 62, number of tensors: 366\n",
      "After loading prompt 63, number of tensors: 366\n",
      "After loading prompt 64, number of tensors: 366\n",
      "After loading prompt 65, number of tensors: 366\n",
      "After loading prompt 66, number of tensors: 366\n",
      "After loading prompt 67, number of tensors: 366\n",
      "After loading prompt 68, number of tensors: 366\n",
      "After loading prompt 69, number of tensors: 366\n",
      "After loading prompt 70, number of tensors: 366\n",
      "After loading prompt 71, number of tensors: 366\n",
      "After loading prompt 72, number of tensors: 366\n",
      "After loading prompt 73, number of tensors: 366\n",
      "After loading prompt 74, number of tensors: 366\n",
      "After loading prompt 75, number of tensors: 366\n",
      "After loading prompt 76, number of tensors: 366\n",
      "After loading prompt 77, number of tensors: 366\n",
      "After loading prompt 78, number of tensors: 366\n",
      "After loading prompt 79, number of tensors: 366\n",
      "After loading prompt 80, number of tensors: 366\n",
      "After loading prompt 81, number of tensors: 366\n",
      "After loading prompt 82, number of tensors: 366\n",
      "After loading prompt 83, number of tensors: 366\n",
      "After loading prompt 84, number of tensors: 366\n",
      "After loading prompt 85, number of tensors: 366\n",
      "After loading prompt 86, number of tensors: 366\n",
      "After loading prompt 87, number of tensors: 366\n",
      "After loading prompt 88, number of tensors: 366\n",
      "After loading prompt 89, number of tensors: 366\n",
      "After loading prompt 90, number of tensors: 366\n",
      "After loading prompt 91, number of tensors: 366\n",
      "After loading prompt 92, number of tensors: 366\n",
      "After loading prompt 93, number of tensors: 366\n",
      "After loading prompt 94, number of tensors: 366\n",
      "After loading prompt 95, number of tensors: 366\n",
      "After loading prompt 96, number of tensors: 366\n",
      "After loading prompt 97, number of tensors: 366\n",
      "After loading prompt 98, number of tensors: 366\n",
      "After loading prompt 99, number of tensors: 366\n",
      "After loading prompt 0, number of tensors: 366\n",
      "After loading prompt 1, number of tensors: 366\n",
      "After loading prompt 2, number of tensors: 366\n",
      "After loading prompt 3, number of tensors: 366\n",
      "After loading prompt 4, number of tensors: 366\n",
      "After loading prompt 5, number of tensors: 366\n",
      "After loading prompt 6, number of tensors: 366\n",
      "After loading prompt 7, number of tensors: 366\n",
      "After loading prompt 8, number of tensors: 366\n",
      "After loading prompt 9, number of tensors: 366\n",
      "After loading prompt 10, number of tensors: 366\n",
      "After loading prompt 11, number of tensors: 366\n",
      "After loading prompt 12, number of tensors: 366\n",
      "After loading prompt 13, number of tensors: 366\n",
      "After loading prompt 14, number of tensors: 366\n",
      "After loading prompt 15, number of tensors: 366\n",
      "After loading prompt 16, number of tensors: 366\n",
      "After loading prompt 17, number of tensors: 366\n",
      "After loading prompt 18, number of tensors: 366\n",
      "After loading prompt 19, number of tensors: 366\n",
      "After loading prompt 20, number of tensors: 366\n",
      "After loading prompt 21, number of tensors: 366\n",
      "After loading prompt 22, number of tensors: 366\n",
      "After loading prompt 23, number of tensors: 366\n",
      "After loading prompt 24, number of tensors: 366\n",
      "After loading prompt 25, number of tensors: 366\n",
      "After loading prompt 26, number of tensors: 366\n",
      "After loading prompt 27, number of tensors: 366\n",
      "After loading prompt 28, number of tensors: 366\n",
      "After loading prompt 29, number of tensors: 366\n",
      "After loading prompt 30, number of tensors: 366\n",
      "After loading prompt 31, number of tensors: 366\n",
      "After loading prompt 32, number of tensors: 366\n",
      "After loading prompt 33, number of tensors: 366\n",
      "After loading prompt 34, number of tensors: 366\n",
      "After loading prompt 35, number of tensors: 366\n",
      "After loading prompt 36, number of tensors: 366\n",
      "After loading prompt 37, number of tensors: 366\n",
      "After loading prompt 38, number of tensors: 366\n",
      "After loading prompt 39, number of tensors: 366\n",
      "After loading prompt 40, number of tensors: 366\n",
      "After loading prompt 41, number of tensors: 366\n",
      "After loading prompt 42, number of tensors: 366\n",
      "After loading prompt 43, number of tensors: 366\n",
      "After loading prompt 44, number of tensors: 366\n",
      "After loading prompt 45, number of tensors: 366\n",
      "After loading prompt 46, number of tensors: 366\n",
      "After loading prompt 47, number of tensors: 366\n",
      "After loading prompt 48, number of tensors: 366\n",
      "After loading prompt 49, number of tensors: 366\n",
      "After loading prompt 50, number of tensors: 366\n",
      "After loading prompt 51, number of tensors: 366\n",
      "After loading prompt 52, number of tensors: 366\n",
      "After loading prompt 53, number of tensors: 366\n",
      "After loading prompt 54, number of tensors: 366\n",
      "After loading prompt 55, number of tensors: 366\n",
      "After loading prompt 56, number of tensors: 366\n",
      "After loading prompt 57, number of tensors: 366\n",
      "After loading prompt 58, number of tensors: 366\n",
      "After loading prompt 59, number of tensors: 366\n",
      "After loading prompt 60, number of tensors: 366\n",
      "After loading prompt 61, number of tensors: 366\n",
      "After loading prompt 62, number of tensors: 366\n",
      "After loading prompt 63, number of tensors: 366\n",
      "After loading prompt 64, number of tensors: 366\n",
      "After loading prompt 65, number of tensors: 366\n",
      "After loading prompt 66, number of tensors: 366\n",
      "After loading prompt 67, number of tensors: 366\n",
      "After loading prompt 68, number of tensors: 366\n",
      "After loading prompt 69, number of tensors: 366\n",
      "After loading prompt 70, number of tensors: 366\n",
      "After loading prompt 71, number of tensors: 366\n",
      "After loading prompt 72, number of tensors: 366\n",
      "After loading prompt 73, number of tensors: 366\n",
      "After loading prompt 74, number of tensors: 366\n",
      "After loading prompt 75, number of tensors: 366\n",
      "After loading prompt 76, number of tensors: 366\n",
      "After loading prompt 77, number of tensors: 366\n",
      "After loading prompt 78, number of tensors: 366\n",
      "After loading prompt 79, number of tensors: 366\n",
      "After loading prompt 80, number of tensors: 366\n",
      "After loading prompt 81, number of tensors: 366\n",
      "After loading prompt 82, number of tensors: 366\n",
      "After loading prompt 83, number of tensors: 366\n",
      "After loading prompt 84, number of tensors: 366\n",
      "After loading prompt 85, number of tensors: 366\n",
      "After loading prompt 86, number of tensors: 366\n",
      "After loading prompt 87, number of tensors: 366\n",
      "After loading prompt 88, number of tensors: 366\n",
      "After loading prompt 89, number of tensors: 366\n",
      "After loading prompt 90, number of tensors: 366\n",
      "After loading prompt 91, number of tensors: 366\n",
      "After loading prompt 92, number of tensors: 366\n",
      "After loading prompt 93, number of tensors: 366\n",
      "After loading prompt 94, number of tensors: 366\n",
      "After loading prompt 95, number of tensors: 366\n",
      "After loading prompt 96, number of tensors: 366\n",
      "After loading prompt 97, number of tensors: 366\n",
      "After loading prompt 98, number of tensors: 366\n",
      "After loading prompt 99, number of tensors: 366\n",
      "After loading prompt 0, number of tensors: 366\n",
      "After loading prompt 1, number of tensors: 366\n",
      "After loading prompt 2, number of tensors: 366\n",
      "After loading prompt 3, number of tensors: 366\n",
      "After loading prompt 4, number of tensors: 366\n",
      "After loading prompt 5, number of tensors: 366\n",
      "After loading prompt 6, number of tensors: 366\n",
      "After loading prompt 7, number of tensors: 366\n",
      "After loading prompt 8, number of tensors: 366\n",
      "After loading prompt 9, number of tensors: 366\n",
      "After loading prompt 10, number of tensors: 366\n",
      "After loading prompt 11, number of tensors: 366\n",
      "After loading prompt 12, number of tensors: 366\n",
      "After loading prompt 13, number of tensors: 366\n",
      "After loading prompt 14, number of tensors: 366\n",
      "After loading prompt 15, number of tensors: 366\n",
      "After loading prompt 16, number of tensors: 366\n",
      "After loading prompt 17, number of tensors: 366\n",
      "After loading prompt 18, number of tensors: 366\n",
      "After loading prompt 19, number of tensors: 366\n",
      "After loading prompt 20, number of tensors: 366\n",
      "After loading prompt 21, number of tensors: 366\n",
      "After loading prompt 22, number of tensors: 366\n",
      "After loading prompt 23, number of tensors: 366\n",
      "After loading prompt 24, number of tensors: 366\n",
      "After loading prompt 25, number of tensors: 366\n",
      "After loading prompt 26, number of tensors: 366\n",
      "After loading prompt 27, number of tensors: 366\n",
      "After loading prompt 28, number of tensors: 366\n",
      "After loading prompt 29, number of tensors: 366\n",
      "After loading prompt 30, number of tensors: 366\n",
      "After loading prompt 31, number of tensors: 366\n",
      "After loading prompt 32, number of tensors: 366\n",
      "After loading prompt 33, number of tensors: 366\n",
      "After loading prompt 34, number of tensors: 366\n",
      "After loading prompt 35, number of tensors: 366\n",
      "After loading prompt 36, number of tensors: 366\n",
      "After loading prompt 37, number of tensors: 366\n",
      "After loading prompt 38, number of tensors: 366\n",
      "After loading prompt 39, number of tensors: 366\n",
      "After loading prompt 40, number of tensors: 366\n",
      "After loading prompt 41, number of tensors: 366\n",
      "After loading prompt 42, number of tensors: 366\n",
      "After loading prompt 43, number of tensors: 366\n",
      "After loading prompt 44, number of tensors: 366\n",
      "After loading prompt 45, number of tensors: 366\n",
      "After loading prompt 46, number of tensors: 366\n",
      "After loading prompt 47, number of tensors: 366\n",
      "After loading prompt 48, number of tensors: 366\n",
      "After loading prompt 49, number of tensors: 366\n",
      "After loading prompt 50, number of tensors: 366\n",
      "After loading prompt 51, number of tensors: 366\n",
      "After loading prompt 52, number of tensors: 366\n",
      "After loading prompt 53, number of tensors: 366\n",
      "After loading prompt 54, number of tensors: 366\n",
      "After loading prompt 55, number of tensors: 366\n",
      "After loading prompt 56, number of tensors: 366\n",
      "After loading prompt 57, number of tensors: 366\n",
      "After loading prompt 58, number of tensors: 366\n",
      "After loading prompt 59, number of tensors: 366\n",
      "After loading prompt 60, number of tensors: 366\n",
      "After loading prompt 61, number of tensors: 366\n",
      "After loading prompt 62, number of tensors: 366\n",
      "After loading prompt 63, number of tensors: 366\n",
      "After loading prompt 64, number of tensors: 366\n",
      "After loading prompt 65, number of tensors: 366\n",
      "After loading prompt 66, number of tensors: 366\n",
      "After loading prompt 67, number of tensors: 366\n",
      "After loading prompt 68, number of tensors: 366\n",
      "After loading prompt 69, number of tensors: 366\n",
      "After loading prompt 70, number of tensors: 366\n",
      "After loading prompt 71, number of tensors: 366\n",
      "After loading prompt 72, number of tensors: 366\n",
      "After loading prompt 73, number of tensors: 366\n",
      "After loading prompt 74, number of tensors: 366\n",
      "After loading prompt 75, number of tensors: 366\n",
      "After loading prompt 76, number of tensors: 366\n",
      "After loading prompt 77, number of tensors: 366\n",
      "After loading prompt 78, number of tensors: 366\n",
      "After loading prompt 79, number of tensors: 366\n",
      "After loading prompt 80, number of tensors: 366\n",
      "After loading prompt 81, number of tensors: 366\n",
      "After loading prompt 82, number of tensors: 366\n",
      "After loading prompt 83, number of tensors: 366\n",
      "After loading prompt 84, number of tensors: 366\n",
      "After loading prompt 85, number of tensors: 366\n",
      "After loading prompt 86, number of tensors: 366\n",
      "After loading prompt 87, number of tensors: 366\n",
      "After loading prompt 88, number of tensors: 366\n",
      "After loading prompt 89, number of tensors: 366\n",
      "After loading prompt 90, number of tensors: 366\n",
      "After loading prompt 91, number of tensors: 366\n",
      "After loading prompt 92, number of tensors: 366\n",
      "After loading prompt 93, number of tensors: 366\n",
      "After loading prompt 94, number of tensors: 366\n",
      "After loading prompt 95, number of tensors: 366\n",
      "After loading prompt 96, number of tensors: 366\n",
      "After loading prompt 97, number of tensors: 366\n",
      "After loading prompt 98, number of tensors: 366\n",
      "After loading prompt 99, number of tensors: 366\n",
      "After loading prompt 0, number of tensors: 366\n",
      "After loading prompt 1, number of tensors: 366\n",
      "After loading prompt 2, number of tensors: 366\n",
      "After loading prompt 3, number of tensors: 366\n",
      "After loading prompt 4, number of tensors: 366\n",
      "After loading prompt 5, number of tensors: 366\n",
      "After loading prompt 6, number of tensors: 366\n",
      "After loading prompt 7, number of tensors: 366\n",
      "After loading prompt 8, number of tensors: 366\n",
      "After loading prompt 9, number of tensors: 366\n",
      "After loading prompt 10, number of tensors: 366\n",
      "After loading prompt 11, number of tensors: 366\n",
      "After loading prompt 12, number of tensors: 366\n",
      "After loading prompt 13, number of tensors: 366\n",
      "After loading prompt 14, number of tensors: 366\n",
      "After loading prompt 15, number of tensors: 366\n",
      "After loading prompt 16, number of tensors: 366\n",
      "After loading prompt 17, number of tensors: 366\n",
      "After loading prompt 18, number of tensors: 366\n",
      "After loading prompt 19, number of tensors: 366\n",
      "After loading prompt 20, number of tensors: 366\n",
      "After loading prompt 21, number of tensors: 366\n",
      "After loading prompt 22, number of tensors: 366\n",
      "After loading prompt 23, number of tensors: 366\n",
      "After loading prompt 24, number of tensors: 366\n",
      "After loading prompt 25, number of tensors: 366\n",
      "After loading prompt 26, number of tensors: 366\n",
      "After loading prompt 27, number of tensors: 366\n",
      "After loading prompt 28, number of tensors: 366\n",
      "After loading prompt 29, number of tensors: 366\n",
      "After loading prompt 30, number of tensors: 366\n",
      "After loading prompt 31, number of tensors: 366\n",
      "After loading prompt 32, number of tensors: 366\n",
      "After loading prompt 33, number of tensors: 366\n",
      "After loading prompt 34, number of tensors: 366\n",
      "After loading prompt 35, number of tensors: 366\n",
      "After loading prompt 36, number of tensors: 366\n",
      "After loading prompt 37, number of tensors: 366\n",
      "After loading prompt 38, number of tensors: 366\n",
      "After loading prompt 39, number of tensors: 366\n",
      "After loading prompt 40, number of tensors: 366\n",
      "After loading prompt 41, number of tensors: 366\n",
      "After loading prompt 42, number of tensors: 366\n",
      "After loading prompt 43, number of tensors: 366\n",
      "After loading prompt 44, number of tensors: 366\n",
      "After loading prompt 45, number of tensors: 366\n",
      "After loading prompt 46, number of tensors: 366\n",
      "After loading prompt 47, number of tensors: 366\n",
      "After loading prompt 48, number of tensors: 366\n",
      "After loading prompt 49, number of tensors: 366\n",
      "After loading prompt 50, number of tensors: 366\n",
      "After loading prompt 51, number of tensors: 366\n",
      "After loading prompt 52, number of tensors: 366\n",
      "After loading prompt 53, number of tensors: 366\n",
      "After loading prompt 54, number of tensors: 366\n",
      "After loading prompt 55, number of tensors: 366\n",
      "After loading prompt 56, number of tensors: 366\n",
      "After loading prompt 57, number of tensors: 366\n",
      "After loading prompt 58, number of tensors: 366\n",
      "After loading prompt 59, number of tensors: 366\n",
      "After loading prompt 60, number of tensors: 366\n",
      "After loading prompt 61, number of tensors: 366\n",
      "After loading prompt 62, number of tensors: 366\n",
      "After loading prompt 63, number of tensors: 366\n",
      "After loading prompt 64, number of tensors: 366\n",
      "After loading prompt 65, number of tensors: 366\n",
      "After loading prompt 66, number of tensors: 366\n",
      "After loading prompt 67, number of tensors: 366\n",
      "After loading prompt 68, number of tensors: 366\n",
      "After loading prompt 69, number of tensors: 366\n",
      "After loading prompt 70, number of tensors: 366\n",
      "After loading prompt 71, number of tensors: 366\n",
      "After loading prompt 72, number of tensors: 366\n",
      "After loading prompt 73, number of tensors: 366\n",
      "After loading prompt 74, number of tensors: 366\n",
      "After loading prompt 75, number of tensors: 366\n",
      "After loading prompt 76, number of tensors: 366\n",
      "After loading prompt 77, number of tensors: 366\n",
      "After loading prompt 78, number of tensors: 366\n",
      "After loading prompt 79, number of tensors: 366\n",
      "After loading prompt 80, number of tensors: 366\n",
      "After loading prompt 81, number of tensors: 366\n",
      "After loading prompt 82, number of tensors: 366\n",
      "After loading prompt 83, number of tensors: 366\n",
      "After loading prompt 84, number of tensors: 366\n",
      "After loading prompt 85, number of tensors: 366\n",
      "After loading prompt 86, number of tensors: 366\n",
      "After loading prompt 87, number of tensors: 366\n",
      "After loading prompt 88, number of tensors: 366\n",
      "After loading prompt 89, number of tensors: 366\n",
      "After loading prompt 90, number of tensors: 366\n",
      "After loading prompt 91, number of tensors: 366\n",
      "After loading prompt 92, number of tensors: 366\n",
      "After loading prompt 93, number of tensors: 366\n",
      "After loading prompt 94, number of tensors: 366\n",
      "After loading prompt 95, number of tensors: 366\n",
      "After loading prompt 96, number of tensors: 366\n",
      "After loading prompt 97, number of tensors: 366\n",
      "After loading prompt 98, number of tensors: 366\n",
      "After loading prompt 99, number of tensors: 366\n",
      "After loading prompt 0, number of tensors: 366\n",
      "After loading prompt 1, number of tensors: 366\n",
      "After loading prompt 2, number of tensors: 366\n",
      "After loading prompt 3, number of tensors: 366\n",
      "After loading prompt 4, number of tensors: 366\n",
      "After loading prompt 5, number of tensors: 366\n",
      "After loading prompt 6, number of tensors: 366\n",
      "After loading prompt 7, number of tensors: 366\n",
      "After loading prompt 8, number of tensors: 366\n",
      "After loading prompt 9, number of tensors: 366\n",
      "After loading prompt 10, number of tensors: 366\n",
      "After loading prompt 11, number of tensors: 366\n",
      "After loading prompt 12, number of tensors: 366\n",
      "After loading prompt 13, number of tensors: 366\n",
      "After loading prompt 14, number of tensors: 366\n",
      "After loading prompt 15, number of tensors: 366\n",
      "After loading prompt 16, number of tensors: 366\n",
      "After loading prompt 17, number of tensors: 366\n",
      "After loading prompt 18, number of tensors: 366\n",
      "After loading prompt 19, number of tensors: 366\n",
      "After loading prompt 20, number of tensors: 366\n",
      "After loading prompt 21, number of tensors: 366\n",
      "After loading prompt 22, number of tensors: 366\n",
      "After loading prompt 23, number of tensors: 366\n",
      "After loading prompt 24, number of tensors: 366\n",
      "After loading prompt 25, number of tensors: 366\n",
      "After loading prompt 26, number of tensors: 366\n",
      "After loading prompt 27, number of tensors: 366\n",
      "After loading prompt 28, number of tensors: 366\n",
      "After loading prompt 29, number of tensors: 366\n",
      "After loading prompt 30, number of tensors: 366\n",
      "After loading prompt 31, number of tensors: 366\n",
      "After loading prompt 32, number of tensors: 366\n",
      "After loading prompt 33, number of tensors: 366\n",
      "After loading prompt 34, number of tensors: 366\n",
      "After loading prompt 35, number of tensors: 366\n",
      "After loading prompt 36, number of tensors: 366\n",
      "After loading prompt 37, number of tensors: 366\n",
      "After loading prompt 38, number of tensors: 366\n",
      "After loading prompt 39, number of tensors: 366\n",
      "After loading prompt 40, number of tensors: 366\n",
      "After loading prompt 41, number of tensors: 366\n",
      "After loading prompt 42, number of tensors: 366\n",
      "After loading prompt 43, number of tensors: 366\n",
      "After loading prompt 44, number of tensors: 366\n",
      "After loading prompt 45, number of tensors: 366\n",
      "After loading prompt 46, number of tensors: 366\n",
      "After loading prompt 47, number of tensors: 366\n",
      "After loading prompt 48, number of tensors: 366\n",
      "After loading prompt 49, number of tensors: 366\n",
      "After loading prompt 50, number of tensors: 366\n",
      "After loading prompt 51, number of tensors: 366\n",
      "After loading prompt 52, number of tensors: 366\n",
      "After loading prompt 53, number of tensors: 366\n",
      "After loading prompt 54, number of tensors: 366\n",
      "After loading prompt 55, number of tensors: 366\n",
      "After loading prompt 56, number of tensors: 366\n",
      "After loading prompt 57, number of tensors: 366\n",
      "After loading prompt 58, number of tensors: 366\n",
      "After loading prompt 59, number of tensors: 366\n",
      "After loading prompt 60, number of tensors: 366\n",
      "After loading prompt 61, number of tensors: 366\n",
      "After loading prompt 62, number of tensors: 366\n",
      "After loading prompt 63, number of tensors: 366\n",
      "After loading prompt 64, number of tensors: 366\n",
      "After loading prompt 65, number of tensors: 366\n",
      "After loading prompt 66, number of tensors: 366\n",
      "After loading prompt 67, number of tensors: 366\n",
      "After loading prompt 68, number of tensors: 366\n",
      "After loading prompt 69, number of tensors: 366\n",
      "After loading prompt 70, number of tensors: 366\n",
      "After loading prompt 71, number of tensors: 366\n",
      "After loading prompt 72, number of tensors: 366\n",
      "After loading prompt 73, number of tensors: 366\n",
      "After loading prompt 74, number of tensors: 366\n",
      "After loading prompt 75, number of tensors: 366\n",
      "After loading prompt 76, number of tensors: 366\n",
      "After loading prompt 77, number of tensors: 366\n",
      "After loading prompt 78, number of tensors: 366\n",
      "After loading prompt 79, number of tensors: 366\n",
      "After loading prompt 80, number of tensors: 366\n",
      "After loading prompt 81, number of tensors: 366\n",
      "After loading prompt 82, number of tensors: 366\n",
      "After loading prompt 83, number of tensors: 366\n",
      "After loading prompt 84, number of tensors: 366\n",
      "After loading prompt 85, number of tensors: 366\n",
      "After loading prompt 86, number of tensors: 366\n",
      "After loading prompt 87, number of tensors: 366\n",
      "After loading prompt 88, number of tensors: 366\n",
      "After loading prompt 89, number of tensors: 366\n",
      "After loading prompt 90, number of tensors: 366\n",
      "After loading prompt 91, number of tensors: 366\n",
      "After loading prompt 92, number of tensors: 366\n",
      "After loading prompt 93, number of tensors: 366\n",
      "After loading prompt 94, number of tensors: 366\n",
      "After loading prompt 95, number of tensors: 366\n",
      "After loading prompt 96, number of tensors: 366\n",
      "After loading prompt 97, number of tensors: 366\n",
      "After loading prompt 98, number of tensors: 366\n",
      "After loading prompt 99, number of tensors: 366\n",
      "After loading prompt 0, number of tensors: 366\n",
      "After loading prompt 1, number of tensors: 366\n",
      "After loading prompt 2, number of tensors: 366\n",
      "After loading prompt 3, number of tensors: 366\n",
      "After loading prompt 4, number of tensors: 366\n",
      "After loading prompt 5, number of tensors: 366\n",
      "After loading prompt 6, number of tensors: 366\n",
      "After loading prompt 7, number of tensors: 366\n",
      "After loading prompt 8, number of tensors: 366\n",
      "After loading prompt 9, number of tensors: 366\n",
      "After loading prompt 10, number of tensors: 366\n",
      "After loading prompt 11, number of tensors: 366\n",
      "After loading prompt 12, number of tensors: 366\n",
      "After loading prompt 13, number of tensors: 366\n",
      "After loading prompt 14, number of tensors: 366\n",
      "After loading prompt 15, number of tensors: 366\n",
      "After loading prompt 16, number of tensors: 366\n",
      "After loading prompt 17, number of tensors: 366\n",
      "After loading prompt 18, number of tensors: 366\n",
      "After loading prompt 19, number of tensors: 366\n",
      "After loading prompt 20, number of tensors: 366\n",
      "After loading prompt 21, number of tensors: 366\n",
      "After loading prompt 22, number of tensors: 366\n",
      "After loading prompt 23, number of tensors: 366\n",
      "After loading prompt 24, number of tensors: 366\n",
      "After loading prompt 25, number of tensors: 366\n",
      "After loading prompt 26, number of tensors: 366\n",
      "After loading prompt 27, number of tensors: 366\n",
      "After loading prompt 28, number of tensors: 366\n",
      "After loading prompt 29, number of tensors: 366\n",
      "After loading prompt 30, number of tensors: 366\n",
      "After loading prompt 31, number of tensors: 366\n",
      "After loading prompt 32, number of tensors: 366\n",
      "After loading prompt 33, number of tensors: 366\n",
      "After loading prompt 34, number of tensors: 366\n",
      "After loading prompt 35, number of tensors: 366\n",
      "After loading prompt 36, number of tensors: 366\n",
      "After loading prompt 37, number of tensors: 366\n",
      "After loading prompt 38, number of tensors: 366\n",
      "After loading prompt 39, number of tensors: 366\n",
      "After loading prompt 40, number of tensors: 366\n",
      "After loading prompt 41, number of tensors: 366\n",
      "After loading prompt 42, number of tensors: 366\n",
      "After loading prompt 43, number of tensors: 366\n",
      "After loading prompt 44, number of tensors: 366\n",
      "After loading prompt 45, number of tensors: 366\n",
      "After loading prompt 46, number of tensors: 366\n",
      "After loading prompt 47, number of tensors: 366\n",
      "After loading prompt 48, number of tensors: 366\n",
      "After loading prompt 49, number of tensors: 366\n",
      "After loading prompt 50, number of tensors: 366\n",
      "After loading prompt 51, number of tensors: 366\n",
      "After loading prompt 52, number of tensors: 366\n",
      "After loading prompt 53, number of tensors: 366\n",
      "After loading prompt 54, number of tensors: 366\n",
      "After loading prompt 55, number of tensors: 366\n",
      "After loading prompt 56, number of tensors: 366\n",
      "After loading prompt 57, number of tensors: 366\n",
      "After loading prompt 58, number of tensors: 366\n",
      "After loading prompt 59, number of tensors: 366\n",
      "After loading prompt 60, number of tensors: 366\n",
      "After loading prompt 61, number of tensors: 366\n",
      "After loading prompt 62, number of tensors: 366\n",
      "After loading prompt 63, number of tensors: 366\n",
      "After loading prompt 64, number of tensors: 366\n",
      "After loading prompt 65, number of tensors: 366\n",
      "After loading prompt 66, number of tensors: 366\n",
      "After loading prompt 67, number of tensors: 366\n",
      "After loading prompt 68, number of tensors: 366\n",
      "After loading prompt 69, number of tensors: 366\n",
      "After loading prompt 70, number of tensors: 366\n",
      "After loading prompt 71, number of tensors: 366\n",
      "After loading prompt 72, number of tensors: 366\n",
      "After loading prompt 73, number of tensors: 366\n",
      "After loading prompt 74, number of tensors: 366\n",
      "After loading prompt 75, number of tensors: 366\n",
      "After loading prompt 76, number of tensors: 366\n",
      "After loading prompt 77, number of tensors: 366\n",
      "After loading prompt 78, number of tensors: 366\n",
      "After loading prompt 79, number of tensors: 366\n",
      "After loading prompt 80, number of tensors: 366\n",
      "After loading prompt 81, number of tensors: 366\n",
      "After loading prompt 82, number of tensors: 366\n",
      "After loading prompt 83, number of tensors: 366\n",
      "After loading prompt 84, number of tensors: 366\n",
      "After loading prompt 85, number of tensors: 366\n",
      "After loading prompt 86, number of tensors: 366\n",
      "After loading prompt 87, number of tensors: 366\n",
      "After loading prompt 88, number of tensors: 366\n",
      "After loading prompt 89, number of tensors: 366\n",
      "After loading prompt 90, number of tensors: 366\n",
      "After loading prompt 91, number of tensors: 366\n",
      "After loading prompt 92, number of tensors: 366\n",
      "After loading prompt 93, number of tensors: 366\n",
      "After loading prompt 94, number of tensors: 366\n",
      "After loading prompt 95, number of tensors: 366\n",
      "After loading prompt 96, number of tensors: 366\n",
      "After loading prompt 97, number of tensors: 366\n",
      "After loading prompt 98, number of tensors: 366\n",
      "After loading prompt 99, number of tensors: 366\n"
     ]
    }
   ],
   "source": [
    "subj_embeddings_male = [embeddings_from_prompt_list(model, sublist, use_tqdm=False, print_tensors_count=True)\n",
    "                        for sublist in subj_prompts_male]\n",
    "subj_embeddings_female = [embeddings_from_prompt_list(model, sublist, use_tqdm=False, print_tensors_count=True)\n",
    "                        for sublist in subj_prompts_female]"
   ]
  },
  {
   "cell_type": "markdown",
   "id": "dba06ebc-c9a4-4e65-9b2d-c8f585974cbf",
   "metadata": {},
   "source": [
    "## LayerNorm $W$ variance"
   ]
  },
  {
   "cell_type": "code",
   "execution_count": 66,
   "id": "2a0a2c39-2d27-44e6-a8eb-00c59c0c346e",
   "metadata": {},
   "outputs": [
    {
     "data": {
      "text/plain": [
       "0.007827168"
      ]
     },
     "execution_count": 66,
     "metadata": {},
     "output_type": "execute_result"
    }
   ],
   "source": [
    "variances = []\n",
    "for layer in model.transformer.h:\n",
    "    variances.append(layer.ln_1.weight.detach().cpu().numpy().var())\n",
    "    variances.append(layer.ln_2.weight.detach().cpu().numpy().var())\n",
    "variances.append(model.transformer.ln_f.weight.detach().cpu().numpy().var())\n",
    "np.mean(variances)"
   ]
  },
  {
   "cell_type": "code",
   "execution_count": 97,
   "id": "86cdd0a9-63db-4c15-b4b4-54398268a2af",
   "metadata": {},
   "outputs": [
    {
     "data": {
      "text/plain": [
       "368.2572"
      ]
     },
     "execution_count": 97,
     "metadata": {},
     "output_type": "execute_result"
    }
   ],
   "source": [
    "np.mean([np.linalg.norm(subj_embeddings_female[0]['layers'][1]['ln_2_in'][0], axis=1)])"
   ]
  },
  {
   "cell_type": "code",
   "execution_count": 91,
   "id": "c6767f0e-aab2-477f-8561-c07215b46e95",
   "metadata": {},
   "outputs": [
    {
     "data": {
      "text/plain": [
       "1.0538908"
      ]
     },
     "execution_count": 91,
     "metadata": {},
     "output_type": "execute_result"
    }
   ],
   "source": [
    "np.abs(subj_embeddings_female[0]['layers'][1]['ln_2_in']).mean()"
   ]
  },
  {
   "cell_type": "code",
   "execution_count": 77,
   "id": "ffcade58-f520-4f97-a5ae-b92ea78aa105",
   "metadata": {},
   "outputs": [
    {
     "data": {
      "text/plain": [
       "array([5.2019696, 3.9285078, 2.6398177, 3.7392533, 2.7157164, 3.0362577,\n",
       "       4.078494 , 2.5403502, 3.649878 , 3.7672796], dtype=float32)"
      ]
     },
     "execution_count": 77,
     "metadata": {},
     "output_type": "execute_result"
    }
   ],
   "source": [
    "ln_1_norms[2]"
   ]
  },
  {
   "cell_type": "code",
   "execution_count": 79,
   "id": "a4a6fb18-3fcc-4c3c-a0ed-5b3c1e727408",
   "metadata": {},
   "outputs": [],
   "source": [
    "all_norms = []\n",
    "for layer in range(len(model.transformer.h)):\n",
    "    ln_1_norms = []\n",
    "    ln_2_norms = []\n",
    "    for i in range(len(subj_embeddings_female)):\n",
    "        for j in range(3):\n",
    "            ln_1_norms.append(np.linalg.norm(subj_embeddings_female[j][i]['layers'][layer]['ln_1_in'][0], axis=1))\n",
    "            ln_1_norms.append(np.linalg.norm(subj_embeddings_male[j][i]['layers'][layer]['ln_1_in'][0], axis=1))\n",
    "            ln_2_norms.append(np.linalg.norm(subj_embeddings_female[j][i]['layers'][layer]['ln_2_in'][0], axis=1))\n",
    "            ln_2_norms.append(np.linalg.norm(subj_embeddings_male[j][i]['layers'][layer]['ln_2_in'][0], axis=1))\n",
    "    all_norms.append(np.mean(np.concatenate(ln_1_norms)))\n",
    "    all_norms.append(np.mean(np.concatenate(ln_2_norms)))\n",
    "ln_f_norms = []\n",
    "for i in range(len(subj_embeddings_female)):\n",
    "    for j in range(3):\n",
    "        ln_f_norms.append(np.linalg.norm(subj_embeddings_female[j][i]['ln_f_in'][0], axis=1))\n",
    "        ln_f_norms.append(np.linalg.norm(subj_embeddings_male[j][i]['ln_f_in'][0], axis=1))\n",
    "all_norms.append(np.mean(np.concatenate(ln_f_norms)))"
   ]
  },
  {
   "cell_type": "code",
   "execution_count": 81,
   "id": "66063ef4-ed87-4324-a3ea-a2d379325fe0",
   "metadata": {},
   "outputs": [
    {
     "data": {
      "image/png": "[encoded data removed]",
      "text/plain": [
       "<Figure size 640x480 with 1 Axes>"
      ]
     },
     "metadata": {},
     "output_type": "display_data"
    }
   ],
   "source": [
    "fig = plt.figure()\n",
    "plt.title(\"Mean norms of inputs to LayerNorm\")\n",
    "plt.xlabel(\"Layer\")\n",
    "plt.ylabel(\"Norm\")\n",
    "plt.plot(np.arange(0,24.5,0.5), all_norms, marker='o')\n",
    "plt.show()\n",
    "fig.savefig(\"layernorm_norms.pdf\", bbox_inches='tight')"
   ]
  },
  {
   "cell_type": "code",
   "execution_count": 65,
   "id": "5ef79ba8-6ee3-441b-9b8d-fc13722a4547",
   "metadata": {},
   "outputs": [],
   "source": [
    "mean_entries = []\n",
    "for layer in range(len(model.transformer.h)):\n",
    "    ln_1_norms = []\n",
    "    ln_2_norms = []\n",
    "    for i in range(len(subj_embeddings_female)):\n",
    "        for j in range(3):\n",
    "            ln_1_norms.append(np.mean(np.abs(subj_embeddings_female[j][i]['layers'][layer]['ln_1_in'][0])))\n",
    "            ln_1_norms.append(np.mean(np.abs(subj_embeddings_male[j][i]['layers'][layer]['ln_1_in'][0])))\n",
    "            ln_2_norms.append(np.mean(np.abs(subj_embeddings_female[j][i]['layers'][layer]['ln_2_in'][0])))\n",
    "            ln_2_norms.append(np.mean(np.abs(subj_embeddings_male[j][i]['layers'][layer]['ln_2_in'][0])))\n",
    "    mean_entries.append(np.mean(ln_1_norms))\n",
    "    mean_entries.append(np.mean(ln_2_norms))\n",
    "ln_f_norms = []\n",
    "for i in range(len(subj_embeddings_female)):\n",
    "    for j in range(3):\n",
    "        ln_f_norms.append(np.mean(np.abs(subj_embeddings_female[j][i]['ln_f_in'][0])))\n",
    "        ln_f_norms.append(np.mean(np.abs(subj_embeddings_male[j][i]['ln_f_in'][0])))\n",
    "mean_entries.append(np.mean(ln_f_norms))"
   ]
  },
  {
   "cell_type": "code",
   "execution_count": 67,
   "id": "d58b87d8-2eb4-4564-ba5d-f805996645b4",
   "metadata": {},
   "outputs": [],
   "source": [
    "variance_to_mean_entry_ratio = np.array(variances)/np.array(mean_entries)"
   ]
  },
  {
   "cell_type": "code",
   "execution_count": 82,
   "id": "98a76a03-215c-43e2-8cfa-62db40caccb0",
   "metadata": {},
   "outputs": [
    {
     "data": {
      "text/plain": [
       "0.07145301"
      ]
     },
     "execution_count": 82,
     "metadata": {},
     "output_type": "execute_result"
    }
   ],
   "source": [
    "variance_to_mean_entry_ratio[0]"
   ]
  },
  {
   "cell_type": "code",
   "execution_count": 83,
   "id": "201a11d8-e9ec-4b96-91fd-8d9c3f02fcfb",
   "metadata": {},
   "outputs": [
    {
     "data": {
      "image/png": "[encoded data removed]",
      "text/plain": [
       "<Figure size 640x480 with 1 Axes>"
      ]
     },
     "metadata": {},
     "output_type": "display_data"
    }
   ],
   "source": [
    "fig = plt.figure()\n",
    "plt.title(\"Ratio of LayerNorm weight entry variance to mean absolute embedding variance\")\n",
    "plt.ylabel(\"Ratio\")\n",
    "plt.xlabel(\"Layer\")\n",
    "plt.plot(np.arange(0,24.5,0.5), variance_to_mean_entry_ratio, marker='o')\n",
    "plt.show()\n",
    "fig.savefig(\"layernorm_variances.pdf\", bbox_inches='tight')"
   ]
  },
  {
   "cell_type": "markdown",
   "id": "ba662664-d6be-4f9c-aaaf-913eb325a770",
   "metadata": {},
   "source": [
    "## Accuracies of `ln_f` approximations across prompt groups"
   ]
  },
  {
   "cell_type": "code",
   "execution_count": 73,
   "id": "b83d6605-f93c-4fd0-8b37-c91dde7eb937",
   "metadata": {},
   "outputs": [
    {
     "name": "stdout",
     "output_type": "stream",
     "text": [
      "torch.Size([50257])\n"
     ]
    },
    {
     "name": "stderr",
     "output_type": "stream",
     "text": [
      "/tmp/ipykernel_24314/3127716323.py:23: UserWarning: The use of `x.T` on tensors of dimension other than 2 to reverse their shape is deprecated and it will throw an error in a future release. Consider `x.mT` to transpose batches of matrices or `x.permute(*torch.arange(x.ndim - 1, -1, -1))` to reverse the dimensions of a tensor. (Triggered internally at /opt/conda/conda-bld/pytorch_1682343997789/work/aten/src/ATen/native/TensorShape.cpp:3571.)\n",
      "  n = n.T.to(\"cuda\", dtype=torch.float32)\n"
     ]
    }
   ],
   "source": [
    "subj_range_normal = make_range_normal([' she'], [' he'])"
   ]
  },
  {
   "cell_type": "code",
   "execution_count": 128,
   "id": "e5420878-d1dc-420b-94a5-425e18b40720",
   "metadata": {},
   "outputs": [],
   "source": [
    "zeros = torch.zeros(subj_range_normal.shape).to(\"cuda\")"
   ]
  },
  {
   "cell_type": "markdown",
   "id": "97c707b0-c77e-4369-af47-4c9985146f4e",
   "metadata": {},
   "source": [
    "### Subject prompt group 0\n"
   ]
  },
  {
   "cell_type": "code",
   "execution_count": 137,
   "id": "6d3591de-cc4a-490a-acac-49b531a4aca3",
   "metadata": {},
   "outputs": [],
   "source": [
    "subj_ln_f_xpos_prompts0 = torch.from_numpy(\n",
    "    sum([x['ln_f_in'][:, -1, :] for x in subj_embeddings_female[0]])/len(subj_embeddings_female[0])\n",
    ").to(\"cuda\")[0]\n",
    "subj_ln_f_xneg_prompts0 = torch.from_numpy(\n",
    "    sum([x['ln_f_in'][:, -1, :] for x in subj_embeddings_male[0]])/len(subj_embeddings_female[0])\n",
    ").to(\"cuda\")[0]"
   ]
  },
  {
   "cell_type": "code",
   "execution_count": 143,
   "id": "6e7c912d-c79a-4be0-8553-d25ce4f340f3",
   "metadata": {},
   "outputs": [
    {
     "name": "stdout",
     "output_type": "stream",
     "text": [
      "Final loss: 7.581412830859335e-08\n",
      "Final t: tensor([0.4646], device='cuda:0', requires_grad=True)\n",
      "4.037406583279335e-06\n"
     ]
    }
   ],
   "source": [
    "subj_ln_f_affine_prompts0 = domain_boundary_intersection(subj_ln_f_xpos_prompts0, subj_ln_f_xneg_prompts0,\n",
    "                                                model.transformer.ln_f, subj_range_normal, zeros, lr=0.02, eps=0.0000001)\n",
    "subj_ln_f_normal_prompts0 = get_tangent_plane_given_point(subj_ln_f_affine_prompts0, model.transformer.ln_f, subj_range_normal, zeros)"
   ]
  },
  {
   "cell_type": "code",
   "execution_count": 142,
   "id": "b15538ba-f8e6-4e3b-9875-bde1e6b38e8b",
   "metadata": {},
   "outputs": [],
   "source": [
    "def mean_absolute_loss(f, embeddings_list, layer, sublayer, dom_normal, dom_affine, range_normal, range_affine, token=-1):\n",
    "    avg_diff_sum = 0\n",
    "    avg_diff_count = 0\n",
    "    for np_embeddings in embeddings_list:\n",
    "        embeddings = embeddings_np_to_torch(np_embeddings, free=False)\n",
    "        if layer is None:\n",
    "            my_point = embeddings[sublayer][:, token, :]\n",
    "        else:\n",
    "            my_point = embeddings['layers'][layer][sublayer][:, token, :]\n",
    "        with torch.no_grad():\n",
    "            avg_diff_sum += torch.abs(( (f(my_point) - range_affine) @ range_normal) - ((my_point-dom_affine) @ dom_normal)).item()\n",
    "        avg_diff_count += 1\n",
    "        free_embeddings(embeddings)\n",
    "    return avg_diff_sum/avg_diff_count"
   ]
  },
  {
   "cell_type": "code",
   "execution_count": 145,
   "id": "0800acf0-1ece-48a6-81ed-8ea45d4a1bb6",
   "metadata": {},
   "outputs": [
    {
     "data": {
      "text/plain": [
       "0.050001001358032225"
      ]
     },
     "execution_count": 145,
     "metadata": {},
     "output_type": "execute_result"
    }
   ],
   "source": [
    "mean_absolute_loss(model.transformer.ln_f, subj_embeddings_female[0]+subj_embeddings_male[0],\n",
    "                   None, 'ln_f_in', subj_ln_f_normal_prompts0, subj_ln_f_affine_prompts0, subj_range_normal, zeros, -1)"
   ]
  },
  {
   "cell_type": "markdown",
   "id": "d89d6c49-e55f-445a-9b7b-0327f9167c0e",
   "metadata": {},
   "source": [
    "The above means that for prompts in \"Subject Prompt Group 0\", the tangent plane that we found for Subject Prompt Group 0 has an average absolute error of 0.05 logits. Not bad!"
   ]
  },
  {
   "cell_type": "code",
   "execution_count": 146,
   "id": "944f9488-f58a-4f37-b44e-3a021d702488",
   "metadata": {},
   "outputs": [
    {
     "data": {
      "text/plain": [
       "0.2946632385253906"
      ]
     },
     "execution_count": 146,
     "metadata": {},
     "output_type": "execute_result"
    }
   ],
   "source": [
    "mean_absolute_loss(model.transformer.ln_f, subj_embeddings_female[1]+subj_embeddings_male[1],\n",
    "                   None, 'ln_f_in', subj_ln_f_normal_prompts0, subj_ln_f_affine_prompts0, subj_range_normal, zeros, -1)"
   ]
  },
  {
   "cell_type": "markdown",
   "id": "7c471eda-8b24-45ff-ab3e-1211be08c857",
   "metadata": {},
   "source": [
    "But for prompts in Subject Prompt Group 1, this jumps up to 0.295 logits."
   ]
  },
  {
   "cell_type": "code",
   "execution_count": 147,
   "id": "33a05454-8d71-4c5e-b0a5-32b9760a0a50",
   "metadata": {},
   "outputs": [
    {
     "data": {
      "text/plain": [
       "0.2518632411956787"
      ]
     },
     "execution_count": 147,
     "metadata": {},
     "output_type": "execute_result"
    }
   ],
   "source": [
    "mean_absolute_loss(model.transformer.ln_f, subj_embeddings_female[2]+subj_embeddings_male[2],\n",
    "                   None, 'ln_f_in', subj_ln_f_normal_prompts0, subj_ln_f_affine_prompts0, subj_range_normal, zeros, -1)"
   ]
  },
  {
   "cell_type": "markdown",
   "id": "ec982e6d-0c24-40d8-aaa6-242631668fc7",
   "metadata": {},
   "source": [
    "Suject Prompt Group 2. 0.252 logits."
   ]
  },
  {
   "cell_type": "markdown",
   "id": "f44b7176-76f5-4428-b815-99559e6a420f",
   "metadata": {},
   "source": [
    "### Subject prompt group 1"
   ]
  },
  {
   "cell_type": "code",
   "execution_count": 148,
   "id": "e0bdb62e-3323-4cfb-9923-269149a2b65b",
   "metadata": {},
   "outputs": [],
   "source": [
    "subj_ln_f_xpos_prompts1 = torch.from_numpy(\n",
    "    sum([x['ln_f_in'][:, -1, :] for x in subj_embeddings_female[1]])/len(subj_embeddings_female[1])\n",
    ").to(\"cuda\")[0]\n",
    "subj_ln_f_xneg_prompts1 = torch.from_numpy(\n",
    "    sum([x['ln_f_in'][:, -1, :] for x in subj_embeddings_male[1]])/len(subj_embeddings_female[1])\n",
    ").to(\"cuda\")[0]"
   ]
  },
  {
   "cell_type": "code",
   "execution_count": 149,
   "id": "9092f1c4-b46b-4133-a9ec-b5479d56d0c9",
   "metadata": {},
   "outputs": [
    {
     "name": "stdout",
     "output_type": "stream",
     "text": [
      "Final loss: 4.8557811993532596e-08\n",
      "Final t: tensor([0.5460], device='cuda:0', requires_grad=True)\n",
      "4.790950352884238e-06\n"
     ]
    }
   ],
   "source": [
    "subj_ln_f_affine_prompts1 = domain_boundary_intersection(subj_ln_f_xpos_prompts1, subj_ln_f_xneg_prompts1,\n",
    "                                                model.transformer.ln_f, subj_range_normal, zeros, lr=0.02, eps=0.0000001)\n",
    "subj_ln_f_normal_prompts1 = get_tangent_plane_given_point(subj_ln_f_affine_prompts1, model.transformer.ln_f, subj_range_normal, zeros)"
   ]
  },
  {
   "cell_type": "code",
   "execution_count": 150,
   "id": "37a09a4a-6e1b-47d9-9d78-79aa392a3a6f",
   "metadata": {},
   "outputs": [
    {
     "data": {
      "text/plain": [
       "0.1448301076889038"
      ]
     },
     "execution_count": 150,
     "metadata": {},
     "output_type": "execute_result"
    }
   ],
   "source": [
    "mean_absolute_loss(model.transformer.ln_f, subj_embeddings_female[0]+subj_embeddings_male[0],\n",
    "                   None, 'ln_f_in', subj_ln_f_normal_prompts1, subj_ln_f_affine_prompts1, subj_range_normal, zeros, -1)"
   ]
  },
  {
   "cell_type": "code",
   "execution_count": 151,
   "id": "49607ef7-550a-4abb-b7bb-f4fe47b44f9c",
   "metadata": {},
   "outputs": [
    {
     "data": {
      "text/plain": [
       "0.09488174915313721"
      ]
     },
     "execution_count": 151,
     "metadata": {},
     "output_type": "execute_result"
    }
   ],
   "source": [
    "mean_absolute_loss(model.transformer.ln_f, subj_embeddings_female[1]+subj_embeddings_male[1],\n",
    "                   None, 'ln_f_in', subj_ln_f_normal_prompts1, subj_ln_f_affine_prompts1, subj_range_normal, zeros, -1)"
   ]
  },
  {
   "cell_type": "code",
   "execution_count": 152,
   "id": "e06861b1-5962-4232-adc2-31edc81cad60",
   "metadata": {},
   "outputs": [
    {
     "data": {
      "text/plain": [
       "0.13128716945648194"
      ]
     },
     "execution_count": 152,
     "metadata": {},
     "output_type": "execute_result"
    }
   ],
   "source": [
    "mean_absolute_loss(model.transformer.ln_f, subj_embeddings_female[2]+subj_embeddings_male[2],\n",
    "                   None, 'ln_f_in', subj_ln_f_normal_prompts1, subj_ln_f_affine_prompts1, subj_range_normal, zeros, -1)"
   ]
  },
  {
   "cell_type": "markdown",
   "id": "adbb7fad-6c10-41c3-abcc-224fd2cda8a2",
   "metadata": {},
   "source": [
    "### Subject prompt group 2"
   ]
  },
  {
   "cell_type": "code",
   "execution_count": 153,
   "id": "f48e902b-3e29-4dfd-9e8a-492d3e1cf303",
   "metadata": {},
   "outputs": [],
   "source": [
    "subj_ln_f_xpos_prompts2 = torch.from_numpy(\n",
    "    sum([x['ln_f_in'][:, -1, :] for x in subj_embeddings_female[2]])/len(subj_embeddings_female[2])\n",
    ").to(\"cuda\")[0]\n",
    "subj_ln_f_xneg_prompts2 = torch.from_numpy(\n",
    "    sum([x['ln_f_in'][:, -1, :] for x in subj_embeddings_male[2]])/len(subj_embeddings_female[2])\n",
    ").to(\"cuda\")[0]"
   ]
  },
  {
   "cell_type": "code",
   "execution_count": 154,
   "id": "889bae93-7c66-4954-ab20-2e98bdee7436",
   "metadata": {},
   "outputs": [
    {
     "name": "stdout",
     "output_type": "stream",
     "text": [
      "Final loss: 6.809445096678246e-08\n",
      "Final t: tensor([0.4901], device='cuda:0', requires_grad=True)\n",
      "3.847786261701458e-05\n"
     ]
    }
   ],
   "source": [
    "subj_ln_f_affine_prompts2 = domain_boundary_intersection(subj_ln_f_xpos_prompts2, subj_ln_f_xneg_prompts2,\n",
    "                                                model.transformer.ln_f, subj_range_normal, zeros, lr=0.02, eps=0.0000001)\n",
    "subj_ln_f_normal_prompts2 = get_tangent_plane_given_point(subj_ln_f_affine_prompts2, model.transformer.ln_f, subj_range_normal, zeros)"
   ]
  },
  {
   "cell_type": "code",
   "execution_count": 155,
   "id": "ba947a6c-6f5e-40f4-b030-9a1835c0e0be",
   "metadata": {},
   "outputs": [
    {
     "data": {
      "text/plain": [
       "0.18031926155090333"
      ]
     },
     "execution_count": 155,
     "metadata": {},
     "output_type": "execute_result"
    }
   ],
   "source": [
    "mean_absolute_loss(model.transformer.ln_f, subj_embeddings_female[0]+subj_embeddings_male[0],\n",
    "                   None, 'ln_f_in', subj_ln_f_normal_prompts2, subj_ln_f_affine_prompts2, subj_range_normal, zeros, -1)"
   ]
  },
  {
   "cell_type": "code",
   "execution_count": 156,
   "id": "ce71063b-f6ee-49d1-8b65-21cfb7b3bc54",
   "metadata": {},
   "outputs": [
    {
     "data": {
      "text/plain": [
       "0.05655231475830078"
      ]
     },
     "execution_count": 156,
     "metadata": {},
     "output_type": "execute_result"
    }
   ],
   "source": [
    "mean_absolute_loss(model.transformer.ln_f, subj_embeddings_female[1]+subj_embeddings_male[1],\n",
    "                   None, 'ln_f_in', subj_ln_f_normal_prompts2, subj_ln_f_affine_prompts2, subj_range_normal, zeros, -1)"
   ]
  },
  {
   "cell_type": "code",
   "execution_count": 157,
   "id": "798bec07-dc39-4704-9272-57dc4f76a83d",
   "metadata": {},
   "outputs": [
    {
     "data": {
      "text/plain": [
       "0.05453193187713623"
      ]
     },
     "execution_count": 157,
     "metadata": {},
     "output_type": "execute_result"
    }
   ],
   "source": [
    "mean_absolute_loss(model.transformer.ln_f, subj_embeddings_female[2]+subj_embeddings_male[2],\n",
    "                   None, 'ln_f_in', subj_ln_f_normal_prompts2, subj_ln_f_affine_prompts2, subj_range_normal, zeros, -1)"
   ]
  },
  {
   "cell_type": "markdown",
   "id": "932fcea4-7f61-4cb1-a47c-c43b3a68f7bc",
   "metadata": {},
   "source": [
    "## Investigate feature vectors"
   ]
  },
  {
   "cell_type": "code",
   "execution_count": 167,
   "id": "e9f2eee7-bf84-4fc7-b334-b4f39cf148f0",
   "metadata": {},
   "outputs": [
    {
     "data": {
      "text/plain": [
       "0.9999997019767761"
      ]
     },
     "execution_count": 167,
     "metadata": {},
     "output_type": "execute_result"
    }
   ],
   "source": [
    "cossim(subj_ln_f_normal_prompts0, subj_ln_f_normal_prompts1).item()"
   ]
  },
  {
   "cell_type": "code",
   "execution_count": 169,
   "id": "99773617-d07b-4f1b-8376-3a96638c0562",
   "metadata": {},
   "outputs": [
    {
     "name": "stdout",
     "output_type": "stream",
     "text": [
      "Cossim 0 to 1 0.9999997019767761\n",
      "Cossim 1 to 2 0.9999980926513672\n",
      "Cossim 2 to 0 0.9999980330467224\n"
     ]
    }
   ],
   "source": [
    "print(\"Cossim 0 to 1\", cossim(subj_ln_f_normal_prompts0, subj_ln_f_normal_prompts1).item())\n",
    "print(\"Cossim 1 to 2\", cossim(subj_ln_f_normal_prompts1, subj_ln_f_normal_prompts2).item())\n",
    "print(\"Cossim 2 to 0\", cossim(subj_ln_f_normal_prompts0, subj_ln_f_normal_prompts2).item())"
   ]
  },
  {
   "cell_type": "code",
   "execution_count": 162,
   "id": "a59525cc-c016-427f-a3f6-0f1e5f5c90cc",
   "metadata": {},
   "outputs": [
    {
     "data": {
      "text/plain": [
       "(tensor(0.2662, device='cuda:0'),\n",
       " tensor(0.2571, device='cuda:0'),\n",
       " tensor(0.2554, device='cuda:0'))"
      ]
     },
     "execution_count": 162,
     "metadata": {},
     "output_type": "execute_result"
    }
   ],
   "source": [
    "torch.linalg.norm(subj_ln_f_normal_prompts0), torch.linalg.norm(subj_ln_f_normal_prompts1), torch.linalg.norm(subj_ln_f_normal_prompts2)"
   ]
  },
  {
   "cell_type": "markdown",
   "id": "454ded02-0996-46da-852a-07bcde1f2521",
   "metadata": {},
   "source": [
    "### 17.14"
   ]
  },
  {
   "cell_type": "code",
   "execution_count": 158,
   "id": "d882938d-8c66-4788-b3cd-70728fa250e4",
   "metadata": {},
   "outputs": [],
   "source": [
    "attn17_14_subj_normal_prompts0 = get_attn_normal(model, 17, 14, subj_ln_f_normal_prompts0)\n",
    "attn17_14_subj_normal_prompts1 = get_attn_normal(model, 17, 14, subj_ln_f_normal_prompts1)\n",
    "attn17_14_subj_normal_prompts2 = get_attn_normal(model, 17, 14, subj_ln_f_normal_prompts2)"
   ]
  },
  {
   "cell_type": "code",
   "execution_count": 159,
   "id": "a0cac3f2-7611-4b04-95cd-2864bd104a7b",
   "metadata": {},
   "outputs": [
    {
     "name": "stdout",
     "output_type": "stream",
     "text": [
      "Cosine similarity 0 to 1:  tensor(1., device='cuda:0', grad_fn=<DivBackward0>)\n",
      "Cosine similarity 1 to 2:  tensor(1.0000, device='cuda:0', grad_fn=<DivBackward0>)\n",
      "Cosine similarity 2 to 0:  tensor(1., device='cuda:0', grad_fn=<DivBackward0>)\n"
     ]
    }
   ],
   "source": [
    "print(\"Cosine similarity 0 to 1: \", cossim(attn17_14_subj_normal_prompts0, attn17_14_subj_normal_prompts1))\n",
    "print(\"Cosine similarity 1 to 2: \", cossim(attn17_14_subj_normal_prompts2, attn17_14_subj_normal_prompts1))\n",
    "print(\"Cosine similarity 2 to 0: \", cossim(attn17_14_subj_normal_prompts0, attn17_14_subj_normal_prompts2))"
   ]
  },
  {
   "cell_type": "code",
   "execution_count": 165,
   "id": "3397f7ef-cb53-4ca2-8d7b-0ffb19cfb8d6",
   "metadata": {},
   "outputs": [
    {
     "data": {
      "text/plain": [
       "(tensor(8.8101, device='cuda:0', grad_fn=<LinalgVectorNormBackward0>),\n",
       " tensor(8.5090, device='cuda:0', grad_fn=<LinalgVectorNormBackward0>),\n",
       " tensor(8.4536, device='cuda:0', grad_fn=<LinalgVectorNormBackward0>))"
      ]
     },
     "execution_count": 165,
     "metadata": {},
     "output_type": "execute_result"
    }
   ],
   "source": [
    "torch.linalg.norm(attn17_14_subj_normal_prompts0),\\\n",
    "torch.linalg.norm(attn17_14_subj_normal_prompts1),\\\n",
    "torch.linalg.norm(attn17_14_subj_normal_prompts2)"
   ]
  },
  {
   "cell_type": "code",
   "execution_count": 166,
   "id": "2128477e-7152-4dbc-9c7d-96f99c37604e",
   "metadata": {},
   "outputs": [
    {
     "name": "stdout",
     "output_type": "stream",
     "text": [
      "0, 1 coupling:  tensor(0.9658, device='cuda:0', grad_fn=<DivBackward0>)\n",
      "0, 2 coupling:  tensor(0.9595, device='cuda:0', grad_fn=<DivBackward0>)\n",
      "1, 2 coupling:  tensor(0.9935, device='cuda:0', grad_fn=<DivBackward0>)\n"
     ]
    }
   ],
   "source": [
    "print(\"0, 1 coupling: \", coupling_coeff(attn17_14_subj_normal_prompts0, attn17_14_subj_normal_prompts1))\n",
    "print(\"0, 2 coupling: \", coupling_coeff(attn17_14_subj_normal_prompts0, attn17_14_subj_normal_prompts2))\n",
    "print(\"1, 2 coupling: \", coupling_coeff(attn17_14_subj_normal_prompts1, attn17_14_subj_normal_prompts2))"
   ]
  }
 ],
 "metadata": {
  "kernelspec": {
   "display_name": "Python 3 (ipykernel)",
   "language": "python",
   "name": "python3"
  },
  "language_info": {
   "codemirror_mode": {
    "name": "ipython",
    "version": 3
   },
   "file_extension": ".py",
   "mimetype": "text/x-python",
   "name": "python",
   "nbconvert_exporter": "python",
   "pygments_lexer": "ipython3",
   "version": "3.9.16"
  }
 },
 "nbformat": 4,
 "nbformat_minor": 5
}
